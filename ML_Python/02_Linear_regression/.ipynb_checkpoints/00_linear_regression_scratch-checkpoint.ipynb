{
 "cells": [
  {
   "cell_type": "code",
   "execution_count": 1,
   "metadata": {
    "collapsed": true
   },
   "outputs": [],
   "source": [
    "import numpy as np\n",
    "import pandas as pd\n",
    "import matplotlib.pyplot as plt\n",
    "from mpl_toolkits.mplot3d import Axes3D\n",
    "%matplotlib inline\n",
    "\n",
    "import random\n",
    "from sklearn.linear_model import LinearRegression"
   ]
  },
  {
   "cell_type": "markdown",
   "metadata": {},
   "source": [
    "# 1. Linear regression with 1-dimensional input"
   ]
  },
  {
   "cell_type": "markdown",
   "metadata": {},
   "source": [
    "## 1-1. Making an artificial dataset"
   ]
  },
  {
   "cell_type": "code",
   "execution_count": 2,
   "metadata": {},
   "outputs": [
    {
     "name": "stdout",
     "output_type": "stream",
     "text": [
      "[0, 1, 2, 3, 4, 5, 6, 7, 8, 9, 10, 11, 12, 13, 14, 15, 16, 17, 18, 19, 20, 21, 22, 23, 24, 25, 26, 27, 28, 29, 30, 31, 32, 33, 34, 35, 36, 37, 38, 39, 40, 41, 42, 43, 44, 45, 46, 47, 48, 49]\n"
     ]
    }
   ],
   "source": [
    "x = []\n",
    "for i in range(50):\n",
    "    x.append(i)\n",
    "\n",
    "print(x)"
   ]
  },
  {
   "cell_type": "code",
   "execution_count": 3,
   "metadata": {},
   "outputs": [
    {
     "name": "stdout",
     "output_type": "stream",
     "text": [
      "[0, 1, 2, 3, 4, 5, 6, 7, 8, 9, 10, 11, 12, 13, 14, 15, 16, 17, 18, 19, 20, 21, 22, 23, 24, 25, 26, 27, 28, 29, 30, 31, 32, 33, 34, 35, 36, 37, 38, 39, 40, 41, 42, 43, 44, 45, 46, 47, 48, 49]\n"
     ]
    }
   ],
   "source": [
    "# List Comprehension\n",
    "x = [i for i in range(50)]\n",
    "print(x)"
   ]
  },
  {
   "cell_type": "code",
   "execution_count": 4,
   "metadata": {},
   "outputs": [
    {
     "name": "stdout",
     "output_type": "stream",
     "text": [
      "[-11.587236242644112, 2.417878718908975, -13.542036142308714, -13.450637476844378, 7.626576358723815, 20.87968292176536, 17.534243403137186, 9.3809955166985, 30.6739939728812, 20.998476625183685, 39.340110198326016, 13.8380590966585, 27.700718109543487, 28.4932542075205, 38.15839414071519, 28.94057610234437, 19.40007592540258, 49.21037340336461, 45.193734569944056, 40.84745821559257, 35.297868660918105, 47.40466307796755, 29.793722488848267, 54.48293570747283, 56.24569105329983, 53.85875255489208, 51.056239497452154, 48.28516942316761, 65.66817003508203, 44.22169916582452, 57.67927962231968, 57.42439737452245, 48.17747334271372, 57.20616693745495, 83.91050180369525, 74.44529379897516, 65.8503725622472, 70.4457798171094, 57.58401469358857, 73.24011497817226, 76.00054138695577, 95.4130509631114, 97.03969473404621, 73.56406438671672, 90.2944702712479, 99.53512559698761, 89.67891647599555, 103.57486191031558, 97.64377863762385, 124.84613838902365]\n"
     ]
    }
   ],
   "source": [
    "y = [2 * j + random.normalvariate(0,10) for j in range(50)]\n",
    "print(y)"
   ]
  },
  {
   "cell_type": "code",
   "execution_count": 5,
   "metadata": {
    "scrolled": false
   },
   "outputs": [
    {
     "data": {
      "image/png": "[encoded data removed]",
      "text/plain": [
       "<matplotlib.figure.Figure at 0x11bcea278>"
      ]
     },
     "metadata": {},
     "output_type": "display_data"
    }
   ],
   "source": [
    "plt.scatter(x,y)\n",
    "plt.xlabel('input variable X')\n",
    "plt.ylabel('output variable Y')\n",
    "plt.title('artificial dataset')\n",
    "plt.show()"
   ]
  },
  {
   "cell_type": "markdown",
   "metadata": {},
   "source": [
    "## 1-2. Linear regression from scratch"
   ]
  },
  {
   "cell_type": "code",
   "execution_count": 6,
   "metadata": {
    "collapsed": true
   },
   "outputs": [],
   "source": [
    "def mean(values):\n",
    "    return sum(values) / len(values)"
   ]
  },
  {
   "cell_type": "code",
   "execution_count": 7,
   "metadata": {
    "collapsed": true
   },
   "outputs": [],
   "source": [
    "def beta(x, y):\n",
    "    # Calculate beta_1\n",
    "    covariance = 0\n",
    "    variance_x = 0\n",
    "    num_points = len(x)\n",
    "    for i in range(num_points):\n",
    "        covariance += (x[i] - mean(x)) * (y[i] - mean(y))\n",
    "        variance_x += pow(x[i] - mean(x), 2)\n",
    "    # covariance = covariance / num_points\n",
    "    # variance_x = variance_x / num_points\n",
    "    beta_1 = covariance / variance_x\n",
    "    \n",
    "    # Calculate beta_0\n",
    "    beta_0 = mean(y) - beta_1 * mean(x)\n",
    "    \n",
    "    return [beta_0, beta_1]"
   ]
  },
  {
   "cell_type": "code",
   "execution_count": 8,
   "metadata": {},
   "outputs": [
    {
     "name": "stdout",
     "output_type": "stream",
     "text": [
      "[-1.5163089016146216, 2.0879502743293]\n"
     ]
    }
   ],
   "source": [
    "beta_v1 = beta(x, y)\n",
    "print(beta_v1)"
   ]
  },
  {
   "cell_type": "markdown",
   "metadata": {},
   "source": [
    "## 1-3. Linear regression using numpy"
   ]
  },
  {
   "cell_type": "code",
   "execution_count": 9,
   "metadata": {},
   "outputs": [
    {
     "data": {
      "text/plain": [
       "434.81564462907681"
      ]
     },
     "execution_count": 9,
     "metadata": {},
     "output_type": "execute_result"
    }
   ],
   "source": [
    "np.cov(x, y, ddof = 0)[0,1]"
   ]
  },
  {
   "cell_type": "code",
   "execution_count": 10,
   "metadata": {},
   "outputs": [
    {
     "name": "stdout",
     "output_type": "stream",
     "text": [
      "[-1.5163089016146358, 2.0879502743293004]\n"
     ]
    }
   ],
   "source": [
    "beta_1 = np.cov(x, y, ddof = 0)[0,1] / np.var(x)\n",
    "beta_0 = np.mean(y) - beta_1 * np.mean(x)\n",
    "beta_v2 = [beta_0, beta_1]\n",
    "print(beta_v2)"
   ]
  },
  {
   "cell_type": "code",
   "execution_count": 11,
   "metadata": {},
   "outputs": [
    {
     "name": "stdout",
     "output_type": "stream",
     "text": [
      "[-1.5163089016146216, 2.0879502743293]\n",
      "[-1.5163089016146358, 2.0879502743293004]\n"
     ]
    }
   ],
   "source": [
    "print(beta_v1)\n",
    "print(beta_v2)"
   ]
  },
  {
   "cell_type": "markdown",
   "metadata": {},
   "source": [
    "## 1-4. Linear regression using scikit-learn"
   ]
  },
  {
   "cell_type": "code",
   "execution_count": 12,
   "metadata": {},
   "outputs": [
    {
     "name": "stdout",
     "output_type": "stream",
     "text": [
      "<class 'list'>\n",
      "<class 'list'>\n"
     ]
    }
   ],
   "source": [
    "print(type(x))\n",
    "print(type(y))"
   ]
  },
  {
   "cell_type": "code",
   "execution_count": 13,
   "metadata": {},
   "outputs": [
    {
     "name": "stdout",
     "output_type": "stream",
     "text": [
      "<class 'numpy.ndarray'>\n",
      "<class 'numpy.ndarray'>\n"
     ]
    }
   ],
   "source": [
    "train_x = np.array(x)\n",
    "train_y = np.array(y)\n",
    "\n",
    "print(type(train_x))\n",
    "print(type(train_y))"
   ]
  },
  {
   "cell_type": "code",
   "execution_count": 14,
   "metadata": {
    "scrolled": true
   },
   "outputs": [
    {
     "name": "stdout",
     "output_type": "stream",
     "text": [
      "[0, 1, 2, 3, 4, 5, 6, 7, 8, 9, 10, 11, 12, 13, 14, 15, 16, 17, 18, 19, 20, 21, 22, 23, 24, 25, 26, 27, 28, 29, 30, 31, 32, 33, 34, 35, 36, 37, 38, 39, 40, 41, 42, 43, 44, 45, 46, 47, 48, 49]\n",
      "[ 0  1  2  3  4  5  6  7  8  9 10 11 12 13 14 15 16 17 18 19 20 21 22 23 24\n",
      " 25 26 27 28 29 30 31 32 33 34 35 36 37 38 39 40 41 42 43 44 45 46 47 48 49]\n"
     ]
    }
   ],
   "source": [
    "print(x)\n",
    "print(train_x)"
   ]
  },
  {
   "cell_type": "code",
   "execution_count": 15,
   "metadata": {
    "scrolled": true
   },
   "outputs": [
    {
     "name": "stderr",
     "output_type": "stream",
     "text": [
      "/Users/kth/anaconda3/envs/ml_edu/lib/python3.5/site-packages/sklearn/utils/validation.py:395: DeprecationWarning: Passing 1d arrays as data is deprecated in 0.17 and will raise ValueError in 0.19. Reshape your data either using X.reshape(-1, 1) if your data has a single feature or X.reshape(1, -1) if it contains a single sample.\n",
      "  DeprecationWarning)\n"
     ]
    },
    {
     "ename": "ValueError",
     "evalue": "Found input variables with inconsistent numbers of samples: [1, 50]",
     "output_type": "error",
     "traceback": [
      "\u001b[0;31m---------------------------------------------------------------------------\u001b[0m",
      "\u001b[0;31mValueError\u001b[0m                                Traceback (most recent call last)",
      "\u001b[0;32m<ipython-input-15-27aafe39a83e>\u001b[0m in \u001b[0;36m<module>\u001b[0;34m()\u001b[0m\n\u001b[1;32m      1\u001b[0m \u001b[0;31m# What happened?\u001b[0m\u001b[0;34m\u001b[0m\u001b[0;34m\u001b[0m\u001b[0m\n\u001b[1;32m      2\u001b[0m \u001b[0mmodel\u001b[0m \u001b[0;34m=\u001b[0m \u001b[0mLinearRegression\u001b[0m\u001b[0;34m(\u001b[0m\u001b[0;34m)\u001b[0m\u001b[0;34m\u001b[0m\u001b[0m\n\u001b[0;32m----> 3\u001b[0;31m \u001b[0mmodel\u001b[0m\u001b[0;34m.\u001b[0m\u001b[0mfit\u001b[0m\u001b[0;34m(\u001b[0m\u001b[0mtrain_x\u001b[0m\u001b[0;34m,\u001b[0m \u001b[0mtrain_y\u001b[0m\u001b[0;34m)\u001b[0m\u001b[0;34m\u001b[0m\u001b[0m\n\u001b[0m\u001b[1;32m      4\u001b[0m \u001b[0mprint\u001b[0m\u001b[0;34m(\u001b[0m\u001b[0mmodel\u001b[0m\u001b[0;34m.\u001b[0m\u001b[0mcoef_\u001b[0m\u001b[0;34m)\u001b[0m\u001b[0;34m\u001b[0m\u001b[0m\n\u001b[1;32m      5\u001b[0m \u001b[0mprint\u001b[0m\u001b[0;34m(\u001b[0m\u001b[0mmodel\u001b[0m\u001b[0;34m.\u001b[0m\u001b[0mintercept_\u001b[0m\u001b[0;34m)\u001b[0m\u001b[0;34m\u001b[0m\u001b[0m\n",
      "\u001b[0;32m~/anaconda3/envs/ml_edu/lib/python3.5/site-packages/sklearn/linear_model/base.py\u001b[0m in \u001b[0;36mfit\u001b[0;34m(self, X, y, sample_weight)\u001b[0m\n\u001b[1;32m    510\u001b[0m         \u001b[0mn_jobs_\u001b[0m \u001b[0;34m=\u001b[0m \u001b[0mself\u001b[0m\u001b[0;34m.\u001b[0m\u001b[0mn_jobs\u001b[0m\u001b[0;34m\u001b[0m\u001b[0m\n\u001b[1;32m    511\u001b[0m         X, y = check_X_y(X, y, accept_sparse=['csr', 'csc', 'coo'],\n\u001b[0;32m--> 512\u001b[0;31m                          y_numeric=True, multi_output=True)\n\u001b[0m\u001b[1;32m    513\u001b[0m \u001b[0;34m\u001b[0m\u001b[0m\n\u001b[1;32m    514\u001b[0m         \u001b[0;32mif\u001b[0m \u001b[0msample_weight\u001b[0m \u001b[0;32mis\u001b[0m \u001b[0;32mnot\u001b[0m \u001b[0;32mNone\u001b[0m \u001b[0;32mand\u001b[0m \u001b[0mnp\u001b[0m\u001b[0;34m.\u001b[0m\u001b[0matleast_1d\u001b[0m\u001b[0;34m(\u001b[0m\u001b[0msample_weight\u001b[0m\u001b[0;34m)\u001b[0m\u001b[0;34m.\u001b[0m\u001b[0mndim\u001b[0m \u001b[0;34m>\u001b[0m \u001b[0;36m1\u001b[0m\u001b[0;34m:\u001b[0m\u001b[0;34m\u001b[0m\u001b[0m\n",
      "\u001b[0;32m~/anaconda3/envs/ml_edu/lib/python3.5/site-packages/sklearn/utils/validation.py\u001b[0m in \u001b[0;36mcheck_X_y\u001b[0;34m(X, y, accept_sparse, dtype, order, copy, force_all_finite, ensure_2d, allow_nd, multi_output, ensure_min_samples, ensure_min_features, y_numeric, warn_on_dtype, estimator)\u001b[0m\n\u001b[1;32m    529\u001b[0m         \u001b[0my\u001b[0m \u001b[0;34m=\u001b[0m \u001b[0my\u001b[0m\u001b[0;34m.\u001b[0m\u001b[0mastype\u001b[0m\u001b[0;34m(\u001b[0m\u001b[0mnp\u001b[0m\u001b[0;34m.\u001b[0m\u001b[0mfloat64\u001b[0m\u001b[0;34m)\u001b[0m\u001b[0;34m\u001b[0m\u001b[0m\n\u001b[1;32m    530\u001b[0m \u001b[0;34m\u001b[0m\u001b[0m\n\u001b[0;32m--> 531\u001b[0;31m     \u001b[0mcheck_consistent_length\u001b[0m\u001b[0;34m(\u001b[0m\u001b[0mX\u001b[0m\u001b[0;34m,\u001b[0m \u001b[0my\u001b[0m\u001b[0;34m)\u001b[0m\u001b[0;34m\u001b[0m\u001b[0m\n\u001b[0m\u001b[1;32m    532\u001b[0m \u001b[0;34m\u001b[0m\u001b[0m\n\u001b[1;32m    533\u001b[0m     \u001b[0;32mreturn\u001b[0m \u001b[0mX\u001b[0m\u001b[0;34m,\u001b[0m \u001b[0my\u001b[0m\u001b[0;34m\u001b[0m\u001b[0m\n",
      "\u001b[0;32m~/anaconda3/envs/ml_edu/lib/python3.5/site-packages/sklearn/utils/validation.py\u001b[0m in \u001b[0;36mcheck_consistent_length\u001b[0;34m(*arrays)\u001b[0m\n\u001b[1;32m    179\u001b[0m     \u001b[0;32mif\u001b[0m \u001b[0mlen\u001b[0m\u001b[0;34m(\u001b[0m\u001b[0muniques\u001b[0m\u001b[0;34m)\u001b[0m \u001b[0;34m>\u001b[0m \u001b[0;36m1\u001b[0m\u001b[0;34m:\u001b[0m\u001b[0;34m\u001b[0m\u001b[0m\n\u001b[1;32m    180\u001b[0m         raise ValueError(\"Found input variables with inconsistent numbers of\"\n\u001b[0;32m--> 181\u001b[0;31m                          \" samples: %r\" % [int(l) for l in lengths])\n\u001b[0m\u001b[1;32m    182\u001b[0m \u001b[0;34m\u001b[0m\u001b[0m\n\u001b[1;32m    183\u001b[0m \u001b[0;34m\u001b[0m\u001b[0m\n",
      "\u001b[0;31mValueError\u001b[0m: Found input variables with inconsistent numbers of samples: [1, 50]"
     ]
    }
   ],
   "source": [
    "# What happened?\n",
    "model = LinearRegression()\n",
    "model.fit(train_x, train_y)\n",
    "print(model.coef_)\n",
    "print(model.intercept_)"
   ]
  },
  {
   "cell_type": "code",
   "execution_count": 16,
   "metadata": {
    "scrolled": true
   },
   "outputs": [
    {
     "data": {
      "text/plain": [
       "array([ 0,  1,  2,  3,  4,  5,  6,  7,  8,  9, 10, 11, 12, 13, 14, 15, 16,\n",
       "       17, 18, 19, 20, 21, 22, 23, 24, 25, 26, 27, 28, 29, 30, 31, 32, 33,\n",
       "       34, 35, 36, 37, 38, 39, 40, 41, 42, 43, 44, 45, 46, 47, 48, 49])"
      ]
     },
     "execution_count": 16,
     "metadata": {},
     "output_type": "execute_result"
    }
   ],
   "source": [
    "train_x"
   ]
  },
  {
   "cell_type": "code",
   "execution_count": 17,
   "metadata": {},
   "outputs": [
    {
     "name": "stdout",
     "output_type": "stream",
     "text": [
      "[[ 0]\n",
      " [ 1]\n",
      " [ 2]\n",
      " [ 3]\n",
      " [ 4]\n",
      " [ 5]\n",
      " [ 6]\n",
      " [ 7]\n",
      " [ 8]\n",
      " [ 9]\n",
      " [10]\n",
      " [11]\n",
      " [12]\n",
      " [13]\n",
      " [14]\n",
      " [15]\n",
      " [16]\n",
      " [17]\n",
      " [18]\n",
      " [19]\n",
      " [20]\n",
      " [21]\n",
      " [22]\n",
      " [23]\n",
      " [24]\n",
      " [25]\n",
      " [26]\n",
      " [27]\n",
      " [28]\n",
      " [29]\n",
      " [30]\n",
      " [31]\n",
      " [32]\n",
      " [33]\n",
      " [34]\n",
      " [35]\n",
      " [36]\n",
      " [37]\n",
      " [38]\n",
      " [39]\n",
      " [40]\n",
      " [41]\n",
      " [42]\n",
      " [43]\n",
      " [44]\n",
      " [45]\n",
      " [46]\n",
      " [47]\n",
      " [48]\n",
      " [49]]\n"
     ]
    }
   ],
   "source": [
    "test = train_x.reshape(-1,1)\n",
    "print(test)"
   ]
  },
  {
   "cell_type": "code",
   "execution_count": 18,
   "metadata": {},
   "outputs": [
    {
     "data": {
      "text/plain": [
       "LinearRegression(copy_X=True, fit_intercept=True, n_jobs=1, normalize=False)"
      ]
     },
     "execution_count": 18,
     "metadata": {},
     "output_type": "execute_result"
    }
   ],
   "source": [
    "model = LinearRegression()\n",
    "model.fit(train_x.reshape(-1, 1), train_y)"
   ]
  },
  {
   "cell_type": "code",
   "execution_count": 19,
   "metadata": {
    "collapsed": true
   },
   "outputs": [],
   "source": [
    "?LinearRegression"
   ]
  },
  {
   "cell_type": "code",
   "execution_count": 20,
   "metadata": {
    "scrolled": true
   },
   "outputs": [
    {
     "data": {
      "text/plain": [
       "-1.5163089016146358"
      ]
     },
     "execution_count": 20,
     "metadata": {},
     "output_type": "execute_result"
    }
   ],
   "source": [
    "model.intercept_"
   ]
  },
  {
   "cell_type": "code",
   "execution_count": 21,
   "metadata": {
    "scrolled": true
   },
   "outputs": [
    {
     "data": {
      "text/plain": [
       "array([ 2.08795027])"
      ]
     },
     "execution_count": 21,
     "metadata": {},
     "output_type": "execute_result"
    }
   ],
   "source": [
    "model.coef_"
   ]
  },
  {
   "cell_type": "code",
   "execution_count": 22,
   "metadata": {},
   "outputs": [
    {
     "data": {
      "text/plain": [
       "2.0879502743293004"
      ]
     },
     "execution_count": 22,
     "metadata": {},
     "output_type": "execute_result"
    }
   ],
   "source": [
    "model.coef_[0]"
   ]
  },
  {
   "cell_type": "code",
   "execution_count": 23,
   "metadata": {},
   "outputs": [
    {
     "name": "stdout",
     "output_type": "stream",
     "text": [
      "[-1.5163089016146358, 2.0879502743293004]\n"
     ]
    }
   ],
   "source": [
    "beta_v3 = [model.intercept_, model.coef_[0]]\n",
    "print(beta_v3)"
   ]
  },
  {
   "cell_type": "markdown",
   "metadata": {},
   "source": [
    "## 1-5. Compare results and visualize the regression line"
   ]
  },
  {
   "cell_type": "code",
   "execution_count": 24,
   "metadata": {},
   "outputs": [
    {
     "name": "stdout",
     "output_type": "stream",
     "text": [
      "LR_v1:\t [-1.5163089016146216, 2.0879502743293]\n",
      "LR_v2:\t [-1.5163089016146358, 2.0879502743293004]\n",
      "LR_v3:\t [-1.5163089016146358, 2.0879502743293004]\n"
     ]
    }
   ],
   "source": [
    "print('LR_v1:\\t', beta_v1)\n",
    "print('LR_v2:\\t', beta_v2)\n",
    "print('LR_v3:\\t', beta_v3)"
   ]
  },
  {
   "cell_type": "code",
   "execution_count": 25,
   "metadata": {},
   "outputs": [
    {
     "data": {
      "image/png": "[encoded data removed]",
      "text/plain": [
       "<matplotlib.figure.Figure at 0x11f1af6d8>"
      ]
     },
     "metadata": {},
     "output_type": "display_data"
    }
   ],
   "source": [
    "plt.scatter(train_x, train_y, color = 'black', alpha = 0.3)\n",
    "plt.xlabel('input variable X')\n",
    "plt.ylabel('output variable Y')\n",
    "plt.title('artificial dataset')\n",
    "plt.plot(train_x, model.predict(train_x.reshape(-1, 1)), color = 'red', linewidth=3, linestyle = '--')\n",
    "plt.show()"
   ]
  },
  {
   "cell_type": "markdown",
   "metadata": {},
   "source": [
    "# 2. Linear regression with 2-dimensional input"
   ]
  },
  {
   "cell_type": "markdown",
   "metadata": {
    "collapsed": true
   },
   "source": [
    "## 2-1. Loading the \"advertising\" dataset\n",
    "- Advertising dataset from **\"An Introduction to Statistical Learning\"**\n",
    "- http://www-bcf.usc.edu/~gareth/ISL/"
   ]
  },
  {
   "cell_type": "code",
   "execution_count": 26,
   "metadata": {
    "collapsed": true
   },
   "outputs": [],
   "source": [
    "data = pd.read_csv('http://www-bcf.usc.edu/~gareth/ISL/Advertising.csv', index_col=0)"
   ]
  },
  {
   "cell_type": "code",
   "execution_count": 27,
   "metadata": {
    "scrolled": true
   },
   "outputs": [
    {
     "data": {
      "text/html": [
       "<div>\n",
       "<style>\n",
       "    .dataframe thead tr:only-child th {\n",
       "        text-align: right;\n",
       "    }\n",
       "\n",
       "    .dataframe thead th {\n",
       "        text-align: left;\n",
       "    }\n",
       "\n",
       "    .dataframe tbody tr th {\n",
       "        vertical-align: top;\n",
       "    }\n",
       "</style>\n",
       "<table border=\"1\" class=\"dataframe\">\n",
       "  <thead>\n",
       "    <tr style=\"text-align: right;\">\n",
       "      <th></th>\n",
       "      <th>TV</th>\n",
       "      <th>Radio</th>\n",
       "      <th>Newspaper</th>\n",
       "      <th>Sales</th>\n",
       "    </tr>\n",
       "  </thead>\n",
       "  <tbody>\n",
       "    <tr>\n",
       "      <th>1</th>\n",
       "      <td>230.1</td>\n",
       "      <td>37.8</td>\n",
       "      <td>69.2</td>\n",
       "      <td>22.1</td>\n",
       "    </tr>\n",
       "    <tr>\n",
       "      <th>2</th>\n",
       "      <td>44.5</td>\n",
       "      <td>39.3</td>\n",
       "      <td>45.1</td>\n",
       "      <td>10.4</td>\n",
       "    </tr>\n",
       "    <tr>\n",
       "      <th>3</th>\n",
       "      <td>17.2</td>\n",
       "      <td>45.9</td>\n",
       "      <td>69.3</td>\n",
       "      <td>9.3</td>\n",
       "    </tr>\n",
       "    <tr>\n",
       "      <th>4</th>\n",
       "      <td>151.5</td>\n",
       "      <td>41.3</td>\n",
       "      <td>58.5</td>\n",
       "      <td>18.5</td>\n",
       "    </tr>\n",
       "    <tr>\n",
       "      <th>5</th>\n",
       "      <td>180.8</td>\n",
       "      <td>10.8</td>\n",
       "      <td>58.4</td>\n",
       "      <td>12.9</td>\n",
       "    </tr>\n",
       "  </tbody>\n",
       "</table>\n",
       "</div>"
      ],
      "text/plain": [
       "      TV  Radio  Newspaper  Sales\n",
       "1  230.1   37.8       69.2   22.1\n",
       "2   44.5   39.3       45.1   10.4\n",
       "3   17.2   45.9       69.3    9.3\n",
       "4  151.5   41.3       58.5   18.5\n",
       "5  180.8   10.8       58.4   12.9"
      ]
     },
     "execution_count": 27,
     "metadata": {},
     "output_type": "execute_result"
    }
   ],
   "source": [
    "data.head(5)"
   ]
  },
  {
   "cell_type": "code",
   "execution_count": 28,
   "metadata": {
    "scrolled": true
   },
   "outputs": [
    {
     "data": {
      "text/plain": [
       "(200, 4)"
      ]
     },
     "execution_count": 28,
     "metadata": {},
     "output_type": "execute_result"
    }
   ],
   "source": [
    "data.shape"
   ]
  },
  {
   "cell_type": "code",
   "execution_count": 29,
   "metadata": {},
   "outputs": [
    {
     "data": {
      "image/png": "[encoded data removed]",
      "text/plain": [
       "<matplotlib.figure.Figure at 0x11f113cc0>"
      ]
     },
     "metadata": {},
     "output_type": "display_data"
    }
   ],
   "source": [
    "fig = plt.figure(figsize = (8,6))\n",
    "ax = fig.add_subplot(111, projection='3d')\n",
    "\n",
    "ax.scatter(data['TV'], data['Radio'], data['Sales'], c='b', marker='o', alpha = 0.3)\n",
    "\n",
    "ax.set_xlabel('TV')\n",
    "ax.set_ylabel('Radio')\n",
    "ax.set_zlabel('Sales')\n",
    "\n",
    "plt.show()"
   ]
  },
  {
   "cell_type": "markdown",
   "metadata": {},
   "source": [
    "## 2-2. Linear regression using numpy"
   ]
  },
  {
   "cell_type": "code",
   "execution_count": 30,
   "metadata": {},
   "outputs": [
    {
     "data": {
      "text/html": [
       "<div>\n",
       "<style>\n",
       "    .dataframe thead tr:only-child th {\n",
       "        text-align: right;\n",
       "    }\n",
       "\n",
       "    .dataframe thead th {\n",
       "        text-align: left;\n",
       "    }\n",
       "\n",
       "    .dataframe tbody tr th {\n",
       "        vertical-align: top;\n",
       "    }\n",
       "</style>\n",
       "<table border=\"1\" class=\"dataframe\">\n",
       "  <thead>\n",
       "    <tr style=\"text-align: right;\">\n",
       "      <th></th>\n",
       "      <th>TV</th>\n",
       "      <th>Radio</th>\n",
       "    </tr>\n",
       "  </thead>\n",
       "  <tbody>\n",
       "    <tr>\n",
       "      <th>1</th>\n",
       "      <td>230.1</td>\n",
       "      <td>37.8</td>\n",
       "    </tr>\n",
       "    <tr>\n",
       "      <th>2</th>\n",
       "      <td>44.5</td>\n",
       "      <td>39.3</td>\n",
       "    </tr>\n",
       "    <tr>\n",
       "      <th>3</th>\n",
       "      <td>17.2</td>\n",
       "      <td>45.9</td>\n",
       "    </tr>\n",
       "    <tr>\n",
       "      <th>4</th>\n",
       "      <td>151.5</td>\n",
       "      <td>41.3</td>\n",
       "    </tr>\n",
       "    <tr>\n",
       "      <th>5</th>\n",
       "      <td>180.8</td>\n",
       "      <td>10.8</td>\n",
       "    </tr>\n",
       "    <tr>\n",
       "      <th>6</th>\n",
       "      <td>8.7</td>\n",
       "      <td>48.9</td>\n",
       "    </tr>\n",
       "    <tr>\n",
       "      <th>7</th>\n",
       "      <td>57.5</td>\n",
       "      <td>32.8</td>\n",
       "    </tr>\n",
       "    <tr>\n",
       "      <th>8</th>\n",
       "      <td>120.2</td>\n",
       "      <td>19.6</td>\n",
       "    </tr>\n",
       "    <tr>\n",
       "      <th>9</th>\n",
       "      <td>8.6</td>\n",
       "      <td>2.1</td>\n",
       "    </tr>\n",
       "    <tr>\n",
       "      <th>10</th>\n",
       "      <td>199.8</td>\n",
       "      <td>2.6</td>\n",
       "    </tr>\n",
       "    <tr>\n",
       "      <th>11</th>\n",
       "      <td>66.1</td>\n",
       "      <td>5.8</td>\n",
       "    </tr>\n",
       "    <tr>\n",
       "      <th>12</th>\n",
       "      <td>214.7</td>\n",
       "      <td>24.0</td>\n",
       "    </tr>\n",
       "    <tr>\n",
       "      <th>13</th>\n",
       "      <td>23.8</td>\n",
       "      <td>35.1</td>\n",
       "    </tr>\n",
       "    <tr>\n",
       "      <th>14</th>\n",
       "      <td>97.5</td>\n",
       "      <td>7.6</td>\n",
       "    </tr>\n",
       "    <tr>\n",
       "      <th>15</th>\n",
       "      <td>204.1</td>\n",
       "      <td>32.9</td>\n",
       "    </tr>\n",
       "    <tr>\n",
       "      <th>16</th>\n",
       "      <td>195.4</td>\n",
       "      <td>47.7</td>\n",
       "    </tr>\n",
       "    <tr>\n",
       "      <th>17</th>\n",
       "      <td>67.8</td>\n",
       "      <td>36.6</td>\n",
       "    </tr>\n",
       "    <tr>\n",
       "      <th>18</th>\n",
       "      <td>281.4</td>\n",
       "      <td>39.6</td>\n",
       "    </tr>\n",
       "    <tr>\n",
       "      <th>19</th>\n",
       "      <td>69.2</td>\n",
       "      <td>20.5</td>\n",
       "    </tr>\n",
       "    <tr>\n",
       "      <th>20</th>\n",
       "      <td>147.3</td>\n",
       "      <td>23.9</td>\n",
       "    </tr>\n",
       "    <tr>\n",
       "      <th>21</th>\n",
       "      <td>218.4</td>\n",
       "      <td>27.7</td>\n",
       "    </tr>\n",
       "    <tr>\n",
       "      <th>22</th>\n",
       "      <td>237.4</td>\n",
       "      <td>5.1</td>\n",
       "    </tr>\n",
       "    <tr>\n",
       "      <th>23</th>\n",
       "      <td>13.2</td>\n",
       "      <td>15.9</td>\n",
       "    </tr>\n",
       "    <tr>\n",
       "      <th>24</th>\n",
       "      <td>228.3</td>\n",
       "      <td>16.9</td>\n",
       "    </tr>\n",
       "    <tr>\n",
       "      <th>25</th>\n",
       "      <td>62.3</td>\n",
       "      <td>12.6</td>\n",
       "    </tr>\n",
       "    <tr>\n",
       "      <th>26</th>\n",
       "      <td>262.9</td>\n",
       "      <td>3.5</td>\n",
       "    </tr>\n",
       "    <tr>\n",
       "      <th>27</th>\n",
       "      <td>142.9</td>\n",
       "      <td>29.3</td>\n",
       "    </tr>\n",
       "    <tr>\n",
       "      <th>28</th>\n",
       "      <td>240.1</td>\n",
       "      <td>16.7</td>\n",
       "    </tr>\n",
       "    <tr>\n",
       "      <th>29</th>\n",
       "      <td>248.8</td>\n",
       "      <td>27.1</td>\n",
       "    </tr>\n",
       "    <tr>\n",
       "      <th>30</th>\n",
       "      <td>70.6</td>\n",
       "      <td>16.0</td>\n",
       "    </tr>\n",
       "    <tr>\n",
       "      <th>...</th>\n",
       "      <td>...</td>\n",
       "      <td>...</td>\n",
       "    </tr>\n",
       "    <tr>\n",
       "      <th>171</th>\n",
       "      <td>50.0</td>\n",
       "      <td>11.6</td>\n",
       "    </tr>\n",
       "    <tr>\n",
       "      <th>172</th>\n",
       "      <td>164.5</td>\n",
       "      <td>20.9</td>\n",
       "    </tr>\n",
       "    <tr>\n",
       "      <th>173</th>\n",
       "      <td>19.6</td>\n",
       "      <td>20.1</td>\n",
       "    </tr>\n",
       "    <tr>\n",
       "      <th>174</th>\n",
       "      <td>168.4</td>\n",
       "      <td>7.1</td>\n",
       "    </tr>\n",
       "    <tr>\n",
       "      <th>175</th>\n",
       "      <td>222.4</td>\n",
       "      <td>3.4</td>\n",
       "    </tr>\n",
       "    <tr>\n",
       "      <th>176</th>\n",
       "      <td>276.9</td>\n",
       "      <td>48.9</td>\n",
       "    </tr>\n",
       "    <tr>\n",
       "      <th>177</th>\n",
       "      <td>248.4</td>\n",
       "      <td>30.2</td>\n",
       "    </tr>\n",
       "    <tr>\n",
       "      <th>178</th>\n",
       "      <td>170.2</td>\n",
       "      <td>7.8</td>\n",
       "    </tr>\n",
       "    <tr>\n",
       "      <th>179</th>\n",
       "      <td>276.7</td>\n",
       "      <td>2.3</td>\n",
       "    </tr>\n",
       "    <tr>\n",
       "      <th>180</th>\n",
       "      <td>165.6</td>\n",
       "      <td>10.0</td>\n",
       "    </tr>\n",
       "    <tr>\n",
       "      <th>181</th>\n",
       "      <td>156.6</td>\n",
       "      <td>2.6</td>\n",
       "    </tr>\n",
       "    <tr>\n",
       "      <th>182</th>\n",
       "      <td>218.5</td>\n",
       "      <td>5.4</td>\n",
       "    </tr>\n",
       "    <tr>\n",
       "      <th>183</th>\n",
       "      <td>56.2</td>\n",
       "      <td>5.7</td>\n",
       "    </tr>\n",
       "    <tr>\n",
       "      <th>184</th>\n",
       "      <td>287.6</td>\n",
       "      <td>43.0</td>\n",
       "    </tr>\n",
       "    <tr>\n",
       "      <th>185</th>\n",
       "      <td>253.8</td>\n",
       "      <td>21.3</td>\n",
       "    </tr>\n",
       "    <tr>\n",
       "      <th>186</th>\n",
       "      <td>205.0</td>\n",
       "      <td>45.1</td>\n",
       "    </tr>\n",
       "    <tr>\n",
       "      <th>187</th>\n",
       "      <td>139.5</td>\n",
       "      <td>2.1</td>\n",
       "    </tr>\n",
       "    <tr>\n",
       "      <th>188</th>\n",
       "      <td>191.1</td>\n",
       "      <td>28.7</td>\n",
       "    </tr>\n",
       "    <tr>\n",
       "      <th>189</th>\n",
       "      <td>286.0</td>\n",
       "      <td>13.9</td>\n",
       "    </tr>\n",
       "    <tr>\n",
       "      <th>190</th>\n",
       "      <td>18.7</td>\n",
       "      <td>12.1</td>\n",
       "    </tr>\n",
       "    <tr>\n",
       "      <th>191</th>\n",
       "      <td>39.5</td>\n",
       "      <td>41.1</td>\n",
       "    </tr>\n",
       "    <tr>\n",
       "      <th>192</th>\n",
       "      <td>75.5</td>\n",
       "      <td>10.8</td>\n",
       "    </tr>\n",
       "    <tr>\n",
       "      <th>193</th>\n",
       "      <td>17.2</td>\n",
       "      <td>4.1</td>\n",
       "    </tr>\n",
       "    <tr>\n",
       "      <th>194</th>\n",
       "      <td>166.8</td>\n",
       "      <td>42.0</td>\n",
       "    </tr>\n",
       "    <tr>\n",
       "      <th>195</th>\n",
       "      <td>149.7</td>\n",
       "      <td>35.6</td>\n",
       "    </tr>\n",
       "    <tr>\n",
       "      <th>196</th>\n",
       "      <td>38.2</td>\n",
       "      <td>3.7</td>\n",
       "    </tr>\n",
       "    <tr>\n",
       "      <th>197</th>\n",
       "      <td>94.2</td>\n",
       "      <td>4.9</td>\n",
       "    </tr>\n",
       "    <tr>\n",
       "      <th>198</th>\n",
       "      <td>177.0</td>\n",
       "      <td>9.3</td>\n",
       "    </tr>\n",
       "    <tr>\n",
       "      <th>199</th>\n",
       "      <td>283.6</td>\n",
       "      <td>42.0</td>\n",
       "    </tr>\n",
       "    <tr>\n",
       "      <th>200</th>\n",
       "      <td>232.1</td>\n",
       "      <td>8.6</td>\n",
       "    </tr>\n",
       "  </tbody>\n",
       "</table>\n",
       "<p>200 rows × 2 columns</p>\n",
       "</div>"
      ],
      "text/plain": [
       "        TV  Radio\n",
       "1    230.1   37.8\n",
       "2     44.5   39.3\n",
       "3     17.2   45.9\n",
       "4    151.5   41.3\n",
       "5    180.8   10.8\n",
       "6      8.7   48.9\n",
       "7     57.5   32.8\n",
       "8    120.2   19.6\n",
       "9      8.6    2.1\n",
       "10   199.8    2.6\n",
       "11    66.1    5.8\n",
       "12   214.7   24.0\n",
       "13    23.8   35.1\n",
       "14    97.5    7.6\n",
       "15   204.1   32.9\n",
       "16   195.4   47.7\n",
       "17    67.8   36.6\n",
       "18   281.4   39.6\n",
       "19    69.2   20.5\n",
       "20   147.3   23.9\n",
       "21   218.4   27.7\n",
       "22   237.4    5.1\n",
       "23    13.2   15.9\n",
       "24   228.3   16.9\n",
       "25    62.3   12.6\n",
       "26   262.9    3.5\n",
       "27   142.9   29.3\n",
       "28   240.1   16.7\n",
       "29   248.8   27.1\n",
       "30    70.6   16.0\n",
       "..     ...    ...\n",
       "171   50.0   11.6\n",
       "172  164.5   20.9\n",
       "173   19.6   20.1\n",
       "174  168.4    7.1\n",
       "175  222.4    3.4\n",
       "176  276.9   48.9\n",
       "177  248.4   30.2\n",
       "178  170.2    7.8\n",
       "179  276.7    2.3\n",
       "180  165.6   10.0\n",
       "181  156.6    2.6\n",
       "182  218.5    5.4\n",
       "183   56.2    5.7\n",
       "184  287.6   43.0\n",
       "185  253.8   21.3\n",
       "186  205.0   45.1\n",
       "187  139.5    2.1\n",
       "188  191.1   28.7\n",
       "189  286.0   13.9\n",
       "190   18.7   12.1\n",
       "191   39.5   41.1\n",
       "192   75.5   10.8\n",
       "193   17.2    4.1\n",
       "194  166.8   42.0\n",
       "195  149.7   35.6\n",
       "196   38.2    3.7\n",
       "197   94.2    4.9\n",
       "198  177.0    9.3\n",
       "199  283.6   42.0\n",
       "200  232.1    8.6\n",
       "\n",
       "[200 rows x 2 columns]"
      ]
     },
     "execution_count": 30,
     "metadata": {},
     "output_type": "execute_result"
    }
   ],
   "source": [
    "data[['TV', 'Radio']]"
   ]
  },
  {
   "cell_type": "code",
   "execution_count": 31,
   "metadata": {
    "collapsed": true
   },
   "outputs": [],
   "source": [
    "X = data[['TV', 'Radio']]\n",
    "y = data['Sales']"
   ]
  },
  {
   "cell_type": "code",
   "execution_count": 32,
   "metadata": {},
   "outputs": [
    {
     "data": {
      "text/html": [
       "<div>\n",
       "<style>\n",
       "    .dataframe thead tr:only-child th {\n",
       "        text-align: right;\n",
       "    }\n",
       "\n",
       "    .dataframe thead th {\n",
       "        text-align: left;\n",
       "    }\n",
       "\n",
       "    .dataframe tbody tr th {\n",
       "        vertical-align: top;\n",
       "    }\n",
       "</style>\n",
       "<table border=\"1\" class=\"dataframe\">\n",
       "  <thead>\n",
       "    <tr style=\"text-align: right;\">\n",
       "      <th></th>\n",
       "      <th>TV</th>\n",
       "      <th>Radio</th>\n",
       "    </tr>\n",
       "  </thead>\n",
       "  <tbody>\n",
       "    <tr>\n",
       "      <th>1</th>\n",
       "      <td>230.1</td>\n",
       "      <td>37.8</td>\n",
       "    </tr>\n",
       "    <tr>\n",
       "      <th>2</th>\n",
       "      <td>44.5</td>\n",
       "      <td>39.3</td>\n",
       "    </tr>\n",
       "    <tr>\n",
       "      <th>3</th>\n",
       "      <td>17.2</td>\n",
       "      <td>45.9</td>\n",
       "    </tr>\n",
       "    <tr>\n",
       "      <th>4</th>\n",
       "      <td>151.5</td>\n",
       "      <td>41.3</td>\n",
       "    </tr>\n",
       "    <tr>\n",
       "      <th>5</th>\n",
       "      <td>180.8</td>\n",
       "      <td>10.8</td>\n",
       "    </tr>\n",
       "  </tbody>\n",
       "</table>\n",
       "</div>"
      ],
      "text/plain": [
       "      TV  Radio\n",
       "1  230.1   37.8\n",
       "2   44.5   39.3\n",
       "3   17.2   45.9\n",
       "4  151.5   41.3\n",
       "5  180.8   10.8"
      ]
     },
     "execution_count": 32,
     "metadata": {},
     "output_type": "execute_result"
    }
   ],
   "source": [
    "X.head(5)"
   ]
  },
  {
   "cell_type": "code",
   "execution_count": 33,
   "metadata": {
    "collapsed": true
   },
   "outputs": [],
   "source": [
    "# Converting dataframe to array\n",
    "X = X.values\n",
    "y = y.values"
   ]
  },
  {
   "cell_type": "code",
   "execution_count": 34,
   "metadata": {},
   "outputs": [
    {
     "data": {
      "text/plain": [
       "array([[ 230.1,   37.8],\n",
       "       [  44.5,   39.3],\n",
       "       [  17.2,   45.9],\n",
       "       [ 151.5,   41.3],\n",
       "       [ 180.8,   10.8],\n",
       "       [   8.7,   48.9],\n",
       "       [  57.5,   32.8],\n",
       "       [ 120.2,   19.6],\n",
       "       [   8.6,    2.1],\n",
       "       [ 199.8,    2.6],\n",
       "       [  66.1,    5.8],\n",
       "       [ 214.7,   24. ],\n",
       "       [  23.8,   35.1],\n",
       "       [  97.5,    7.6],\n",
       "       [ 204.1,   32.9],\n",
       "       [ 195.4,   47.7],\n",
       "       [  67.8,   36.6],\n",
       "       [ 281.4,   39.6],\n",
       "       [  69.2,   20.5],\n",
       "       [ 147.3,   23.9],\n",
       "       [ 218.4,   27.7],\n",
       "       [ 237.4,    5.1],\n",
       "       [  13.2,   15.9],\n",
       "       [ 228.3,   16.9],\n",
       "       [  62.3,   12.6],\n",
       "       [ 262.9,    3.5],\n",
       "       [ 142.9,   29.3],\n",
       "       [ 240.1,   16.7],\n",
       "       [ 248.8,   27.1],\n",
       "       [  70.6,   16. ],\n",
       "       [ 292.9,   28.3],\n",
       "       [ 112.9,   17.4],\n",
       "       [  97.2,    1.5],\n",
       "       [ 265.6,   20. ],\n",
       "       [  95.7,    1.4],\n",
       "       [ 290.7,    4.1],\n",
       "       [ 266.9,   43.8],\n",
       "       [  74.7,   49.4],\n",
       "       [  43.1,   26.7],\n",
       "       [ 228. ,   37.7],\n",
       "       [ 202.5,   22.3],\n",
       "       [ 177. ,   33.4],\n",
       "       [ 293.6,   27.7],\n",
       "       [ 206.9,    8.4],\n",
       "       [  25.1,   25.7],\n",
       "       [ 175.1,   22.5],\n",
       "       [  89.7,    9.9],\n",
       "       [ 239.9,   41.5],\n",
       "       [ 227.2,   15.8],\n",
       "       [  66.9,   11.7],\n",
       "       [ 199.8,    3.1],\n",
       "       [ 100.4,    9.6],\n",
       "       [ 216.4,   41.7],\n",
       "       [ 182.6,   46.2],\n",
       "       [ 262.7,   28.8],\n",
       "       [ 198.9,   49.4],\n",
       "       [   7.3,   28.1],\n",
       "       [ 136.2,   19.2],\n",
       "       [ 210.8,   49.6],\n",
       "       [ 210.7,   29.5],\n",
       "       [  53.5,    2. ],\n",
       "       [ 261.3,   42.7],\n",
       "       [ 239.3,   15.5],\n",
       "       [ 102.7,   29.6],\n",
       "       [ 131.1,   42.8],\n",
       "       [  69. ,    9.3],\n",
       "       [  31.5,   24.6],\n",
       "       [ 139.3,   14.5],\n",
       "       [ 237.4,   27.5],\n",
       "       [ 216.8,   43.9],\n",
       "       [ 199.1,   30.6],\n",
       "       [ 109.8,   14.3],\n",
       "       [  26.8,   33. ],\n",
       "       [ 129.4,    5.7],\n",
       "       [ 213.4,   24.6],\n",
       "       [  16.9,   43.7],\n",
       "       [  27.5,    1.6],\n",
       "       [ 120.5,   28.5],\n",
       "       [   5.4,   29.9],\n",
       "       [ 116. ,    7.7],\n",
       "       [  76.4,   26.7],\n",
       "       [ 239.8,    4.1],\n",
       "       [  75.3,   20.3],\n",
       "       [  68.4,   44.5],\n",
       "       [ 213.5,   43. ],\n",
       "       [ 193.2,   18.4],\n",
       "       [  76.3,   27.5],\n",
       "       [ 110.7,   40.6],\n",
       "       [  88.3,   25.5],\n",
       "       [ 109.8,   47.8],\n",
       "       [ 134.3,    4.9],\n",
       "       [  28.6,    1.5],\n",
       "       [ 217.7,   33.5],\n",
       "       [ 250.9,   36.5],\n",
       "       [ 107.4,   14. ],\n",
       "       [ 163.3,   31.6],\n",
       "       [ 197.6,    3.5],\n",
       "       [ 184.9,   21. ],\n",
       "       [ 289.7,   42.3],\n",
       "       [ 135.2,   41.7],\n",
       "       [ 222.4,    4.3],\n",
       "       [ 296.4,   36.3],\n",
       "       [ 280.2,   10.1],\n",
       "       [ 187.9,   17.2],\n",
       "       [ 238.2,   34.3],\n",
       "       [ 137.9,   46.4],\n",
       "       [  25. ,   11. ],\n",
       "       [  90.4,    0.3],\n",
       "       [  13.1,    0.4],\n",
       "       [ 255.4,   26.9],\n",
       "       [ 225.8,    8.2],\n",
       "       [ 241.7,   38. ],\n",
       "       [ 175.7,   15.4],\n",
       "       [ 209.6,   20.6],\n",
       "       [  78.2,   46.8],\n",
       "       [  75.1,   35. ],\n",
       "       [ 139.2,   14.3],\n",
       "       [  76.4,    0.8],\n",
       "       [ 125.7,   36.9],\n",
       "       [  19.4,   16. ],\n",
       "       [ 141.3,   26.8],\n",
       "       [  18.8,   21.7],\n",
       "       [ 224. ,    2.4],\n",
       "       [ 123.1,   34.6],\n",
       "       [ 229.5,   32.3],\n",
       "       [  87.2,   11.8],\n",
       "       [   7.8,   38.9],\n",
       "       [  80.2,    0. ],\n",
       "       [ 220.3,   49. ],\n",
       "       [  59.6,   12. ],\n",
       "       [   0.7,   39.6],\n",
       "       [ 265.2,    2.9],\n",
       "       [   8.4,   27.2],\n",
       "       [ 219.8,   33.5],\n",
       "       [  36.9,   38.6],\n",
       "       [  48.3,   47. ],\n",
       "       [  25.6,   39. ],\n",
       "       [ 273.7,   28.9],\n",
       "       [  43. ,   25.9],\n",
       "       [ 184.9,   43.9],\n",
       "       [  73.4,   17. ],\n",
       "       [ 193.7,   35.4],\n",
       "       [ 220.5,   33.2],\n",
       "       [ 104.6,    5.7],\n",
       "       [  96.2,   14.8],\n",
       "       [ 140.3,    1.9],\n",
       "       [ 240.1,    7.3],\n",
       "       [ 243.2,   49. ],\n",
       "       [  38. ,   40.3],\n",
       "       [  44.7,   25.8],\n",
       "       [ 280.7,   13.9],\n",
       "       [ 121. ,    8.4],\n",
       "       [ 197.6,   23.3],\n",
       "       [ 171.3,   39.7],\n",
       "       [ 187.8,   21.1],\n",
       "       [   4.1,   11.6],\n",
       "       [  93.9,   43.5],\n",
       "       [ 149.8,    1.3],\n",
       "       [  11.7,   36.9],\n",
       "       [ 131.7,   18.4],\n",
       "       [ 172.5,   18.1],\n",
       "       [  85.7,   35.8],\n",
       "       [ 188.4,   18.1],\n",
       "       [ 163.5,   36.8],\n",
       "       [ 117.2,   14.7],\n",
       "       [ 234.5,    3.4],\n",
       "       [  17.9,   37.6],\n",
       "       [ 206.8,    5.2],\n",
       "       [ 215.4,   23.6],\n",
       "       [ 284.3,   10.6],\n",
       "       [  50. ,   11.6],\n",
       "       [ 164.5,   20.9],\n",
       "       [  19.6,   20.1],\n",
       "       [ 168.4,    7.1],\n",
       "       [ 222.4,    3.4],\n",
       "       [ 276.9,   48.9],\n",
       "       [ 248.4,   30.2],\n",
       "       [ 170.2,    7.8],\n",
       "       [ 276.7,    2.3],\n",
       "       [ 165.6,   10. ],\n",
       "       [ 156.6,    2.6],\n",
       "       [ 218.5,    5.4],\n",
       "       [  56.2,    5.7],\n",
       "       [ 287.6,   43. ],\n",
       "       [ 253.8,   21.3],\n",
       "       [ 205. ,   45.1],\n",
       "       [ 139.5,    2.1],\n",
       "       [ 191.1,   28.7],\n",
       "       [ 286. ,   13.9],\n",
       "       [  18.7,   12.1],\n",
       "       [  39.5,   41.1],\n",
       "       [  75.5,   10.8],\n",
       "       [  17.2,    4.1],\n",
       "       [ 166.8,   42. ],\n",
       "       [ 149.7,   35.6],\n",
       "       [  38.2,    3.7],\n",
       "       [  94.2,    4.9],\n",
       "       [ 177. ,    9.3],\n",
       "       [ 283.6,   42. ],\n",
       "       [ 232.1,    8.6]])"
      ]
     },
     "execution_count": 34,
     "metadata": {},
     "output_type": "execute_result"
    }
   ],
   "source": [
    "X"
   ]
  },
  {
   "cell_type": "code",
   "execution_count": 35,
   "metadata": {},
   "outputs": [
    {
     "data": {
      "text/plain": [
       "array([ 1.,  1.,  1.,  1.,  1.,  1.,  1.,  1.,  1.,  1.,  1.,  1.,  1.,\n",
       "        1.,  1.,  1.,  1.,  1.,  1.,  1.,  1.,  1.,  1.,  1.,  1.,  1.,\n",
       "        1.,  1.,  1.,  1.,  1.,  1.,  1.,  1.,  1.,  1.,  1.,  1.,  1.,\n",
       "        1.,  1.,  1.,  1.,  1.,  1.,  1.,  1.,  1.,  1.,  1.,  1.,  1.,\n",
       "        1.,  1.,  1.,  1.,  1.,  1.,  1.,  1.,  1.,  1.,  1.,  1.,  1.,\n",
       "        1.,  1.,  1.,  1.,  1.,  1.,  1.,  1.,  1.,  1.,  1.,  1.,  1.,\n",
       "        1.,  1.,  1.,  1.,  1.,  1.,  1.,  1.,  1.,  1.,  1.,  1.,  1.,\n",
       "        1.,  1.,  1.,  1.,  1.,  1.,  1.,  1.,  1.,  1.,  1.,  1.,  1.,\n",
       "        1.,  1.,  1.,  1.,  1.,  1.,  1.,  1.,  1.,  1.,  1.,  1.,  1.,\n",
       "        1.,  1.,  1.,  1.,  1.,  1.,  1.,  1.,  1.,  1.,  1.,  1.,  1.,\n",
       "        1.,  1.,  1.,  1.,  1.,  1.,  1.,  1.,  1.,  1.,  1.,  1.,  1.,\n",
       "        1.,  1.,  1.,  1.,  1.,  1.,  1.,  1.,  1.,  1.,  1.,  1.,  1.,\n",
       "        1.,  1.,  1.,  1.,  1.,  1.,  1.,  1.,  1.,  1.,  1.,  1.,  1.,\n",
       "        1.,  1.,  1.,  1.,  1.,  1.,  1.,  1.,  1.,  1.,  1.,  1.,  1.,\n",
       "        1.,  1.,  1.,  1.,  1.,  1.,  1.,  1.,  1.,  1.,  1.,  1.,  1.,\n",
       "        1.,  1.,  1.,  1.,  1.])"
      ]
     },
     "execution_count": 35,
     "metadata": {},
     "output_type": "execute_result"
    }
   ],
   "source": [
    "np.ones(len(X))"
   ]
  },
  {
   "cell_type": "code",
   "execution_count": 36,
   "metadata": {
    "collapsed": true
   },
   "outputs": [],
   "source": [
    "# X의 첫 번째 열에 모든 값이 1인 array를 넣기\n",
    "X = np.c_[np.ones(len(X)), X]"
   ]
  },
  {
   "cell_type": "code",
   "execution_count": 37,
   "metadata": {},
   "outputs": [
    {
     "data": {
      "text/plain": [
       "array([[   1. ,  230.1,   37.8],\n",
       "       [   1. ,   44.5,   39.3],\n",
       "       [   1. ,   17.2,   45.9],\n",
       "       [   1. ,  151.5,   41.3],\n",
       "       [   1. ,  180.8,   10.8],\n",
       "       [   1. ,    8.7,   48.9],\n",
       "       [   1. ,   57.5,   32.8],\n",
       "       [   1. ,  120.2,   19.6],\n",
       "       [   1. ,    8.6,    2.1],\n",
       "       [   1. ,  199.8,    2.6],\n",
       "       [   1. ,   66.1,    5.8],\n",
       "       [   1. ,  214.7,   24. ],\n",
       "       [   1. ,   23.8,   35.1],\n",
       "       [   1. ,   97.5,    7.6],\n",
       "       [   1. ,  204.1,   32.9],\n",
       "       [   1. ,  195.4,   47.7],\n",
       "       [   1. ,   67.8,   36.6],\n",
       "       [   1. ,  281.4,   39.6],\n",
       "       [   1. ,   69.2,   20.5],\n",
       "       [   1. ,  147.3,   23.9],\n",
       "       [   1. ,  218.4,   27.7],\n",
       "       [   1. ,  237.4,    5.1],\n",
       "       [   1. ,   13.2,   15.9],\n",
       "       [   1. ,  228.3,   16.9],\n",
       "       [   1. ,   62.3,   12.6],\n",
       "       [   1. ,  262.9,    3.5],\n",
       "       [   1. ,  142.9,   29.3],\n",
       "       [   1. ,  240.1,   16.7],\n",
       "       [   1. ,  248.8,   27.1],\n",
       "       [   1. ,   70.6,   16. ],\n",
       "       [   1. ,  292.9,   28.3],\n",
       "       [   1. ,  112.9,   17.4],\n",
       "       [   1. ,   97.2,    1.5],\n",
       "       [   1. ,  265.6,   20. ],\n",
       "       [   1. ,   95.7,    1.4],\n",
       "       [   1. ,  290.7,    4.1],\n",
       "       [   1. ,  266.9,   43.8],\n",
       "       [   1. ,   74.7,   49.4],\n",
       "       [   1. ,   43.1,   26.7],\n",
       "       [   1. ,  228. ,   37.7],\n",
       "       [   1. ,  202.5,   22.3],\n",
       "       [   1. ,  177. ,   33.4],\n",
       "       [   1. ,  293.6,   27.7],\n",
       "       [   1. ,  206.9,    8.4],\n",
       "       [   1. ,   25.1,   25.7],\n",
       "       [   1. ,  175.1,   22.5],\n",
       "       [   1. ,   89.7,    9.9],\n",
       "       [   1. ,  239.9,   41.5],\n",
       "       [   1. ,  227.2,   15.8],\n",
       "       [   1. ,   66.9,   11.7],\n",
       "       [   1. ,  199.8,    3.1],\n",
       "       [   1. ,  100.4,    9.6],\n",
       "       [   1. ,  216.4,   41.7],\n",
       "       [   1. ,  182.6,   46.2],\n",
       "       [   1. ,  262.7,   28.8],\n",
       "       [   1. ,  198.9,   49.4],\n",
       "       [   1. ,    7.3,   28.1],\n",
       "       [   1. ,  136.2,   19.2],\n",
       "       [   1. ,  210.8,   49.6],\n",
       "       [   1. ,  210.7,   29.5],\n",
       "       [   1. ,   53.5,    2. ],\n",
       "       [   1. ,  261.3,   42.7],\n",
       "       [   1. ,  239.3,   15.5],\n",
       "       [   1. ,  102.7,   29.6],\n",
       "       [   1. ,  131.1,   42.8],\n",
       "       [   1. ,   69. ,    9.3],\n",
       "       [   1. ,   31.5,   24.6],\n",
       "       [   1. ,  139.3,   14.5],\n",
       "       [   1. ,  237.4,   27.5],\n",
       "       [   1. ,  216.8,   43.9],\n",
       "       [   1. ,  199.1,   30.6],\n",
       "       [   1. ,  109.8,   14.3],\n",
       "       [   1. ,   26.8,   33. ],\n",
       "       [   1. ,  129.4,    5.7],\n",
       "       [   1. ,  213.4,   24.6],\n",
       "       [   1. ,   16.9,   43.7],\n",
       "       [   1. ,   27.5,    1.6],\n",
       "       [   1. ,  120.5,   28.5],\n",
       "       [   1. ,    5.4,   29.9],\n",
       "       [   1. ,  116. ,    7.7],\n",
       "       [   1. ,   76.4,   26.7],\n",
       "       [   1. ,  239.8,    4.1],\n",
       "       [   1. ,   75.3,   20.3],\n",
       "       [   1. ,   68.4,   44.5],\n",
       "       [   1. ,  213.5,   43. ],\n",
       "       [   1. ,  193.2,   18.4],\n",
       "       [   1. ,   76.3,   27.5],\n",
       "       [   1. ,  110.7,   40.6],\n",
       "       [   1. ,   88.3,   25.5],\n",
       "       [   1. ,  109.8,   47.8],\n",
       "       [   1. ,  134.3,    4.9],\n",
       "       [   1. ,   28.6,    1.5],\n",
       "       [   1. ,  217.7,   33.5],\n",
       "       [   1. ,  250.9,   36.5],\n",
       "       [   1. ,  107.4,   14. ],\n",
       "       [   1. ,  163.3,   31.6],\n",
       "       [   1. ,  197.6,    3.5],\n",
       "       [   1. ,  184.9,   21. ],\n",
       "       [   1. ,  289.7,   42.3],\n",
       "       [   1. ,  135.2,   41.7],\n",
       "       [   1. ,  222.4,    4.3],\n",
       "       [   1. ,  296.4,   36.3],\n",
       "       [   1. ,  280.2,   10.1],\n",
       "       [   1. ,  187.9,   17.2],\n",
       "       [   1. ,  238.2,   34.3],\n",
       "       [   1. ,  137.9,   46.4],\n",
       "       [   1. ,   25. ,   11. ],\n",
       "       [   1. ,   90.4,    0.3],\n",
       "       [   1. ,   13.1,    0.4],\n",
       "       [   1. ,  255.4,   26.9],\n",
       "       [   1. ,  225.8,    8.2],\n",
       "       [   1. ,  241.7,   38. ],\n",
       "       [   1. ,  175.7,   15.4],\n",
       "       [   1. ,  209.6,   20.6],\n",
       "       [   1. ,   78.2,   46.8],\n",
       "       [   1. ,   75.1,   35. ],\n",
       "       [   1. ,  139.2,   14.3],\n",
       "       [   1. ,   76.4,    0.8],\n",
       "       [   1. ,  125.7,   36.9],\n",
       "       [   1. ,   19.4,   16. ],\n",
       "       [   1. ,  141.3,   26.8],\n",
       "       [   1. ,   18.8,   21.7],\n",
       "       [   1. ,  224. ,    2.4],\n",
       "       [   1. ,  123.1,   34.6],\n",
       "       [   1. ,  229.5,   32.3],\n",
       "       [   1. ,   87.2,   11.8],\n",
       "       [   1. ,    7.8,   38.9],\n",
       "       [   1. ,   80.2,    0. ],\n",
       "       [   1. ,  220.3,   49. ],\n",
       "       [   1. ,   59.6,   12. ],\n",
       "       [   1. ,    0.7,   39.6],\n",
       "       [   1. ,  265.2,    2.9],\n",
       "       [   1. ,    8.4,   27.2],\n",
       "       [   1. ,  219.8,   33.5],\n",
       "       [   1. ,   36.9,   38.6],\n",
       "       [   1. ,   48.3,   47. ],\n",
       "       [   1. ,   25.6,   39. ],\n",
       "       [   1. ,  273.7,   28.9],\n",
       "       [   1. ,   43. ,   25.9],\n",
       "       [   1. ,  184.9,   43.9],\n",
       "       [   1. ,   73.4,   17. ],\n",
       "       [   1. ,  193.7,   35.4],\n",
       "       [   1. ,  220.5,   33.2],\n",
       "       [   1. ,  104.6,    5.7],\n",
       "       [   1. ,   96.2,   14.8],\n",
       "       [   1. ,  140.3,    1.9],\n",
       "       [   1. ,  240.1,    7.3],\n",
       "       [   1. ,  243.2,   49. ],\n",
       "       [   1. ,   38. ,   40.3],\n",
       "       [   1. ,   44.7,   25.8],\n",
       "       [   1. ,  280.7,   13.9],\n",
       "       [   1. ,  121. ,    8.4],\n",
       "       [   1. ,  197.6,   23.3],\n",
       "       [   1. ,  171.3,   39.7],\n",
       "       [   1. ,  187.8,   21.1],\n",
       "       [   1. ,    4.1,   11.6],\n",
       "       [   1. ,   93.9,   43.5],\n",
       "       [   1. ,  149.8,    1.3],\n",
       "       [   1. ,   11.7,   36.9],\n",
       "       [   1. ,  131.7,   18.4],\n",
       "       [   1. ,  172.5,   18.1],\n",
       "       [   1. ,   85.7,   35.8],\n",
       "       [   1. ,  188.4,   18.1],\n",
       "       [   1. ,  163.5,   36.8],\n",
       "       [   1. ,  117.2,   14.7],\n",
       "       [   1. ,  234.5,    3.4],\n",
       "       [   1. ,   17.9,   37.6],\n",
       "       [   1. ,  206.8,    5.2],\n",
       "       [   1. ,  215.4,   23.6],\n",
       "       [   1. ,  284.3,   10.6],\n",
       "       [   1. ,   50. ,   11.6],\n",
       "       [   1. ,  164.5,   20.9],\n",
       "       [   1. ,   19.6,   20.1],\n",
       "       [   1. ,  168.4,    7.1],\n",
       "       [   1. ,  222.4,    3.4],\n",
       "       [   1. ,  276.9,   48.9],\n",
       "       [   1. ,  248.4,   30.2],\n",
       "       [   1. ,  170.2,    7.8],\n",
       "       [   1. ,  276.7,    2.3],\n",
       "       [   1. ,  165.6,   10. ],\n",
       "       [   1. ,  156.6,    2.6],\n",
       "       [   1. ,  218.5,    5.4],\n",
       "       [   1. ,   56.2,    5.7],\n",
       "       [   1. ,  287.6,   43. ],\n",
       "       [   1. ,  253.8,   21.3],\n",
       "       [   1. ,  205. ,   45.1],\n",
       "       [   1. ,  139.5,    2.1],\n",
       "       [   1. ,  191.1,   28.7],\n",
       "       [   1. ,  286. ,   13.9],\n",
       "       [   1. ,   18.7,   12.1],\n",
       "       [   1. ,   39.5,   41.1],\n",
       "       [   1. ,   75.5,   10.8],\n",
       "       [   1. ,   17.2,    4.1],\n",
       "       [   1. ,  166.8,   42. ],\n",
       "       [   1. ,  149.7,   35.6],\n",
       "       [   1. ,   38.2,    3.7],\n",
       "       [   1. ,   94.2,    4.9],\n",
       "       [   1. ,  177. ,    9.3],\n",
       "       [   1. ,  283.6,   42. ],\n",
       "       [   1. ,  232.1,    8.6]])"
      ]
     },
     "execution_count": 37,
     "metadata": {},
     "output_type": "execute_result"
    }
   ],
   "source": [
    "X"
   ]
  },
  {
   "cell_type": "code",
   "execution_count": 38,
   "metadata": {},
   "outputs": [
    {
     "name": "stdout",
     "output_type": "stream",
     "text": [
      "[ 2.92109991  0.04575482  0.18799423]\n"
     ]
    }
   ],
   "source": [
    "beta_v1 = np.dot(np.dot(np.linalg.inv(np.dot(X.T, X)), X.T), y)\n",
    "print(beta_v1)"
   ]
  },
  {
   "cell_type": "markdown",
   "metadata": {},
   "source": [
    "## 2-3. Linear regression using scikit-learn"
   ]
  },
  {
   "cell_type": "code",
   "execution_count": 39,
   "metadata": {
    "collapsed": true
   },
   "outputs": [],
   "source": [
    "X = data[['TV', 'Radio']]\n",
    "y = data['Sales']"
   ]
  },
  {
   "cell_type": "code",
   "execution_count": 40,
   "metadata": {},
   "outputs": [
    {
     "data": {
      "text/html": [
       "<div>\n",
       "<style>\n",
       "    .dataframe thead tr:only-child th {\n",
       "        text-align: right;\n",
       "    }\n",
       "\n",
       "    .dataframe thead th {\n",
       "        text-align: left;\n",
       "    }\n",
       "\n",
       "    .dataframe tbody tr th {\n",
       "        vertical-align: top;\n",
       "    }\n",
       "</style>\n",
       "<table border=\"1\" class=\"dataframe\">\n",
       "  <thead>\n",
       "    <tr style=\"text-align: right;\">\n",
       "      <th></th>\n",
       "      <th>TV</th>\n",
       "      <th>Radio</th>\n",
       "    </tr>\n",
       "  </thead>\n",
       "  <tbody>\n",
       "    <tr>\n",
       "      <th>1</th>\n",
       "      <td>230.1</td>\n",
       "      <td>37.8</td>\n",
       "    </tr>\n",
       "    <tr>\n",
       "      <th>2</th>\n",
       "      <td>44.5</td>\n",
       "      <td>39.3</td>\n",
       "    </tr>\n",
       "    <tr>\n",
       "      <th>3</th>\n",
       "      <td>17.2</td>\n",
       "      <td>45.9</td>\n",
       "    </tr>\n",
       "    <tr>\n",
       "      <th>4</th>\n",
       "      <td>151.5</td>\n",
       "      <td>41.3</td>\n",
       "    </tr>\n",
       "    <tr>\n",
       "      <th>5</th>\n",
       "      <td>180.8</td>\n",
       "      <td>10.8</td>\n",
       "    </tr>\n",
       "  </tbody>\n",
       "</table>\n",
       "</div>"
      ],
      "text/plain": [
       "      TV  Radio\n",
       "1  230.1   37.8\n",
       "2   44.5   39.3\n",
       "3   17.2   45.9\n",
       "4  151.5   41.3\n",
       "5  180.8   10.8"
      ]
     },
     "execution_count": 40,
     "metadata": {},
     "output_type": "execute_result"
    }
   ],
   "source": [
    "X.head(5)"
   ]
  },
  {
   "cell_type": "code",
   "execution_count": 41,
   "metadata": {},
   "outputs": [
    {
     "data": {
      "text/plain": [
       "LinearRegression(copy_X=True, fit_intercept=True, n_jobs=1, normalize=False)"
      ]
     },
     "execution_count": 41,
     "metadata": {},
     "output_type": "execute_result"
    }
   ],
   "source": [
    "model = LinearRegression()\n",
    "model.fit(X, y)"
   ]
  },
  {
   "cell_type": "code",
   "execution_count": 42,
   "metadata": {},
   "outputs": [
    {
     "data": {
      "text/plain": [
       "2.9210999124051362"
      ]
     },
     "execution_count": 42,
     "metadata": {},
     "output_type": "execute_result"
    }
   ],
   "source": [
    "model.intercept_"
   ]
  },
  {
   "cell_type": "code",
   "execution_count": 43,
   "metadata": {},
   "outputs": [
    {
     "data": {
      "text/plain": [
       "array([ 0.04575482,  0.18799423])"
      ]
     },
     "execution_count": 43,
     "metadata": {},
     "output_type": "execute_result"
    }
   ],
   "source": [
    "model.coef_"
   ]
  },
  {
   "cell_type": "code",
   "execution_count": 44,
   "metadata": {},
   "outputs": [
    {
     "name": "stdout",
     "output_type": "stream",
     "text": [
      "[ 2.92109991  0.04575482  0.18799423]\n"
     ]
    }
   ],
   "source": [
    "beta_v2 = model.coef_\n",
    "beta_v2 = np.insert(beta_v2, 0, model.intercept_)\n",
    "print(beta_v2)"
   ]
  },
  {
   "cell_type": "markdown",
   "metadata": {},
   "source": [
    "## 2-4. Compare results and visualize the regression plane"
   ]
  },
  {
   "cell_type": "code",
   "execution_count": 45,
   "metadata": {},
   "outputs": [
    {
     "name": "stdout",
     "output_type": "stream",
     "text": [
      "LR_v1:\t [ 2.92109991  0.04575482  0.18799423]\n",
      "LR_v2:\t [ 2.92109991  0.04575482  0.18799423]\n"
     ]
    }
   ],
   "source": [
    "print('LR_v1:\\t', beta_v1)\n",
    "print('LR_v2:\\t', beta_v2)"
   ]
  },
  {
   "cell_type": "code",
   "execution_count": 46,
   "metadata": {
    "collapsed": true
   },
   "outputs": [],
   "source": [
    "X = data[['TV', 'Radio']].values\n",
    "y = data['Sales'].values\n",
    "y_hat = model.predict(X)"
   ]
  },
  {
   "cell_type": "code",
   "execution_count": 47,
   "metadata": {
    "scrolled": true
   },
   "outputs": [
    {
     "data": {
      "text/plain": [
       "(array([  1.,   0.,   1.,   2.,   7.,  19.,  24.,  62.,  61.,  23.]),\n",
       " array([-8.79769966, -7.63464601, -6.47159236, -5.30853871, -4.14548506,\n",
       "        -2.98243141, -1.81937776, -0.65632411,  0.50672953,  1.66978318,\n",
       "         2.83283683]),\n",
       " <a list of 10 Patch objects>)"
      ]
     },
     "execution_count": 47,
     "metadata": {},
     "output_type": "execute_result"
    },
    {
     "data": {
      "image/png": "[encoded data removed]",
      "text/plain": [
       "<matplotlib.figure.Figure at 0x12082b240>"
      ]
     },
     "metadata": {},
     "output_type": "display_data"
    }
   ],
   "source": [
    "error = y - y_hat\n",
    "plt.hist(error)"
   ]
  },
  {
   "cell_type": "code",
   "execution_count": 48,
   "metadata": {
    "collapsed": true
   },
   "outputs": [],
   "source": [
    "# error의 절대값이 3 이상인 데이터포인트 인덱스에 True 넣기\n",
    "index = np.where(np.abs(error) >= 3, True, False)"
   ]
  },
  {
   "cell_type": "code",
   "execution_count": 49,
   "metadata": {
    "scrolled": true
   },
   "outputs": [
    {
     "data": {
      "text/plain": [
       "array([False, False,  True, False, False,  True, False, False, False,\n",
       "       False, False, False, False, False, False, False, False, False,\n",
       "       False, False, False, False, False, False, False,  True, False,\n",
       "       False, False, False, False, False, False, False, False,  True,\n",
       "       False, False, False, False, False, False, False, False, False,\n",
       "       False, False, False, False, False, False, False, False, False,\n",
       "       False, False,  True, False, False, False, False, False, False,\n",
       "       False, False, False, False, False, False, False, False, False,\n",
       "       False, False, False,  True, False, False,  True, False, False,\n",
       "       False, False, False, False, False, False, False, False, False,\n",
       "       False, False, False, False, False, False, False, False, False,\n",
       "       False, False, False, False, False, False, False, False, False,\n",
       "       False, False, False, False, False, False, False, False, False,\n",
       "       False, False, False, False, False, False, False, False, False,\n",
       "        True, False, False, False,  True, False, False, False, False,\n",
       "       False, False, False, False, False, False, False, False, False,\n",
       "       False, False, False, False, False, False, False, False, False,\n",
       "       False, False, False, False, False,  True, False, False, False,\n",
       "       False, False, False, False, False, False, False, False, False,\n",
       "       False, False, False, False, False, False, False,  True, False,\n",
       "       False, False, False, False, False, False, False, False, False,\n",
       "       False, False, False, False, False, False, False, False, False,\n",
       "       False, False], dtype=bool)"
      ]
     },
     "execution_count": 49,
     "metadata": {},
     "output_type": "execute_result"
    }
   ],
   "source": [
    "index"
   ]
  },
  {
   "cell_type": "code",
   "execution_count": 50,
   "metadata": {},
   "outputs": [
    {
     "data": {
      "image/png": "[encoded data removed]",
      "text/plain": [
       "<matplotlib.figure.Figure at 0x120e54908>"
      ]
     },
     "metadata": {},
     "output_type": "display_data"
    }
   ],
   "source": [
    "plt.style.use('seaborn-pastel')\n",
    "\n",
    "fig = plt.figure(figsize = (8,6))\n",
    "ax = fig.add_subplot(111, projection='3d')\n",
    "\n",
    "# Error의 절대값이 3이 넘지 않는 데이터포인트는 파란색('b'), 그렇지 않은 포인트는 빨간색('r')로 표시\n",
    "ax.scatter(X[~index,0], X[~index,1], y[~index], c='b', marker='o', alpha = 0.3)\n",
    "ax.scatter(X[index,0], X[index,1], y[index], c='r', marker='o', alpha = 0.5)\n",
    "\n",
    "# Regression plane를 x1와 x2에 대한 함수로 정의\n",
    "plane = lambda x1, x2: beta_v2[0] + beta_v2[1] * x1 + beta_v2[2] * x2 \n",
    "\n",
    "# Regression plane의 영역을 (대충) 정의한 코드\n",
    "grid_x1, grid_x2 = np.mgrid[-30:350, 0:50]\n",
    "ax.plot_surface(grid_x1, grid_x2, plane(grid_x1, grid_x2), color = 'k', alpha = 0.1)\n",
    "\n",
    "ax.set_xlabel('TV')\n",
    "ax.set_ylabel('Radio')\n",
    "ax.set_zlabel('Sales')\n",
    "\n",
    "plt.show()"
   ]
  },
  {
   "cell_type": "markdown",
   "metadata": {},
   "source": [
    "## 2-5. Multicollinearity (다중공산성)\n",
    "- **Multicollinearity** (also collinearity) is a phenomenon in which two or more predictor variables in a multiple regression model are highly correlated, meaning that one can be linearly predicted from the others with a substantial degree of accuracy. (from Wikipedia)\n",
    "- Let's add a variable **'2 * TV'**"
   ]
  },
  {
   "cell_type": "code",
   "execution_count": 51,
   "metadata": {
    "collapsed": true
   },
   "outputs": [],
   "source": [
    "X = data[['TV', 'Radio']]\n",
    "y = data['Sales']\n",
    "\n",
    "# Converting dataframe to array\n",
    "X = X.values\n",
    "y = y.values\n",
    "\n",
    "# X의 첫 번째 열에 모든 값이 1인 array를 넣기\n",
    "# X의 마지막 열에 'TV' 변수값의 2배인 열을 추가\n",
    "X = np.c_[np.ones(len(X)), X, 2 * X[:,0]]"
   ]
  },
  {
   "cell_type": "code",
   "execution_count": 52,
   "metadata": {},
   "outputs": [
    {
     "data": {
      "text/plain": [
       "array([[   1. ,  230.1,   37.8,  460.2],\n",
       "       [   1. ,   44.5,   39.3,   89. ],\n",
       "       [   1. ,   17.2,   45.9,   34.4],\n",
       "       [   1. ,  151.5,   41.3,  303. ],\n",
       "       [   1. ,  180.8,   10.8,  361.6]])"
      ]
     },
     "execution_count": 52,
     "metadata": {},
     "output_type": "execute_result"
    }
   ],
   "source": [
    "X[0:5,]"
   ]
  },
  {
   "cell_type": "code",
   "execution_count": 53,
   "metadata": {
    "scrolled": true
   },
   "outputs": [
    {
     "ename": "LinAlgError",
     "evalue": "Singular matrix",
     "output_type": "error",
     "traceback": [
      "\u001b[0;31m---------------------------------------------------------------------------\u001b[0m",
      "\u001b[0;31mLinAlgError\u001b[0m                               Traceback (most recent call last)",
      "\u001b[0;32m<ipython-input-53-0935f0718028>\u001b[0m in \u001b[0;36m<module>\u001b[0;34m()\u001b[0m\n\u001b[1;32m      1\u001b[0m \u001b[0;31m# What happened?\u001b[0m\u001b[0;34m\u001b[0m\u001b[0;34m\u001b[0m\u001b[0m\n\u001b[0;32m----> 2\u001b[0;31m \u001b[0mbeta_v3\u001b[0m \u001b[0;34m=\u001b[0m \u001b[0mnp\u001b[0m\u001b[0;34m.\u001b[0m\u001b[0mdot\u001b[0m\u001b[0;34m(\u001b[0m\u001b[0mnp\u001b[0m\u001b[0;34m.\u001b[0m\u001b[0mdot\u001b[0m\u001b[0;34m(\u001b[0m\u001b[0mnp\u001b[0m\u001b[0;34m.\u001b[0m\u001b[0mlinalg\u001b[0m\u001b[0;34m.\u001b[0m\u001b[0minv\u001b[0m\u001b[0;34m(\u001b[0m\u001b[0mnp\u001b[0m\u001b[0;34m.\u001b[0m\u001b[0mdot\u001b[0m\u001b[0;34m(\u001b[0m\u001b[0mX\u001b[0m\u001b[0;34m.\u001b[0m\u001b[0mT\u001b[0m\u001b[0;34m,\u001b[0m \u001b[0mX\u001b[0m\u001b[0;34m)\u001b[0m\u001b[0;34m)\u001b[0m\u001b[0;34m,\u001b[0m \u001b[0mX\u001b[0m\u001b[0;34m.\u001b[0m\u001b[0mT\u001b[0m\u001b[0;34m)\u001b[0m\u001b[0;34m,\u001b[0m \u001b[0my\u001b[0m\u001b[0;34m)\u001b[0m\u001b[0;34m\u001b[0m\u001b[0m\n\u001b[0m\u001b[1;32m      3\u001b[0m \u001b[0mprint\u001b[0m\u001b[0;34m(\u001b[0m\u001b[0mbeta_v3\u001b[0m\u001b[0;34m)\u001b[0m\u001b[0;34m\u001b[0m\u001b[0m\n",
      "\u001b[0;32m~/anaconda3/envs/ml_edu/lib/python3.5/site-packages/numpy/linalg/linalg.py\u001b[0m in \u001b[0;36minv\u001b[0;34m(a)\u001b[0m\n\u001b[1;32m    511\u001b[0m     \u001b[0msignature\u001b[0m \u001b[0;34m=\u001b[0m \u001b[0;34m'D->D'\u001b[0m \u001b[0;32mif\u001b[0m \u001b[0misComplexType\u001b[0m\u001b[0;34m(\u001b[0m\u001b[0mt\u001b[0m\u001b[0;34m)\u001b[0m \u001b[0;32melse\u001b[0m \u001b[0;34m'd->d'\u001b[0m\u001b[0;34m\u001b[0m\u001b[0m\n\u001b[1;32m    512\u001b[0m     \u001b[0mextobj\u001b[0m \u001b[0;34m=\u001b[0m \u001b[0mget_linalg_error_extobj\u001b[0m\u001b[0;34m(\u001b[0m\u001b[0m_raise_linalgerror_singular\u001b[0m\u001b[0;34m)\u001b[0m\u001b[0;34m\u001b[0m\u001b[0m\n\u001b[0;32m--> 513\u001b[0;31m     \u001b[0mainv\u001b[0m \u001b[0;34m=\u001b[0m \u001b[0m_umath_linalg\u001b[0m\u001b[0;34m.\u001b[0m\u001b[0minv\u001b[0m\u001b[0;34m(\u001b[0m\u001b[0ma\u001b[0m\u001b[0;34m,\u001b[0m \u001b[0msignature\u001b[0m\u001b[0;34m=\u001b[0m\u001b[0msignature\u001b[0m\u001b[0;34m,\u001b[0m \u001b[0mextobj\u001b[0m\u001b[0;34m=\u001b[0m\u001b[0mextobj\u001b[0m\u001b[0;34m)\u001b[0m\u001b[0;34m\u001b[0m\u001b[0m\n\u001b[0m\u001b[1;32m    514\u001b[0m     \u001b[0;32mreturn\u001b[0m \u001b[0mwrap\u001b[0m\u001b[0;34m(\u001b[0m\u001b[0mainv\u001b[0m\u001b[0;34m.\u001b[0m\u001b[0mastype\u001b[0m\u001b[0;34m(\u001b[0m\u001b[0mresult_t\u001b[0m\u001b[0;34m,\u001b[0m \u001b[0mcopy\u001b[0m\u001b[0;34m=\u001b[0m\u001b[0;32mFalse\u001b[0m\u001b[0;34m)\u001b[0m\u001b[0;34m)\u001b[0m\u001b[0;34m\u001b[0m\u001b[0m\n\u001b[1;32m    515\u001b[0m \u001b[0;34m\u001b[0m\u001b[0m\n",
      "\u001b[0;32m~/anaconda3/envs/ml_edu/lib/python3.5/site-packages/numpy/linalg/linalg.py\u001b[0m in \u001b[0;36m_raise_linalgerror_singular\u001b[0;34m(err, flag)\u001b[0m\n\u001b[1;32m     88\u001b[0m \u001b[0;34m\u001b[0m\u001b[0m\n\u001b[1;32m     89\u001b[0m \u001b[0;32mdef\u001b[0m \u001b[0m_raise_linalgerror_singular\u001b[0m\u001b[0;34m(\u001b[0m\u001b[0merr\u001b[0m\u001b[0;34m,\u001b[0m \u001b[0mflag\u001b[0m\u001b[0;34m)\u001b[0m\u001b[0;34m:\u001b[0m\u001b[0;34m\u001b[0m\u001b[0m\n\u001b[0;32m---> 90\u001b[0;31m     \u001b[0;32mraise\u001b[0m \u001b[0mLinAlgError\u001b[0m\u001b[0;34m(\u001b[0m\u001b[0;34m\"Singular matrix\"\u001b[0m\u001b[0;34m)\u001b[0m\u001b[0;34m\u001b[0m\u001b[0m\n\u001b[0m\u001b[1;32m     91\u001b[0m \u001b[0;34m\u001b[0m\u001b[0m\n\u001b[1;32m     92\u001b[0m \u001b[0;32mdef\u001b[0m \u001b[0m_raise_linalgerror_nonposdef\u001b[0m\u001b[0;34m(\u001b[0m\u001b[0merr\u001b[0m\u001b[0;34m,\u001b[0m \u001b[0mflag\u001b[0m\u001b[0;34m)\u001b[0m\u001b[0;34m:\u001b[0m\u001b[0;34m\u001b[0m\u001b[0m\n",
      "\u001b[0;31mLinAlgError\u001b[0m: Singular matrix"
     ]
    }
   ],
   "source": [
    "# What happened?\n",
    "beta_v3 = np.dot(np.dot(np.linalg.inv(np.dot(X.T, X)), X.T), y)\n",
    "print(beta_v3)"
   ]
  },
  {
   "cell_type": "code",
   "execution_count": 54,
   "metadata": {},
   "outputs": [
    {
     "data": {
      "text/plain": [
       "array([[ 1.,  1.],\n",
       "       [ 1.,  1.]])"
      ]
     },
     "execution_count": 54,
     "metadata": {},
     "output_type": "execute_result"
    }
   ],
   "source": [
    "np.corrcoef(X[:,1], X[:,3])"
   ]
  },
  {
   "cell_type": "code",
   "execution_count": 55,
   "metadata": {
    "collapsed": true
   },
   "outputs": [],
   "source": [
    "X = X[:,[1,2,3]]"
   ]
  },
  {
   "cell_type": "code",
   "execution_count": 56,
   "metadata": {},
   "outputs": [
    {
     "data": {
      "text/plain": [
       "array([[ 230.1,   37.8,  460.2],\n",
       "       [  44.5,   39.3,   89. ],\n",
       "       [  17.2,   45.9,   34.4],\n",
       "       [ 151.5,   41.3,  303. ],\n",
       "       [ 180.8,   10.8,  361.6]])"
      ]
     },
     "execution_count": 56,
     "metadata": {},
     "output_type": "execute_result"
    }
   ],
   "source": [
    "X[0:5,:]"
   ]
  },
  {
   "cell_type": "code",
   "execution_count": 57,
   "metadata": {},
   "outputs": [
    {
     "name": "stdout",
     "output_type": "stream",
     "text": [
      "[ 2.92109991  0.00915096  0.18799423  0.01830193]\n",
      "[ 2.92109991  0.04575482  0.18799423]\n"
     ]
    }
   ],
   "source": [
    "model = LinearRegression()\n",
    "model.fit(X, y)\n",
    "beta_v4 = model.coef_\n",
    "beta_v4 = np.insert(beta_v4, 0, model.intercept_)\n",
    "print(beta_v4)\n",
    "print(beta_v2)"
   ]
  },
  {
   "cell_type": "markdown",
   "metadata": {
    "collapsed": true
   },
   "source": [
    "## 2.6. Evaluation"
   ]
  },
  {
   "cell_type": "code",
   "execution_count": 58,
   "metadata": {
    "collapsed": true
   },
   "outputs": [],
   "source": [
    "from sklearn import metrics"
   ]
  },
  {
   "cell_type": "code",
   "execution_count": 59,
   "metadata": {
    "collapsed": true
   },
   "outputs": [],
   "source": [
    "y_hat = model.predict(X)"
   ]
  },
  {
   "cell_type": "code",
   "execution_count": 60,
   "metadata": {},
   "outputs": [
    {
     "name": "stdout",
     "output_type": "stream",
     "text": [
      "[ 22.1  10.4   9.3  18.5  12.9   7.2  11.8  13.2   4.8  10.6   8.6  17.4\n",
      "   9.2   9.7  19.   22.4  12.5  24.4  11.3  14.6  18.   12.5   5.6  15.5\n",
      "   9.7  12.   15.   15.9  18.9  10.5  21.4  11.9   9.6  17.4   9.5  12.8\n",
      "  25.4  14.7  10.1  21.5  16.6  17.1  20.7  12.9   8.5  14.9  10.6  23.2\n",
      "  14.8   9.7  11.4  10.7  22.6  21.2  20.2  23.7   5.5  13.2  23.8  18.4\n",
      "   8.1  24.2  15.7  14.   18.    9.3   9.5  13.4  18.9  22.3  18.3  12.4\n",
      "   8.8  11.   17.    8.7   6.9  14.2   5.3  11.   11.8  12.3  11.3  13.6\n",
      "  21.7  15.2  12.   16.   12.9  16.7  11.2   7.3  19.4  22.2  11.5  16.9\n",
      "  11.7  15.5  25.4  17.2  11.7  23.8  14.8  14.7  20.7  19.2   7.2   8.7\n",
      "   5.3  19.8  13.4  21.8  14.1  15.9  14.6  12.6  12.2   9.4  15.9   6.6\n",
      "  15.5   7.   11.6  15.2  19.7  10.6   6.6   8.8  24.7   9.7   1.6  12.7\n",
      "   5.7  19.6  10.8  11.6   9.5  20.8   9.6  20.7  10.9  19.2  20.1  10.4\n",
      "  11.4  10.3  13.2  25.4  10.9  10.1  16.1  11.6  16.6  19.   15.6   3.2\n",
      "  15.3  10.1   7.3  12.9  14.4  13.3  14.9  18.   11.9  11.9   8.   12.2\n",
      "  17.1  15.    8.4  14.5   7.6  11.7  11.5  27.   20.2  11.7  11.8  12.6\n",
      "  10.5  12.2   8.7  26.2  17.6  22.6  10.3  17.3  15.9   6.7  10.8   9.9\n",
      "   5.9  19.6  17.3   7.6   9.7  12.8  25.5  13.4]\n",
      "[ 20.55546463  12.34536229  12.33701773  17.61711596  13.22390813\n",
      "  12.51208449  11.71821241  12.10551553   3.7093792   12.55169696\n",
      "   7.0358597   17.25652015  10.60866187   8.81095051  18.44466773\n",
      "  20.82891539  12.90386507  23.24107626   9.94121476  14.15384619\n",
      "  18.12139161  14.74206357   6.51417168  16.54402663   8.14035215\n",
      "  15.6080206   14.96769383  17.0463346   19.39954145   9.15929748\n",
      "  21.64292187  11.35791808   7.65045928  18.83346334   7.56302763\n",
      "  16.99280099  23.36720719  15.6258994    9.91257829  20.4405801\n",
      "  16.37872122  17.29870935  21.5621537   13.96692266   8.9009974\n",
      "  15.16263814   8.88644967  21.69944046  16.28690268   8.18162949\n",
      "  12.64569407   9.31962792  20.66180115  19.96126242  20.35512357\n",
      "  21.30864743   8.53774783  12.76239488  21.89072858  18.10746914\n",
      "   5.74497097  22.90418658  16.78413768  13.18474853  16.96570907\n",
      "   7.82652846   8.98703456  12.02066194  18.95313425  21.09369037\n",
      "  17.78350693  10.63329605  10.35113844   9.91334008  17.30983543\n",
      "  11.90970399   4.48014809  13.79239059   8.78920329   9.67621401\n",
      "  11.43621364  14.6638809   10.18272029  14.41647235  20.77350468\n",
      "  15.22002396  11.58203354  15.61872354  11.75510286  16.93110264\n",
      "   9.98714329   4.51167896  19.17972975  21.26277229  10.46708623\n",
      "  16.33347878  12.62023117  15.32904398  24.12842563  16.94651016\n",
      "  13.90534597  23.30701753  17.64034079  14.75193037  20.26809884\n",
      "  17.95362103   6.13290678   7.11373347   3.59568568  19.66392439\n",
      "  14.79408982  21.12381933  13.85533202  16.38399023  15.29725626\n",
      "  12.93708446  11.97848762   6.56716317  15.60946713   6.81665095\n",
      "  14.42450056   7.86076515  13.62136464  15.05811789  19.4940435\n",
      "   9.12925166  10.59096289   6.59063608  22.21260278   7.90401761\n",
      "  10.39769966  15.60046013   8.41888332  19.27581486  11.86602974\n",
      "  13.96678613  11.42419802  20.87722595   9.75760743  19.63411177\n",
      "   9.47540519  18.43880322  19.25144497   8.77862066  10.10502768\n",
      "   9.6976895   15.27918887  23.26038805  12.23595022   9.81659119\n",
      "  18.37759626  10.03658404  16.34251686  18.22227054  15.48053237\n",
      "   5.28942768  15.39522591  10.01956371  10.39341821  12.40610283\n",
      "  14.21650102  13.57248088  14.94400258  17.32019972  11.04707937\n",
      "  14.28978442  10.80869402  13.36076565  17.21335083  17.92193265\n",
      "   7.3895737   14.37684633   7.59657824  11.96096978  13.73615116\n",
      "  24.7835259   19.96402163  12.17492441  16.01384397  12.37803956\n",
      "  10.57508895  13.93369584   6.56408761  24.16393648  18.53794901\n",
      "  20.77937663   9.69868449  17.06027938  18.62009678   6.0514451\n",
      "  12.45497782   8.4059261    4.47885906  18.44876059  16.4631902\n",
      "   5.36451249   8.15237521  12.76804849  23.79292299  15.15754285]\n"
     ]
    }
   ],
   "source": [
    "print(y)\n",
    "print(y_hat)"
   ]
  },
  {
   "cell_type": "code",
   "execution_count": 61,
   "metadata": {},
   "outputs": [
    {
     "data": {
      "text/plain": [
       "0.89719426108289557"
      ]
     },
     "execution_count": 61,
     "metadata": {},
     "output_type": "execute_result"
    }
   ],
   "source": [
    "metrics.r2_score(y, y_hat)"
   ]
  },
  {
   "cell_type": "code",
   "execution_count": 62,
   "metadata": {},
   "outputs": [
    {
     "data": {
      "text/plain": [
       "2.7845699003380924"
      ]
     },
     "execution_count": 62,
     "metadata": {},
     "output_type": "execute_result"
    }
   ],
   "source": [
    "metrics.mean_squared_error(y, y_hat)"
   ]
  },
  {
   "cell_type": "code",
   "execution_count": null,
   "metadata": {
    "collapsed": true
   },
   "outputs": [],
   "source": []
  }
 ],
 "metadata": {
  "anaconda-cloud": {},
  "kernelspec": {
   "display_name": "Python 3",
   "language": "python",
   "name": "python3"
  },
  "language_info": {
   "codemirror_mode": {
    "name": "ipython",
    "version": 3
   },
   "file_extension": ".py",
   "mimetype": "text/x-python",
   "name": "python",
   "nbconvert_exporter": "python",
   "pygments_lexer": "ipython3",
   "version": "3.6.3"
  }
 },
 "nbformat": 4,
 "nbformat_minor": 1
}
