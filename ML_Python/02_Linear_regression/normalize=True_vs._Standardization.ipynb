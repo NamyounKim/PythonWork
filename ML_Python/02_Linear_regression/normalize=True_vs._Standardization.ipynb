{
 "cells": [
  {
   "cell_type": "code",
   "execution_count": 1,
   "metadata": {
    "collapsed": true
   },
   "outputs": [],
   "source": [
    "import numpy as np\n",
    "from sklearn.preprocessing import normalize\n",
    "from sklearn.preprocessing import StandardScaler"
   ]
  },
  {
   "cell_type": "code",
   "execution_count": 2,
   "metadata": {},
   "outputs": [],
   "source": [
    "X = np.asarray([[1, 2, 3], [2, 4, 7], [3, 6, 9]], dtype=np.float32)"
   ]
  },
  {
   "cell_type": "code",
   "execution_count": 3,
   "metadata": {
    "scrolled": true
   },
   "outputs": [
    {
     "name": "stdout",
     "output_type": "stream",
     "text": [
      "[[ 1.  2.  3.]\n",
      " [ 2.  4.  7.]\n",
      " [ 3.  6.  9.]]\n"
     ]
    }
   ],
   "source": [
    "print(X)"
   ]
  },
  {
   "cell_type": "markdown",
   "metadata": {},
   "source": [
    "- Zero-centered and l2-norm normalization for each input feature"
   ]
  },
  {
   "cell_type": "code",
   "execution_count": 4,
   "metadata": {},
   "outputs": [
    {
     "name": "stdout",
     "output_type": "stream",
     "text": [
      "[ 2.          4.          6.33333349]\n"
     ]
    }
   ],
   "source": [
    "# mean vector for centering data\n",
    "X_offset = np.average(X, axis=0)\n",
    "print(X_offset)"
   ]
  },
  {
   "cell_type": "code",
   "execution_count": 5,
   "metadata": {},
   "outputs": [
    {
     "name": "stdout",
     "output_type": "stream",
     "text": [
      "[[-1.         -2.         -3.33333349]\n",
      " [ 0.          0.          0.66666651]\n",
      " [ 1.          2.          2.66666651]]\n"
     ]
    }
   ],
   "source": [
    "# Centered data\n",
    "X_centered = X - X_offset\n",
    "print(X_centered)"
   ]
  },
  {
   "cell_type": "code",
   "execution_count": 6,
   "metadata": {},
   "outputs": [
    {
     "name": "stdout",
     "output_type": "stream",
     "text": [
      "[[-0.70710677 -0.70710677 -0.77151674]\n",
      " [ 0.          0.          0.1543033 ]\n",
      " [ 0.70710677  0.70710677  0.61721331]]\n",
      "============================================================\n",
      "[ 1.41421354  2.82842708  4.32049417]\n"
     ]
    }
   ],
   "source": [
    "X_normalized, X_centered_norm = normalize(X_centered, axis=0, \n",
    "                                          copy=False, return_norm=True)\n",
    "print(X_normalized)\n",
    "print(\"=\" * 60)\n",
    "print(X_centered_norm)"
   ]
  },
  {
   "cell_type": "markdown",
   "metadata": {},
   "source": [
    "- Standardization: Calculating means and standard deviations"
   ]
  },
  {
   "cell_type": "code",
   "execution_count": 7,
   "metadata": {},
   "outputs": [
    {
     "name": "stdout",
     "output_type": "stream",
     "text": [
      "[ 2.          4.          6.33333349]\n",
      "[ 0.81649661  1.63299322  2.49443841]\n"
     ]
    }
   ],
   "source": [
    "# mean vector\n",
    "X_offset = np.average(X, axis=0)\n",
    "\n",
    "# standard deviations\n",
    "X_std = np.std(X, axis=0)\n",
    "\n",
    "print(X_offset)\n",
    "print(X_std)"
   ]
  },
  {
   "cell_type": "code",
   "execution_count": 8,
   "metadata": {
    "scrolled": true
   },
   "outputs": [
    {
     "name": "stdout",
     "output_type": "stream",
     "text": [
      "[[-1.2247448  -1.2247448  -1.33630621]\n",
      " [ 0.          0.          0.26726115]\n",
      " [ 1.2247448   1.2247448   1.06904483]]\n"
     ]
    }
   ],
   "source": [
    "X_standardized_v2 = (X - X_offset) / X_std\n",
    "print(X_standardized_v2)"
   ]
  },
  {
   "cell_type": "markdown",
   "metadata": {},
   "source": [
    "- Standardization: Using `sklearn.preprocessing.StandardScaler`"
   ]
  },
  {
   "cell_type": "code",
   "execution_count": 9,
   "metadata": {
    "scrolled": true
   },
   "outputs": [
    {
     "name": "stdout",
     "output_type": "stream",
     "text": [
      "[[-1.2247448  -1.2247448  -1.33630621]\n",
      " [ 0.          0.          0.26726115]\n",
      " [ 1.2247448   1.2247448   1.06904483]]\n"
     ]
    }
   ],
   "source": [
    "scaler = StandardScaler()\n",
    "X_standardized = scaler.fit_transform(X)\n",
    "print(X_standardized)"
   ]
  },
  {
   "cell_type": "code",
   "execution_count": null,
   "metadata": {
    "collapsed": true
   },
   "outputs": [],
   "source": []
  }
 ],
 "metadata": {
  "kernelspec": {
   "display_name": "Python 3",
   "language": "python",
   "name": "python3"
  },
  "language_info": {
   "codemirror_mode": {
    "name": "ipython",
    "version": 3
   },
   "file_extension": ".py",
   "mimetype": "text/x-python",
   "name": "python",
   "nbconvert_exporter": "python",
   "pygments_lexer": "ipython3",
   "version": "3.5.3"
  }
 },
 "nbformat": 4,
 "nbformat_minor": 2
}
