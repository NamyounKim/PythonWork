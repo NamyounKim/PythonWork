{
 "cells": [
  {
   "cell_type": "markdown",
   "metadata": {},
   "source": [
    "# Kobe bryant shot selection"
   ]
  },
  {
   "cell_type": "markdown",
   "metadata": {},
   "source": [
    "## 1. Data load"
   ]
  },
  {
   "cell_type": "code",
   "execution_count": null,
   "metadata": {
    "collapsed": true
   },
   "outputs": [],
   "source": [
    "import pandas as pd\n",
    "\n",
    "data = pd.read_csv(\"data/kobe_shot.csv\")"
   ]
  },
  {
   "cell_type": "code",
   "execution_count": null,
   "metadata": {
    "scrolled": true
   },
   "outputs": [],
   "source": [
    "print(\"total number of shots =\",len(data))\n",
    "data.head()"
   ]
  },
  {
   "cell_type": "code",
   "execution_count": null,
   "metadata": {},
   "outputs": [],
   "source": [
    "# 'shot_made_flag'가 shot이 들어갔는지의 여부 == target_varaible\n",
    "data.shot_made_flag.head()"
   ]
  },
  {
   "cell_type": "markdown",
   "metadata": {},
   "source": [
    "- 실제 진행되었던 competition에서는 NaN을 예측하여 제출하는 형식\n",
    "- NaN에 대한 정답 label이 없기 때문에, NaN이 아닌 shots 데이터만 사용!\n"
   ]
  },
  {
   "cell_type": "code",
   "execution_count": null,
   "metadata": {},
   "outputs": [],
   "source": [
    "# NaN 데이터 분리\n",
    "data = data[data.shot_made_flag.isnull()==False] # 같은 표현 : data = data.dropna()\n",
    "print(data.shot_made_flag.head())\n",
    "\n",
    "# data 개수 확인\n",
    "print(\"total number of labeled shots = \",len(data))"
   ]
  },
  {
   "cell_type": "markdown",
   "metadata": {},
   "source": [
    "### 만약 정답 label이 있는 데이터를 train과 test를 나누려면"
   ]
  },
  {
   "cell_type": "code",
   "execution_count": null,
   "metadata": {
    "collapsed": true
   },
   "outputs": [],
   "source": [
    "from sklearn.model_selection import train_test_split\n",
    "\n",
    "X = data.ix[:,data.columns != 'shot_made_flag'].copy() # 'shot_made_flag'를 제외한 모든 columns를 선택\n",
    "y = data.shot_made_flag.copy()\n",
    "\n",
    "# train_test_split\n",
    "trn_x, tst_x, trn_y, tst_y = train_test_split(X, y, test_size=0.3, random_state =42)"
   ]
  },
  {
   "cell_type": "code",
   "execution_count": null,
   "metadata": {},
   "outputs": [],
   "source": [
    "# 나눠진 data 개수 체크\n",
    "print('# of trn_x = ',len(trn_x))\n",
    "print('# of trn_y = ',len(trn_y))\n",
    "print('# of tst_x = ',len(tst_x))\n",
    "print('# of tst_y = ',len(tst_y))"
   ]
  },
  {
   "cell_type": "markdown",
   "metadata": {},
   "source": [
    "## 2. Data Exploration and Visualization\n",
    "- 데이터에는 어떤 feature들이 있는지 확인해보자"
   ]
  },
  {
   "cell_type": "code",
   "execution_count": null,
   "metadata": {
    "scrolled": true
   },
   "outputs": [],
   "source": [
    "for i, feature in enumerate(trn_x.columns):\n",
    "    print(i,feature)"
   ]
  },
  {
   "cell_type": "markdown",
   "metadata": {},
   "source": [
    "## 2-1 Action type"
   ]
  },
  {
   "cell_type": "code",
   "execution_count": null,
   "metadata": {},
   "outputs": [],
   "source": [
    "action_shot = []\n",
    "for action in set(trn_x.action_type):\n",
    "    action_shot.append((action, len(trn_x[trn_x.action_type == action]), sum(trn_y[trn_x.action_type == action])))"
   ]
  },
  {
   "cell_type": "code",
   "execution_count": null,
   "metadata": {},
   "outputs": [],
   "source": [
    "# action_shot list 구조 확인 : 'action_type', '해당 action type으로 쏜 모든 슛', '해당 action type으로 들어간 슛'\n",
    "action_shot[0]"
   ]
  },
  {
   "cell_type": "code",
   "execution_count": null,
   "metadata": {},
   "outputs": [],
   "source": [
    "# 슛 성공률에 따라 정렬 - lambda function\n",
    "action_shot.sort(key= lambda x: x[2]/x[1], reverse=True)\n",
    "\n",
    "for action, total_shots, shots in action_shot:\n",
    "    print(\"Action type = {:35s}# of shots = {:>8.2f}\\t accuracy = {:>3.2f}\".format(action, total_shots, shots/total_shots)) "
   ]
  },
  {
   "cell_type": "markdown",
   "metadata": {},
   "source": [
    "- 살펴봐야 하는 action type이 너무 많음\n",
    "- Jump shot이 제일 많고, Dunk 관련 action type이 성공률이 높음\n",
    "- 'combined shot type을 살펴 보자"
   ]
  },
  {
   "cell_type": "markdown",
   "metadata": {},
   "source": [
    "## 2-2 Combined shot type"
   ]
  },
  {
   "cell_type": "code",
   "execution_count": null,
   "metadata": {
    "scrolled": true
   },
   "outputs": [],
   "source": [
    "combined_shot = []\n",
    "for combined in set(trn_x.combined_shot_type):\n",
    "    combined_shot.append((combined, len(trn_x[trn_x.combined_shot_type == combined]), sum(trn_y[trn_x.combined_shot_type == combined])))\n",
    "    \n",
    "# 슛 성공률에 따라 정렬\n",
    "combined_shot.sort(key= lambda x: x[2]/x[1], reverse=True)\n",
    "   \n",
    "for action, total_shots, shots in combined_shot:\n",
    "    print(\"Combined action type = {:10s}# of shots = {:>8.2f}\\t accuracy = {:>3.2f}\".format(action, total_shots, shots/total_shots))"
   ]
  },
  {
   "cell_type": "code",
   "execution_count": null,
   "metadata": {},
   "outputs": [],
   "source": [
    "# merge trn_x and trn_y\n",
    "trn_total = trn_x.copy()\n",
    "trn_total['shot_made_flag'] = trn_y.copy()"
   ]
  },
  {
   "cell_type": "code",
   "execution_count": null,
   "metadata": {
    "scrolled": false
   },
   "outputs": [],
   "source": [
    "import numpy as np\n",
    "import matplotlib.pyplot as plt\n",
    "%matplotlib inline\n",
    "\n",
    "# combined shot types\n",
    "groups = trn_total.groupby('combined_shot_type')\n",
    "court_scale = 14\n",
    "alphas = []\n",
    "colors = ['b', 'g', 'r', 'c', 'm', 'y']\n",
    "\n",
    "for u in [i[0] for i in groups]:\n",
    "    d = len(trn_total.loc[trn_total.combined_shot_type == u, 'combined_shot_type'])\n",
    "    alphas.append(np.log1p(d))\n",
    "\n",
    "# 실제 농구 코트 비율 28 : 15\n",
    "fig, ax = plt.subplots(2, 3, figsize=(court_scale, court_scale*(18/15)))\n",
    "\n",
    "for i, ((name, group), alp, col) in enumerate(zip(groups, alphas, colors)):\n",
    "    x = i//3\n",
    "    y = i%3\n",
    "    ax[x, y].set_autoscale_on(False)\n",
    "    ax[x, y].margins(0.05) # Optional, just adds 5% padding to the autoscaling\n",
    "    ax[x, y].axis([-300,300,0,750])\n",
    "    ax[x, y].plot(group.loc_x, group.loc_y, marker='.', linestyle='', ms=12, label=name, alpha=alp, color=col)\n",
    "    ax[x, y].legend()\n",
    "\n"
   ]
  },
  {
   "cell_type": "code",
   "execution_count": null,
   "metadata": {
    "scrolled": false
   },
   "outputs": [],
   "source": [
    "import numpy as np\n",
    "import matplotlib.pyplot as plt\n",
    "%matplotlib inline\n",
    "\n",
    "# combined shot types\n",
    "groups = trn_total.groupby('combined_shot_type')\n",
    "court_scale = 14\n",
    "alphas = []\n",
    "colors = ['b', 'g', 'r', 'c', 'm', 'y']\n",
    "\n",
    "for u in [i[0] for i in groups]:\n",
    "    d = len(trn_total.loc[trn_total.combined_shot_type == u, 'combined_shot_type'])\n",
    "    alphas.append(np.log1p(d))\n",
    "\n",
    "# 실제 농구 코트 비율 28 : 15\n",
    "fig, ax = plt.subplots(2, 3, figsize=(court_scale, court_scale*(18/15)))\n",
    "\n",
    "for i, ((name, group), alp, col) in enumerate(zip(groups, alphas, colors)):\n",
    "    # 순서대로 plot 위치를 정해줌\n",
    "    x = i//3\n",
    "    y = i%3\n",
    "    \n",
    "    # 각각의 plot의 parameter setting\n",
    "    ax[x, y].set_autoscale_on(False)\n",
    "    ax[x, y].margins(0.05) # Optional, just adds 5% padding to the autoscaling\n",
    "    ax[x, y].axis([-300,300,0,750])\n",
    "    \n",
    "    # 파랑이 성공, 빨강이 실패\n",
    "    ax[x, y].plot(group[group.shot_made_flag == 1].loc_x, group[group.shot_made_flag == 1].loc_y, marker='.', \n",
    "                                                                                linestyle='', ms=12, label='Success', alpha=alp, color='b')\n",
    "    ax[x, y].plot(group[group.shot_made_flag != 1].loc_x, group[group.shot_made_flag != 1].loc_y, marker='.', \n",
    "                                                                                linestyle='', ms=12, label='Fail', alpha=alp, color='r')\n",
    "    ax[x, y].legend()\n",
    "    \n",
    "    # title 지정\n",
    "    score =  ' ' + str(len(group[group.shot_made_flag == 1])) + '/' +str(len(group[group.shot_made_flag != 1]))\n",
    "    ax[x, y].title.set_text(name + score) # 성공한 슛/실패한 슛\n",
    "\n",
    "\n"
   ]
  },
  {
   "cell_type": "markdown",
   "metadata": {},
   "source": [
    "## 2-3 game_event_id, game_id"
   ]
  },
  {
   "cell_type": "code",
   "execution_count": null,
   "metadata": {
    "scrolled": true
   },
   "outputs": [],
   "source": [
    "for i in range(5):\n",
    "    print(X.iloc[i].game_event_id, X.iloc[i].game_id)"
   ]
  },
  {
   "cell_type": "markdown",
   "metadata": {},
   "source": [
    "- game_id는 한 경기당 부여되는 id\n",
    "- game_event_id는 한 경기에 발생하는 event(i.e. shot) id"
   ]
  },
  {
   "cell_type": "markdown",
   "metadata": {},
   "source": [
    "## 2-4 lat-lon, loc_x, loc_y "
   ]
  },
  {
   "cell_type": "code",
   "execution_count": null,
   "metadata": {},
   "outputs": [],
   "source": [
    "# plot 전체 size를 설정\n",
    "plt.figure(figsize=(28,15))\n",
    "alpha = 0.05 # plot 하나의 진하기 결정, 클수록 진한 포인트\n",
    "\n",
    "# loc_x and loc_y\n",
    "plt.subplot(121) # 1X2 map에 1번째 그림\n",
    "plt.scatter(trn_x.loc_x, trn_x.loc_y, color='b', alpha=alpha)\n",
    "plt.title('loc_x and loc_y')\n",
    "\n",
    "# lat and lon\n",
    "plt.subplot(122) # 1X2 map에 2번째 그림\n",
    "plt.scatter(trn_x.lon, trn_x.lat, color='g', alpha=alpha)\n",
    "plt.title('lat and lon')\n"
   ]
  },
  {
   "cell_type": "markdown",
   "metadata": {},
   "source": [
    "- lat-lon과 loc_x, loc_y는 shot의 위치를 나타내는 동일 정보"
   ]
  },
  {
   "cell_type": "markdown",
   "metadata": {},
   "source": [
    "### 2-5 shot distance - 성공률"
   ]
  },
  {
   "cell_type": "code",
   "execution_count": null,
   "metadata": {},
   "outputs": [],
   "source": [
    "# Shooting accuracy with shot distance\n",
    "def get_acc(df, against):\n",
    "    ct = pd.crosstab(df.shot_made_flag, df[against]).apply(lambda x:x/x.sum(), axis=0)\n",
    "    x, y = ct.columns, ct.values[1, :]\n",
    "    plt.figure(figsize=(20, 5))\n",
    "    plt.plot(x, y)\n",
    "    plt.xlabel(against)\n",
    "    plt.ylabel('% shots made')\n",
    "    plt.savefig(against + '_vs_accuracy.png')"
   ]
  },
  {
   "cell_type": "code",
   "execution_count": null,
   "metadata": {},
   "outputs": [],
   "source": [
    "get_acc(trn_total, 'shot_distance')"
   ]
  },
  {
   "cell_type": "markdown",
   "metadata": {},
   "source": [
    "## 2-6 remaining time - 성공률"
   ]
  },
  {
   "cell_type": "code",
   "execution_count": null,
   "metadata": {},
   "outputs": [],
   "source": [
    "# What can we learn from time?\n",
    "get_acc(trn_total, 'seconds_remaining')"
   ]
  },
  {
   "cell_type": "code",
   "execution_count": null,
   "metadata": {},
   "outputs": [],
   "source": [
    "get_acc(trn_total, 'minutes_remaining')"
   ]
  },
  {
   "cell_type": "markdown",
   "metadata": {},
   "source": [
    "### 초와 분만 가지고 보는건 의미가 없음\n",
    "- remaing_seconds + remaing_minutes를 seconds_from_period_end으로 변환\n",
    "- seconds_from_period_end = 60 * remaing_minutes + remaing_seconds"
   ]
  },
  {
   "cell_type": "code",
   "execution_count": null,
   "metadata": {},
   "outputs": [],
   "source": [
    "trn_total['seconds_from_period_end'] = 60 * trn_total['minutes_remaining'] + trn_total['seconds_remaining']\n",
    "get_acc(trn_total, 'seconds_from_period_end')"
   ]
  },
  {
   "cell_type": "code",
   "execution_count": null,
   "metadata": {
    "scrolled": true
   },
   "outputs": [],
   "source": [
    "get_acc(trn_total, 'period')"
   ]
  },
  {
   "cell_type": "markdown",
   "metadata": {},
   "source": [
    "## 2-7 시즌에 따른 성공률"
   ]
  },
  {
   "cell_type": "code",
   "execution_count": null,
   "metadata": {},
   "outputs": [],
   "source": [
    "print(trn_total.season.unique())\n",
    "\n",
    "# 연도만 분리\n",
    "trn_total['season_start_year'] = trn_total.season.str.split('-').str[0]\n",
    "\n",
    "# integer로 변환\n",
    "trn_total['season_start_year'] = trn_total['season_start_year'].astype(int)\n",
    "\n",
    "get_acc(trn_total, 'season_start_year')"
   ]
  },
  {
   "cell_type": "markdown",
   "metadata": {},
   "source": [
    "- 마지막 season에는 유난히 슛 성공률이 낮은 것을 확인할 수 있음"
   ]
  },
  {
   "cell_type": "markdown",
   "metadata": {},
   "source": [
    "## 2-8 Shot zone"
   ]
  },
  {
   "cell_type": "code",
   "execution_count": null,
   "metadata": {},
   "outputs": [],
   "source": [
    "plt.figure(figsize=(7.5,14))\n",
    "\n",
    "for zone in set(trn_x.shot_zone_area):\n",
    "    plt.plot(trn_x[trn_x.shot_zone_area == zone].loc_x, trn_x[trn_x.shot_zone_area == zone].loc_y, marker='.', linestyle='', alpha = 0.5, label=zone)\n",
    "    plt.legend()"
   ]
  },
  {
   "cell_type": "markdown",
   "metadata": {},
   "source": [
    "### zone에 따라 success/fail 분포 살펴보기"
   ]
  },
  {
   "cell_type": "code",
   "execution_count": null,
   "metadata": {
    "collapsed": true
   },
   "outputs": [],
   "source": [
    "def group_sf(data, category):\n",
    "    # combined shot types\n",
    "    groups = data.groupby(category)\n",
    "    n = len(set(data[category]))\n",
    "    k = (n+1)//2\n",
    "    # 실제 농구 코트 비율 28 : 15\n",
    "    fig, ax = plt.subplots(2, k, figsize=(court_scale, court_scale*(20/15)))\n",
    "\n",
    "    for i, (name, group) in enumerate(groups):\n",
    "        x = i//k\n",
    "        y = i%k\n",
    "        ax[x, y].set_autoscale_on(False)\n",
    "        ax[x, y].margins(0.05) # Optional, just adds 5% padding to the autoscaling\n",
    "        ax[x, y].axis([-300,300,0,750])\n",
    "\n",
    "        # 파랑이 성공, 빨강이 실패\n",
    "        ax[x, y].plot(group[group.shot_made_flag == 1].loc_x, group[group.shot_made_flag == 1].loc_y, marker='.', \n",
    "                                                                                    linestyle='', ms=12, label='Success', alpha=0.5, color='b')\n",
    "        ax[x, y].plot(group[group.shot_made_flag != 1].loc_x, group[group.shot_made_flag != 1].loc_y, marker='.', \n",
    "                                                                                    linestyle='', ms=12, label='Fail', alpha=0.5, color='r')\n",
    "        ax[x, y].legend()\n",
    "        # title 지정\n",
    "        score =  ' ' + str(len(group[group.shot_made_flag == 1])) + '/' +str(len(group[group.shot_made_flag != 1]))\n",
    "        ax[x, y].title.set_text(name + score) # 성공한 슛/실패한 슛"
   ]
  },
  {
   "cell_type": "code",
   "execution_count": null,
   "metadata": {
    "scrolled": false
   },
   "outputs": [],
   "source": [
    "group_sf(trn_total,'shot_zone_area')"
   ]
  },
  {
   "cell_type": "markdown",
   "metadata": {},
   "source": [
    "### shot 방향에 따른 성공률 차이"
   ]
  },
  {
   "cell_type": "code",
   "execution_count": null,
   "metadata": {},
   "outputs": [],
   "source": [
    "# 왼쪽과 오른쪽의 슛 성공률의 차이가 크게 있지 않음\n",
    "pd.crosstab(trn_total.shot_made_flag,trn_total.shot_zone_area).apply(lambda x: x/sum(x))"
   ]
  },
  {
   "cell_type": "code",
   "execution_count": null,
   "metadata": {},
   "outputs": [],
   "source": [
    "group_sf(trn_total, 'shot_zone_basic')"
   ]
  },
  {
   "cell_type": "code",
   "execution_count": null,
   "metadata": {
    "scrolled": false
   },
   "outputs": [],
   "source": [
    "group_sf(trn_total,'shot_zone_range')"
   ]
  },
  {
   "cell_type": "markdown",
   "metadata": {},
   "source": [
    "* 단변량 값으로 뚜렷하게 Success/fail이 나눠지는 값이 없음"
   ]
  },
  {
   "cell_type": "markdown",
   "metadata": {},
   "source": [
    "## 2-9 Matchup, opponent"
   ]
  },
  {
   "cell_type": "code",
   "execution_count": null,
   "metadata": {
    "scrolled": true
   },
   "outputs": [],
   "source": [
    "print(set(trn_total.team_id))\n",
    "print(set(trn_total.team_name))\n",
    "print(set(trn_total.matchup)) # vs는 home // @ away\n",
    "print(set(trn_total.opponent))"
   ]
  },
  {
   "cell_type": "code",
   "execution_count": null,
   "metadata": {},
   "outputs": [],
   "source": [
    "print(trn_total.iloc[0,:].matchup)\n",
    "print(trn_total.iloc[0,:].opponent)"
   ]
  },
  {
   "cell_type": "markdown",
   "metadata": {},
   "source": [
    "* matchup 정보와 opponent는 동일 정보!"
   ]
  }
 ],
 "metadata": {
  "kernelspec": {
   "display_name": "Python [default]",
   "language": "python",
   "name": "python3"
  },
  "language_info": {
   "codemirror_mode": {
    "name": "ipython",
    "version": 3
   },
   "file_extension": ".py",
   "mimetype": "text/x-python",
   "name": "python",
   "nbconvert_exporter": "python",
   "pygments_lexer": "ipython3",
   "version": "3.5.3"
  }
 },
 "nbformat": 4,
 "nbformat_minor": 1
}
