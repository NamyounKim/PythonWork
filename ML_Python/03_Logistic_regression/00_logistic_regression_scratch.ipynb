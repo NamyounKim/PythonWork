{
 "cells": [
  {
   "cell_type": "code",
   "execution_count": 1,
   "metadata": {},
   "outputs": [
    {
     "name": "stdout",
     "output_type": "stream",
     "text": [
      "0.1323141\n",
      "0.13\n"
     ]
    }
   ],
   "source": [
    "a = 0.1323141\n",
    "print(a)\n",
    "print('%.2f' % a)"
   ]
  },
  {
   "cell_type": "code",
   "execution_count": 2,
   "metadata": {
    "collapsed": true
   },
   "outputs": [],
   "source": [
    "import numpy as np\n",
    "import matplotlib\n",
    "import matplotlib.pyplot as plt\n",
    "%matplotlib inline"
   ]
  },
  {
   "cell_type": "markdown",
   "metadata": {},
   "source": [
    "## 0. Making the artificial data"
   ]
  },
  {
   "cell_type": "code",
   "execution_count": 3,
   "metadata": {
    "collapsed": true
   },
   "outputs": [],
   "source": [
    "from sklearn.datasets import make_blobs"
   ]
  },
  {
   "cell_type": "code",
   "execution_count": 4,
   "metadata": {
    "collapsed": true
   },
   "outputs": [],
   "source": [
    "np.random.seed(1234)"
   ]
  },
  {
   "cell_type": "code",
   "execution_count": 5,
   "metadata": {
    "collapsed": true
   },
   "outputs": [],
   "source": [
    "n_dim = 2\n",
    "x_train, y_train = make_blobs(n_samples=100, n_features=n_dim, centers=[[1,1],[-1,-1]], shuffle=True)\n",
    "x_test, y_test = make_blobs(n_samples=30, n_features=n_dim, centers=[[1,1],[-1,-1]], shuffle=True)"
   ]
  },
  {
   "cell_type": "code",
   "execution_count": 6,
   "metadata": {},
   "outputs": [
    {
     "name": "stdout",
     "output_type": "stream",
     "text": [
      "[[-3.08526564  0.93024677]\n",
      " [ 1.40545341  1.28909194]\n",
      " [ 1.35402033  0.96448697]\n",
      " [ 1.01569637 -1.24268495]\n",
      " [-2.47311641 -1.89658062]\n",
      " [-0.37122417 -0.81350565]\n",
      " [-1.78110528 -1.46801767]\n",
      " [-1.4507651  -0.25083619]\n",
      " [-0.18387277  0.89353447]\n",
      " [-0.06898878  0.48811869]]\n",
      "[1 0 0 0 1 1 1 1 1 0]\n"
     ]
    }
   ],
   "source": [
    "print(x_train[:10,:])\n",
    "print(y_train[:10])"
   ]
  },
  {
   "cell_type": "code",
   "execution_count": 7,
   "metadata": {},
   "outputs": [
    {
     "data": {
      "text/plain": [
       "<matplotlib.collections.PathCollection at 0x117ffee80>"
      ]
     },
     "execution_count": 7,
     "metadata": {},
     "output_type": "execute_result"
    },
    {
     "data": {
      "image/png": "[encoded data removed]",
      "text/plain": [
       "<matplotlib.figure.Figure at 0x114c5ebe0>"
      ]
     },
     "metadata": {},
     "output_type": "display_data"
    }
   ],
   "source": [
    "# Training data\n",
    "plt.figure()\n",
    "plt.scatter(x_train[(y_train==0),0], x_train[(y_train==0),1], c='blue', marker='o')\n",
    "plt.scatter(x_train[(y_train==1),0], x_train[(y_train==1),1], c='red', marker='o')"
   ]
  },
  {
   "cell_type": "code",
   "execution_count": 8,
   "metadata": {},
   "outputs": [
    {
     "data": {
      "text/plain": [
       "<matplotlib.collections.PathCollection at 0x11807fa58>"
      ]
     },
     "execution_count": 8,
     "metadata": {},
     "output_type": "execute_result"
    },
    {
     "data": {
      "image/png": "[encoded data removed]",
      "text/plain": [
       "<matplotlib.figure.Figure at 0x114c5e3c8>"
      ]
     },
     "metadata": {},
     "output_type": "display_data"
    }
   ],
   "source": [
    "# Test data\n",
    "plt.figure()\n",
    "plt.scatter(x_test[(y_test==0),0], x_test[(y_test==0),1], c='blue', marker='+')\n",
    "plt.scatter(x_test[(y_test==1),0], x_test[(y_test==1),1], c='red', marker='+')"
   ]
  },
  {
   "cell_type": "code",
   "execution_count": 9,
   "metadata": {},
   "outputs": [
    {
     "data": {
      "text/plain": [
       "<matplotlib.collections.PathCollection at 0x118197ef0>"
      ]
     },
     "execution_count": 9,
     "metadata": {},
     "output_type": "execute_result"
    },
    {
     "data": {
      "image/png": "[encoded data removed]",
      "text/plain": [
       "<matplotlib.figure.Figure at 0x11820d9e8>"
      ]
     },
     "metadata": {},
     "output_type": "display_data"
    }
   ],
   "source": [
    "# Training data + Test data\n",
    "plt.figure()\n",
    "plt.scatter(x_train[(y_train==0),0], x_train[(y_train==0),1], c='blue', marker='o')\n",
    "plt.scatter(x_train[(y_train==1),0], x_train[(y_train==1),1], c='red', marker='o')\n",
    "plt.scatter(x_test[(y_test==0),0], x_test[(y_test==0),1], c='blue', marker='+')\n",
    "plt.scatter(x_test[(y_test==1),0], x_test[(y_test==1),1], c='red', marker='+')"
   ]
  },
  {
   "cell_type": "markdown",
   "metadata": {},
   "source": [
    "## 1. Logistic regression"
   ]
  },
  {
   "cell_type": "code",
   "execution_count": 10,
   "metadata": {
    "collapsed": true
   },
   "outputs": [],
   "source": [
    "# Logistic function (a.k.a., softmax function, sigmoid function)\n",
    "def logistic(x):\n",
    "    return 1.0 / (1 + np.exp(-x))"
   ]
  },
  {
   "cell_type": "code",
   "execution_count": 11,
   "metadata": {
    "collapsed": true
   },
   "outputs": [],
   "source": [
    "def logit(x, beta):\n",
    "    logit = np.dot(x, beta)\n",
    "    return logit"
   ]
  },
  {
   "cell_type": "code",
   "execution_count": 12,
   "metadata": {},
   "outputs": [
    {
     "name": "stdout",
     "output_type": "stream",
     "text": [
      "[ 0.40093969  0.502909    0.5097371   0.55622078  0.4855906   0.51105523\n",
      "  0.49217345  0.47003772  0.47309084  0.48607591]\n",
      "[1 0 0 0 1 1 1 1 1 0]\n"
     ]
    }
   ],
   "source": [
    "beta = [0.1, -0.1]\n",
    "y_hat = logistic(logit(x=x_train, beta=beta)) # Y = 1일 확률\n",
    "print(y_hat[:10])\n",
    "print(y_train[:10])"
   ]
  },
  {
   "cell_type": "code",
   "execution_count": 13,
   "metadata": {
    "collapsed": true
   },
   "outputs": [],
   "source": [
    "def negative_log_likelihood(x, y, beta, avg=False):\n",
    "    y_hat = logistic(logit(x=x_train, beta=beta))\n",
    "    log_likelihood = y * np.log(y_hat) + (1 - y) * np.log(1 - y_hat)\n",
    "    if not avg:\n",
    "        return -log_likelihood\n",
    "    else:\n",
    "        return np.mean(-log_likelihood)"
   ]
  },
  {
   "cell_type": "code",
   "execution_count": 14,
   "metadata": {
    "scrolled": false
   },
   "outputs": [
    {
     "name": "stdout",
     "output_type": "stream",
     "text": [
      "[ 0.91394425  0.69898218  0.71281351  0.8124281   0.7223894   0.6712776\n",
      "  0.70892409  0.75494233  0.74846785  0.66567972  0.75605519  0.77074811\n",
      "  0.64535098  0.65383749  0.57569066  0.67647867  0.68874046  0.84679756\n",
      "  0.63866006  0.59085049  0.69423565  0.85124149  0.67530831  0.75203237\n",
      "  0.87953064  0.7022032   0.82523673  0.81401086  0.69493173  0.70828261\n",
      "  0.71423112  0.61170278  0.67316966  0.6923738   0.72320923  0.68542304\n",
      "  0.6932292   0.75066904  0.72579561  0.80346862  0.6751765   0.63116504\n",
      "  0.65705893  0.78665339  0.66379138  0.70108291  0.61929797  0.71930395\n",
      "  0.77971827  0.67821442  0.67441024  0.73807277  0.71068698  0.56628199\n",
      "  0.61851314  0.74365191  0.72378566  0.59807502  0.6329705   0.64897353\n",
      "  0.80426387  0.74704017  0.91468706  0.82552243  0.68232878  0.66953302\n",
      "  0.70222402  0.71742527  0.70700835  0.71577288  0.85289574  0.68229194\n",
      "  0.78421815  0.6748539   0.78650847  0.7074115   0.7205191   0.71607019\n",
      "  0.63020887  0.75327663  0.74890245  0.6688089   0.63601626  0.5571651\n",
      "  0.57597642  0.84476296  0.61626733  0.76450557  0.86434324  0.62839393\n",
      "  0.63271648  0.6159872   0.64386053  0.73396374  0.65044695  0.72332035\n",
      "  0.73908311  0.61868025  0.57217492  0.671236  ]\n"
     ]
    }
   ],
   "source": [
    "loss = negative_log_likelihood(x=x_train, y=y_train, beta=beta)\n",
    "print(loss)"
   ]
  },
  {
   "cell_type": "markdown",
   "metadata": {},
   "source": [
    "## 2. Learning logistic regression model\n",
    "- Using batch gradient descent method"
   ]
  },
  {
   "cell_type": "code",
   "execution_count": 15,
   "metadata": {
    "collapsed": true
   },
   "outputs": [],
   "source": [
    "def logistic_regression(x, y, num_steps=50, learning_rate=0.01):\n",
    "    initial_beta = np.asarray([10, 10])\n",
    "    beta_list = []\n",
    "    beta_list.append(initial_beta)\n",
    "    beta = initial_beta\n",
    "    \n",
    "    for step in range(num_steps):\n",
    "        y_hat = logistic(logit(x=x_train, beta=beta))\n",
    "        gradient = np.dot(x.T, y_hat - y)\n",
    "        new_beta = beta - learning_rate * gradient\n",
    "        loss = negative_log_likelihood(x, y, beta, avg=True)\n",
    "        \n",
    "        # Print\n",
    "        loss_tracking = '[%d step] loss %.4f' % (step, loss)\n",
    "        beta_equation = '[%.2f %.2f] = [%.2f %.2f] - %.2f * [%.2f %.2f]' % (new_beta[0], new_beta[1], beta[0], beta[1], learning_rate, gradient[0], gradient[1])\n",
    "        print(loss_tracking, '\\t', beta_equation)\n",
    "        \n",
    "        beta_list.append(new_beta)\n",
    "        beta = new_beta\n",
    "        \n",
    "    return beta, beta_list"
   ]
  },
  {
   "cell_type": "code",
   "execution_count": 16,
   "metadata": {
    "scrolled": true
   },
   "outputs": [
    {
     "name": "stdout",
     "output_type": "stream",
     "text": [
      "[0 step] loss inf \t [8.87 9.02] = [10.00 10.00] - 0.01 * [112.85 98.09]\n",
      "[1 step] loss inf \t [7.74 8.04] = [8.87 9.02] - 0.01 * [112.76 98.14]\n",
      "[2 step] loss inf \t [6.62 7.06] = [7.74 8.04] - 0.01 * [112.65 98.20]\n",
      "[3 step] loss 14.4212 \t [5.49 6.07] = [6.62 7.06] - 0.01 * [112.49 98.27]\n",
      "[4 step] loss 12.1915 \t [4.37 5.09] = [5.49 6.07] - 0.01 * [112.25 98.38]\n",
      "[5 step] loss 9.9651 \t [3.25 4.10] = [4.37 5.09] - 0.01 * [111.80 98.55]\n",
      "[6 step] loss 7.7470 \t [2.14 3.12] = [3.25 4.10] - 0.01 * [110.91 98.82]\n",
      "[7 step] loss 5.5483 \t [1.05 2.12] = [2.14 3.12] - 0.01 * [108.91 99.09]\n",
      "[8 step] loss 3.4079 \t [0.03 1.14] = [1.05 2.12] - 0.01 * [102.77 98.42]\n",
      "[9 step] loss 1.5123 \t [-0.76 0.26] = [0.03 1.14] - 0.01 * [78.50 87.55]\n",
      "[10 step] loss 0.4883 \t [-1.05 -0.16] = [-0.76 0.26] - 0.01 * [29.21 42.25]\n",
      "[11 step] loss 0.2923 \t [-1.20 -0.38] = [-1.05 -0.16] - 0.01 * [15.39 22.09]\n",
      "[12 step] loss 0.2316 \t [-1.32 -0.53] = [-1.20 -0.38] - 0.01 * [11.27 14.85]\n",
      "[13 step] loss 0.2010 \t [-1.41 -0.64] = [-1.32 -0.53] - 0.01 * [9.23 11.07]\n",
      "[14 step] loss 0.1822 \t [-1.49 -0.73] = [-1.41 -0.64] - 0.01 * [7.97 8.75]\n",
      "[15 step] loss 0.1692 \t [-1.56 -0.80] = [-1.49 -0.73] - 0.01 * [7.09 7.18]\n",
      "[16 step] loss 0.1597 \t [-1.62 -0.86] = [-1.56 -0.80] - 0.01 * [6.44 6.05]\n",
      "[17 step] loss 0.1523 \t [-1.68 -0.91] = [-1.62 -0.86] - 0.01 * [5.93 5.20]\n",
      "[18 step] loss 0.1464 \t [-1.74 -0.95] = [-1.68 -0.91] - 0.01 * [5.51 4.54]\n",
      "[19 step] loss 0.1415 \t [-1.79 -1.00] = [-1.74 -0.95] - 0.01 * [5.16 4.02]\n",
      "[20 step] loss 0.1374 \t [-1.84 -1.03] = [-1.79 -1.00] - 0.01 * [4.86 3.59]\n",
      "[21 step] loss 0.1339 \t [-1.89 -1.06] = [-1.84 -1.03] - 0.01 * [4.59 3.24]\n",
      "[22 step] loss 0.1308 \t [-1.93 -1.09] = [-1.89 -1.06] - 0.01 * [4.36 2.95]\n",
      "[23 step] loss 0.1281 \t [-1.97 -1.12] = [-1.93 -1.09] - 0.01 * [4.16 2.70]\n",
      "[24 step] loss 0.1257 \t [-2.01 -1.14] = [-1.97 -1.12] - 0.01 * [3.98 2.49]\n",
      "[25 step] loss 0.1236 \t [-2.05 -1.17] = [-2.01 -1.14] - 0.01 * [3.81 2.30]\n",
      "[26 step] loss 0.1217 \t [-2.08 -1.19] = [-2.05 -1.17] - 0.01 * [3.66 2.14]\n",
      "[27 step] loss 0.1199 \t [-2.12 -1.21] = [-2.08 -1.19] - 0.01 * [3.52 2.00]\n",
      "[28 step] loss 0.1183 \t [-2.15 -1.23] = [-2.12 -1.21] - 0.01 * [3.39 1.88]\n",
      "[29 step] loss 0.1168 \t [-2.19 -1.25] = [-2.15 -1.23] - 0.01 * [3.27 1.77]\n",
      "[30 step] loss 0.1155 \t [-2.22 -1.26] = [-2.19 -1.25] - 0.01 * [3.16 1.67]\n",
      "[31 step] loss 0.1142 \t [-2.25 -1.28] = [-2.22 -1.26] - 0.01 * [3.06 1.59]\n",
      "[32 step] loss 0.1130 \t [-2.28 -1.29] = [-2.25 -1.28] - 0.01 * [2.96 1.51]\n",
      "[33 step] loss 0.1120 \t [-2.31 -1.31] = [-2.28 -1.29] - 0.01 * [2.87 1.44]\n",
      "[34 step] loss 0.1109 \t [-2.33 -1.32] = [-2.31 -1.31] - 0.01 * [2.79 1.37]\n",
      "[35 step] loss 0.1100 \t [-2.36 -1.33] = [-2.33 -1.32] - 0.01 * [2.71 1.31]\n",
      "[36 step] loss 0.1091 \t [-2.39 -1.35] = [-2.36 -1.33] - 0.01 * [2.63 1.26]\n",
      "[37 step] loss 0.1083 \t [-2.41 -1.36] = [-2.39 -1.35] - 0.01 * [2.56 1.21]\n",
      "[38 step] loss 0.1075 \t [-2.44 -1.37] = [-2.41 -1.36] - 0.01 * [2.49 1.17]\n",
      "[39 step] loss 0.1067 \t [-2.46 -1.38] = [-2.44 -1.37] - 0.01 * [2.43 1.12]\n",
      "[40 step] loss 0.1060 \t [-2.49 -1.39] = [-2.46 -1.38] - 0.01 * [2.37 1.09]\n",
      "[41 step] loss 0.1054 \t [-2.51 -1.40] = [-2.49 -1.39] - 0.01 * [2.31 1.05]\n",
      "[42 step] loss 0.1047 \t [-2.53 -1.41] = [-2.51 -1.40] - 0.01 * [2.26 1.02]\n",
      "[43 step] loss 0.1041 \t [-2.55 -1.42] = [-2.53 -1.41] - 0.01 * [2.20 0.99]\n",
      "[44 step] loss 0.1035 \t [-2.58 -1.43] = [-2.55 -1.42] - 0.01 * [2.15 0.96]\n",
      "[45 step] loss 0.1030 \t [-2.60 -1.44] = [-2.58 -1.43] - 0.01 * [2.10 0.93]\n",
      "[46 step] loss 0.1025 \t [-2.62 -1.45] = [-2.60 -1.44] - 0.01 * [2.06 0.91]\n",
      "[47 step] loss 0.1020 \t [-2.64 -1.46] = [-2.62 -1.45] - 0.01 * [2.01 0.88]\n",
      "[48 step] loss 0.1015 \t [-2.66 -1.47] = [-2.64 -1.46] - 0.01 * [1.97 0.86]\n",
      "[49 step] loss 0.1010 \t [-2.68 -1.48] = [-2.66 -1.47] - 0.01 * [1.93 0.84]\n",
      "[50 step] loss 0.1006 \t [-2.70 -1.49] = [-2.68 -1.48] - 0.01 * [1.89 0.82]\n",
      "[51 step] loss 0.1002 \t [-2.71 -1.49] = [-2.70 -1.49] - 0.01 * [1.85 0.80]\n",
      "[52 step] loss 0.0998 \t [-2.73 -1.50] = [-2.71 -1.49] - 0.01 * [1.82 0.78]\n",
      "[53 step] loss 0.0994 \t [-2.75 -1.51] = [-2.73 -1.50] - 0.01 * [1.78 0.77]\n",
      "[54 step] loss 0.0990 \t [-2.77 -1.52] = [-2.75 -1.51] - 0.01 * [1.75 0.75]\n",
      "[55 step] loss 0.0986 \t [-2.78 -1.52] = [-2.77 -1.52] - 0.01 * [1.72 0.73]\n",
      "[56 step] loss 0.0983 \t [-2.80 -1.53] = [-2.78 -1.52] - 0.01 * [1.68 0.72]\n",
      "[57 step] loss 0.0980 \t [-2.82 -1.54] = [-2.80 -1.53] - 0.01 * [1.65 0.71]\n",
      "[58 step] loss 0.0977 \t [-2.83 -1.55] = [-2.82 -1.54] - 0.01 * [1.62 0.69]\n",
      "[59 step] loss 0.0973 \t [-2.85 -1.55] = [-2.83 -1.55] - 0.01 * [1.60 0.68]\n",
      "[60 step] loss 0.0970 \t [-2.87 -1.56] = [-2.85 -1.55] - 0.01 * [1.57 0.67]\n",
      "[61 step] loss 0.0968 \t [-2.88 -1.57] = [-2.87 -1.56] - 0.01 * [1.54 0.66]\n",
      "[62 step] loss 0.0965 \t [-2.90 -1.57] = [-2.88 -1.57] - 0.01 * [1.52 0.65]\n",
      "[63 step] loss 0.0962 \t [-2.91 -1.58] = [-2.90 -1.57] - 0.01 * [1.49 0.63]\n",
      "[64 step] loss 0.0959 \t [-2.93 -1.58] = [-2.91 -1.58] - 0.01 * [1.47 0.62]\n",
      "[65 step] loss 0.0957 \t [-2.94 -1.59] = [-2.93 -1.58] - 0.01 * [1.44 0.61]\n",
      "[66 step] loss 0.0955 \t [-2.95 -1.60] = [-2.94 -1.59] - 0.01 * [1.42 0.60]\n",
      "[67 step] loss 0.0952 \t [-2.97 -1.60] = [-2.95 -1.60] - 0.01 * [1.40 0.60]\n",
      "[68 step] loss 0.0950 \t [-2.98 -1.61] = [-2.97 -1.60] - 0.01 * [1.38 0.59]\n",
      "[69 step] loss 0.0948 \t [-3.00 -1.61] = [-2.98 -1.61] - 0.01 * [1.36 0.58]\n",
      "[70 step] loss 0.0945 \t [-3.01 -1.62] = [-3.00 -1.61] - 0.01 * [1.34 0.57]\n",
      "[71 step] loss 0.0943 \t [-3.02 -1.63] = [-3.01 -1.62] - 0.01 * [1.32 0.56]\n",
      "[72 step] loss 0.0941 \t [-3.04 -1.63] = [-3.02 -1.63] - 0.01 * [1.30 0.55]\n",
      "[73 step] loss 0.0939 \t [-3.05 -1.64] = [-3.04 -1.63] - 0.01 * [1.28 0.55]\n",
      "[74 step] loss 0.0937 \t [-3.06 -1.64] = [-3.05 -1.64] - 0.01 * [1.26 0.54]\n",
      "[75 step] loss 0.0936 \t [-3.07 -1.65] = [-3.06 -1.64] - 0.01 * [1.24 0.53]\n",
      "[76 step] loss 0.0934 \t [-3.09 -1.65] = [-3.07 -1.65] - 0.01 * [1.22 0.52]\n",
      "[77 step] loss 0.0932 \t [-3.10 -1.66] = [-3.09 -1.65] - 0.01 * [1.21 0.52]\n",
      "[78 step] loss 0.0930 \t [-3.11 -1.66] = [-3.10 -1.66] - 0.01 * [1.19 0.51]\n",
      "[79 step] loss 0.0929 \t [-3.12 -1.67] = [-3.11 -1.66] - 0.01 * [1.17 0.50]\n",
      "[80 step] loss 0.0927 \t [-3.13 -1.67] = [-3.12 -1.67] - 0.01 * [1.16 0.50]\n",
      "[81 step] loss 0.0925 \t [-3.14 -1.68] = [-3.13 -1.67] - 0.01 * [1.14 0.49]\n",
      "[82 step] loss 0.0924 \t [-3.16 -1.68] = [-3.14 -1.68] - 0.01 * [1.13 0.49]\n",
      "[83 step] loss 0.0922 \t [-3.17 -1.69] = [-3.16 -1.68] - 0.01 * [1.11 0.48]\n",
      "[84 step] loss 0.0921 \t [-3.18 -1.69] = [-3.17 -1.69] - 0.01 * [1.10 0.48]\n",
      "[85 step] loss 0.0920 \t [-3.19 -1.70] = [-3.18 -1.69] - 0.01 * [1.09 0.47]\n",
      "[86 step] loss 0.0918 \t [-3.20 -1.70] = [-3.19 -1.70] - 0.01 * [1.07 0.46]\n",
      "[87 step] loss 0.0917 \t [-3.21 -1.71] = [-3.20 -1.70] - 0.01 * [1.06 0.46]\n",
      "[88 step] loss 0.0915 \t [-3.22 -1.71] = [-3.21 -1.71] - 0.01 * [1.05 0.45]\n",
      "[89 step] loss 0.0914 \t [-3.23 -1.71] = [-3.22 -1.71] - 0.01 * [1.03 0.45]\n",
      "[90 step] loss 0.0913 \t [-3.24 -1.72] = [-3.23 -1.71] - 0.01 * [1.02 0.44]\n",
      "[91 step] loss 0.0912 \t [-3.25 -1.72] = [-3.24 -1.72] - 0.01 * [1.01 0.44]\n",
      "[92 step] loss 0.0910 \t [-3.26 -1.73] = [-3.25 -1.72] - 0.01 * [1.00 0.43]\n",
      "[93 step] loss 0.0909 \t [-3.27 -1.73] = [-3.26 -1.73] - 0.01 * [0.98 0.43]\n",
      "[94 step] loss 0.0908 \t [-3.28 -1.74] = [-3.27 -1.73] - 0.01 * [0.97 0.43]\n",
      "[95 step] loss 0.0907 \t [-3.29 -1.74] = [-3.28 -1.74] - 0.01 * [0.96 0.42]\n",
      "[96 step] loss 0.0906 \t [-3.30 -1.74] = [-3.29 -1.74] - 0.01 * [0.95 0.42]\n",
      "[97 step] loss 0.0905 \t [-3.31 -1.75] = [-3.30 -1.74] - 0.01 * [0.94 0.41]\n",
      "[98 step] loss 0.0904 \t [-3.32 -1.75] = [-3.31 -1.75] - 0.01 * [0.93 0.41]\n",
      "[99 step] loss 0.0903 \t [-3.33 -1.76] = [-3.32 -1.75] - 0.01 * [0.92 0.40]\n"
     ]
    },
    {
     "name": "stderr",
     "output_type": "stream",
     "text": [
      "/Users/kth/anaconda3/envs/ml_edu/lib/python3.5/site-packages/ipykernel_launcher.py:3: RuntimeWarning: divide by zero encountered in log\n",
      "  This is separate from the ipykernel package so we can avoid doing imports until\n"
     ]
    }
   ],
   "source": [
    "beta, beta_list = logistic_regression(x=x_train, y=y_train, num_steps=100, learning_rate=0.01)"
   ]
  },
  {
   "cell_type": "code",
   "execution_count": 17,
   "metadata": {
    "scrolled": true
   },
   "outputs": [
    {
     "name": "stdout",
     "output_type": "stream",
     "text": [
      "[-3.32776622 -1.75723962]\n",
      "[array([10, 10]), array([ 8.87154339,  9.01913082]), array([ 7.74392853,  8.0377706 ]), array([ 6.61742251,  7.05581791]), array([ 5.49248916,  6.0731017 ]), array([ 4.37003883,  5.08929669]), array([ 3.25203392,  4.10377173]), array([ 2.14290211,  3.11556582]), array([ 1.05384079,  2.12462718]), array([ 0.02616514,  1.14043804]), array([-0.75879315,  0.26490275]), array([-1.05085852, -0.1575828 ]), array([-1.20471166, -0.37850256]), array([-1.31743985, -0.52696489]), array([-1.40972302, -0.63766132]), array([-1.48940112, -0.72513865]), array([-1.5603321, -0.7969208]), array([-1.624725  , -0.85741637]), array([-1.68397773, -0.9094333 ]), array([-1.73904015, -0.95487042]), array([-1.79059292, -0.99507094]), array([-1.83914429, -1.03101902]), array([-1.88508635, -1.06345639]), array([-1.92872971, -1.09295509]), array([-1.97032585, -1.11996487]), array([-2.01008215, -1.14484517]), array([-2.04817226, -1.16788729]), array([-2.08474355, -1.18933021]), array([-2.11992248, -1.20937204]), array([-2.15381867, -1.22817862]), array([-2.18652801, -1.24588989]), array([-2.21813493, -1.26262485]), array([-2.2487144, -1.2784854]), array([-2.27833328, -1.2935593 ]), array([-2.30705162, -1.30792257]), array([-2.33492355, -1.32164141]), array([-2.36199813, -1.33477375]), array([-2.38831997, -1.34737048]), array([-2.41392982, -1.3594765 ]), array([-2.438865  , -1.37113159]), array([-2.46315982, -1.38237112]), array([-2.4868459 , -1.39322661]), array([-2.50995244, -1.40372629]), array([-2.53250654, -1.41389547]), array([-2.55453332, -1.42375694]), array([-2.57605618, -1.43333127]), array([-2.59709695, -1.44263706]), array([-2.61767599, -1.4516912 ]), array([-2.6378124 , -1.46050902]), array([-2.65752405, -1.4691045 ]), array([-2.67682774, -1.4774904 ]), array([-2.69573927, -1.48567841]), array([-2.71427349, -1.49367925]), array([-2.73244445, -1.50150274]), array([-2.75026537, -1.50915795]), array([-2.76774878, -1.51665323]), array([-2.78490652, -1.5239963 ]), array([-2.80174981, -1.53119429]), array([-2.8182893 , -1.53825383]), array([-2.8345351 , -1.54518106]), array([-2.8504968, -1.5519817]), array([-2.86618354, -1.55866105]), array([-2.88160402, -1.5652241 ]), array([-2.89676653, -1.57167548]), array([-2.91167895, -1.57801951]), array([-2.92634884, -1.58426027]), array([-2.94078339, -1.59040156]), array([-2.95498948, -1.59644697]), array([-2.96897371, -1.60239986]), array([-2.98274236, -1.60826339]), array([-2.99630147, -1.61404056]), array([-3.00965683, -1.61973419]), array([-3.02281397, -1.62534693]), array([-3.03577822, -1.63088131]), array([-3.04855468, -1.63633972]), array([-3.06114826, -1.64172442]), array([-3.07356367, -1.64703756]), array([-3.08580545, -1.65228118]), array([-3.09787796, -1.65745723]), array([-3.1097854 , -1.66256754]), array([-3.1215318 , -1.66761388]), array([-3.13312107, -1.67259793]), array([-3.14455696, -1.6775213 ]), array([-3.1558431 , -1.68238551]), array([-3.16698296, -1.68719202]), array([-3.17797994, -1.69194225]), array([-3.18883729, -1.69663754]), array([-3.19955814, -1.70127917]), array([-3.21014554, -1.70586837]), array([-3.22060244, -1.71040633]), array([-3.23093166, -1.7148942 ]), array([-3.24113597, -1.71933307]), array([-3.25121802, -1.72372399]), array([-3.26118039, -1.72806797]), array([-3.27102558, -1.732366  ]), array([-3.28075601, -1.73661901]), array([-3.29037401, -1.74082792]), array([-3.29988186, -1.7449936 ]), array([-3.30928176, -1.7491169 ]), array([-3.31857586, -1.75319864]), array([-3.32776622, -1.75723962])]\n"
     ]
    }
   ],
   "source": [
    "print(beta)\n",
    "print(beta_list)"
   ]
  },
  {
   "cell_type": "code",
   "execution_count": 18,
   "metadata": {
    "collapsed": true
   },
   "outputs": [],
   "source": [
    "# Comes from Kyunghyun Cho's ML lecture (https://github.com/nyu-dl/Intro_to_ML_Lecture_Note)\n",
    "def vis_hyperplane(beta, style='k--'):\n",
    "\n",
    "    lim0 = plt.gca().get_xlim()\n",
    "    lim1 = plt.gca().get_ylim()\n",
    "    m0, m1 = lim0[0], lim0[1]\n",
    "\n",
    "    intercept0 = -(beta[0] * m0 + beta[-1])/beta[1]\n",
    "    intercept1 = -(beta[0] * m1 + beta[-1])/beta[1]\n",
    "    \n",
    "    plt1, = plt.plot([m0, m1], [intercept0, intercept1], style)\n",
    "\n",
    "    plt.gca().set_xlim(lim0)\n",
    "    plt.gca().set_ylim(lim1)\n",
    "        \n",
    "    return plt1"
   ]
  },
  {
   "cell_type": "code",
   "execution_count": 19,
   "metadata": {},
   "outputs": [
    {
     "data": {
      "text/plain": [
       "<matplotlib.legend.Legend at 0x11839ce48>"
      ]
     },
     "execution_count": 19,
     "metadata": {},
     "output_type": "execute_result"
    },
    {
     "data": {
      "image/png": "[encoded data removed]",
      "text/plain": [
       "<matplotlib.figure.Figure at 0x118220ac8>"
      ]
     },
     "metadata": {},
     "output_type": "display_data"
    }
   ],
   "source": [
    "# Training data + Hyperplane\n",
    "plt.figure()\n",
    "plt.scatter(x_train[(y_train==0),0], x_train[(y_train==0),1], c='blue', marker='o')\n",
    "plt.scatter(x_train[(y_train==1),0], x_train[(y_train==1),1], c='red', marker='o')\n",
    "\n",
    "initial_beta_plot = vis_hyperplane(beta_list[0], 'k--')\n",
    "beta_plot_10 = vis_hyperplane(beta_list[9], 'b--')\n",
    "beta_plot_15 = vis_hyperplane(beta_list[14], 'r--')\n",
    "beta_plot = vis_hyperplane(beta, 'g--')\n",
    "\n",
    "plt.legend([initial_beta_plot, beta_plot_10, beta_plot_15, beta_plot], ['Randomly initialized beta', 'Learned beta(10th updated)', 'Learned beta(15th updated)', 'Learned beta'])"
   ]
  },
  {
   "cell_type": "code",
   "execution_count": 20,
   "metadata": {},
   "outputs": [
    {
     "data": {
      "text/plain": [
       "<matplotlib.legend.Legend at 0x1183efba8>"
      ]
     },
     "execution_count": 20,
     "metadata": {},
     "output_type": "execute_result"
    },
    {
     "data": {
      "image/png": "[encoded data removed]",
      "text/plain": [
       "<matplotlib.figure.Figure at 0x1183b74e0>"
      ]
     },
     "metadata": {},
     "output_type": "display_data"
    }
   ],
   "source": [
    "# Test data + Hyperplane\n",
    "plt.figure()\n",
    "plt.scatter(x_test[(y_test==0),0], x_test[(y_test==0),1], c='blue', marker='+')\n",
    "plt.scatter(x_test[(y_test==1),0], x_test[(y_test==1),1], c='red', marker='+')\n",
    "\n",
    "initial_beta_plot = vis_hyperplane(beta_list[0], 'k--')\n",
    "beta_plot = vis_hyperplane(beta, 'g--')\n",
    "\n",
    "plt.legend([initial_beta_plot, beta_plot], ['Randomly initialized beta', 'Learned beta'])"
   ]
  },
  {
   "cell_type": "code",
   "execution_count": 21,
   "metadata": {},
   "outputs": [
    {
     "data": {
      "text/plain": [
       "<matplotlib.legend.Legend at 0x118522940>"
      ]
     },
     "execution_count": 21,
     "metadata": {},
     "output_type": "execute_result"
    },
    {
     "data": {
      "image/png": "[encoded data removed]",
      "text/plain": [
       "<matplotlib.figure.Figure at 0x118576da0>"
      ]
     },
     "metadata": {},
     "output_type": "display_data"
    }
   ],
   "source": [
    "# Training data + Test data\n",
    "plt.figure()\n",
    "plt.scatter(x_train[(y_train==0),0], x_train[(y_train==0),1], c='blue', marker='o', alpha=0.1)\n",
    "plt.scatter(x_train[(y_train==1),0], x_train[(y_train==1),1], c='red', marker='o', alpha=0.1)\n",
    "plt.scatter(x_test[(y_test==0),0], x_test[(y_test==0),1], c='blue', marker='+')\n",
    "plt.scatter(x_test[(y_test==1),0], x_test[(y_test==1),1], c='red', marker='+')\n",
    "\n",
    "initial_beta_plot = vis_hyperplane(beta_list[0], 'k--')\n",
    "beta_plot = vis_hyperplane(beta, 'g--')\n",
    "\n",
    "plt.legend([initial_beta_plot, beta_plot], ['Randomly initialized beta', 'Learned beta'])"
   ]
  },
  {
   "cell_type": "code",
   "execution_count": null,
   "metadata": {
    "collapsed": true
   },
   "outputs": [],
   "source": []
  }
 ],
 "metadata": {
  "anaconda-cloud": {},
  "kernelspec": {
   "display_name": "Python 3",
   "language": "python",
   "name": "python3"
  },
  "language_info": {
   "codemirror_mode": {
    "name": "ipython",
    "version": 3
   },
   "file_extension": ".py",
   "mimetype": "text/x-python",
   "name": "python",
   "nbconvert_exporter": "python",
   "pygments_lexer": "ipython3",
   "version": "3.5.3"
  }
 },
 "nbformat": 4,
 "nbformat_minor": 2
}
