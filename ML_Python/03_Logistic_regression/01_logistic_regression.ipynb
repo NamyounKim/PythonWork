{
 "cells": [
  {
   "cell_type": "markdown",
   "metadata": {},
   "source": [
    "# Logistic Regression"
   ]
  },
  {
   "cell_type": "markdown",
   "metadata": {},
   "source": [
    "## 1. Predicting a continuous response\n",
    "- Using linear regression model"
   ]
  },
  {
   "cell_type": "code",
   "execution_count": 1,
   "metadata": {},
   "outputs": [
    {
     "data": {
      "text/html": [
       "<div>\n",
       "<style>\n",
       "    .dataframe thead tr:only-child th {\n",
       "        text-align: right;\n",
       "    }\n",
       "\n",
       "    .dataframe thead th {\n",
       "        text-align: left;\n",
       "    }\n",
       "\n",
       "    .dataframe tbody tr th {\n",
       "        vertical-align: top;\n",
       "    }\n",
       "</style>\n",
       "<table border=\"1\" class=\"dataframe\">\n",
       "  <thead>\n",
       "    <tr style=\"text-align: right;\">\n",
       "      <th></th>\n",
       "      <th>ri</th>\n",
       "      <th>na</th>\n",
       "      <th>mg</th>\n",
       "      <th>al</th>\n",
       "      <th>si</th>\n",
       "      <th>k</th>\n",
       "      <th>ca</th>\n",
       "      <th>ba</th>\n",
       "      <th>fe</th>\n",
       "      <th>glass_type</th>\n",
       "    </tr>\n",
       "    <tr>\n",
       "      <th>id</th>\n",
       "      <th></th>\n",
       "      <th></th>\n",
       "      <th></th>\n",
       "      <th></th>\n",
       "      <th></th>\n",
       "      <th></th>\n",
       "      <th></th>\n",
       "      <th></th>\n",
       "      <th></th>\n",
       "      <th></th>\n",
       "    </tr>\n",
       "  </thead>\n",
       "  <tbody>\n",
       "    <tr>\n",
       "      <th>1</th>\n",
       "      <td>1.52101</td>\n",
       "      <td>13.64</td>\n",
       "      <td>4.49</td>\n",
       "      <td>1.10</td>\n",
       "      <td>71.78</td>\n",
       "      <td>0.06</td>\n",
       "      <td>8.75</td>\n",
       "      <td>0.0</td>\n",
       "      <td>0.0</td>\n",
       "      <td>1</td>\n",
       "    </tr>\n",
       "    <tr>\n",
       "      <th>2</th>\n",
       "      <td>1.51761</td>\n",
       "      <td>13.89</td>\n",
       "      <td>3.60</td>\n",
       "      <td>1.36</td>\n",
       "      <td>72.73</td>\n",
       "      <td>0.48</td>\n",
       "      <td>7.83</td>\n",
       "      <td>0.0</td>\n",
       "      <td>0.0</td>\n",
       "      <td>1</td>\n",
       "    </tr>\n",
       "    <tr>\n",
       "      <th>3</th>\n",
       "      <td>1.51618</td>\n",
       "      <td>13.53</td>\n",
       "      <td>3.55</td>\n",
       "      <td>1.54</td>\n",
       "      <td>72.99</td>\n",
       "      <td>0.39</td>\n",
       "      <td>7.78</td>\n",
       "      <td>0.0</td>\n",
       "      <td>0.0</td>\n",
       "      <td>1</td>\n",
       "    </tr>\n",
       "    <tr>\n",
       "      <th>4</th>\n",
       "      <td>1.51766</td>\n",
       "      <td>13.21</td>\n",
       "      <td>3.69</td>\n",
       "      <td>1.29</td>\n",
       "      <td>72.61</td>\n",
       "      <td>0.57</td>\n",
       "      <td>8.22</td>\n",
       "      <td>0.0</td>\n",
       "      <td>0.0</td>\n",
       "      <td>1</td>\n",
       "    </tr>\n",
       "    <tr>\n",
       "      <th>5</th>\n",
       "      <td>1.51742</td>\n",
       "      <td>13.27</td>\n",
       "      <td>3.62</td>\n",
       "      <td>1.24</td>\n",
       "      <td>73.08</td>\n",
       "      <td>0.55</td>\n",
       "      <td>8.07</td>\n",
       "      <td>0.0</td>\n",
       "      <td>0.0</td>\n",
       "      <td>1</td>\n",
       "    </tr>\n",
       "  </tbody>\n",
       "</table>\n",
       "</div>"
      ],
      "text/plain": [
       "         ri     na    mg    al     si     k    ca   ba   fe  glass_type\n",
       "id                                                                     \n",
       "1   1.52101  13.64  4.49  1.10  71.78  0.06  8.75  0.0  0.0           1\n",
       "2   1.51761  13.89  3.60  1.36  72.73  0.48  7.83  0.0  0.0           1\n",
       "3   1.51618  13.53  3.55  1.54  72.99  0.39  7.78  0.0  0.0           1\n",
       "4   1.51766  13.21  3.69  1.29  72.61  0.57  8.22  0.0  0.0           1\n",
       "5   1.51742  13.27  3.62  1.24  73.08  0.55  8.07  0.0  0.0           1"
      ]
     },
     "execution_count": 1,
     "metadata": {},
     "output_type": "execute_result"
    }
   ],
   "source": [
    "# glass identification dataset\n",
    "import pandas as pd\n",
    "url = 'http://archive.ics.uci.edu/ml/machine-learning-databases/glass/glass.data'\n",
    "col_names = ['id','ri','na','mg','al','si','k','ca','ba','fe','glass_type']\n",
    "glass = pd.read_csv(url, names=col_names, index_col='id')\n",
    "# glass.sort('al', inplace=True)\n",
    "glass.head()"
   ]
  },
  {
   "cell_type": "code",
   "execution_count": 2,
   "metadata": {},
   "outputs": [
    {
     "data": {
      "text/plain": [
       "1    70\n",
       "2    76\n",
       "3    17\n",
       "5    13\n",
       "6     9\n",
       "7    29\n",
       "Name: glass_type, dtype: int64"
      ]
     },
     "execution_count": 2,
     "metadata": {},
     "output_type": "execute_result"
    }
   ],
   "source": [
    "# examine glass_type\n",
    "glass.glass_type.value_counts().sort_index()"
   ]
  },
  {
   "cell_type": "code",
   "execution_count": 3,
   "metadata": {},
   "outputs": [
    {
     "data": {
      "text/plain": [
       "214"
      ]
     },
     "execution_count": 3,
     "metadata": {},
     "output_type": "execute_result"
    }
   ],
   "source": [
    "len(glass)"
   ]
  },
  {
   "cell_type": "code",
   "execution_count": 4,
   "metadata": {},
   "outputs": [
    {
     "data": {
      "text/html": [
       "<div>\n",
       "<style>\n",
       "    .dataframe thead tr:only-child th {\n",
       "        text-align: right;\n",
       "    }\n",
       "\n",
       "    .dataframe thead th {\n",
       "        text-align: left;\n",
       "    }\n",
       "\n",
       "    .dataframe tbody tr th {\n",
       "        vertical-align: top;\n",
       "    }\n",
       "</style>\n",
       "<table border=\"1\" class=\"dataframe\">\n",
       "  <thead>\n",
       "    <tr style=\"text-align: right;\">\n",
       "      <th></th>\n",
       "      <th>ri</th>\n",
       "      <th>na</th>\n",
       "      <th>mg</th>\n",
       "      <th>al</th>\n",
       "      <th>si</th>\n",
       "      <th>k</th>\n",
       "      <th>ca</th>\n",
       "      <th>ba</th>\n",
       "      <th>fe</th>\n",
       "      <th>glass_type</th>\n",
       "      <th>household</th>\n",
       "    </tr>\n",
       "    <tr>\n",
       "      <th>id</th>\n",
       "      <th></th>\n",
       "      <th></th>\n",
       "      <th></th>\n",
       "      <th></th>\n",
       "      <th></th>\n",
       "      <th></th>\n",
       "      <th></th>\n",
       "      <th></th>\n",
       "      <th></th>\n",
       "      <th></th>\n",
       "      <th></th>\n",
       "    </tr>\n",
       "  </thead>\n",
       "  <tbody>\n",
       "    <tr>\n",
       "      <th>1</th>\n",
       "      <td>1.52101</td>\n",
       "      <td>13.64</td>\n",
       "      <td>4.49</td>\n",
       "      <td>1.10</td>\n",
       "      <td>71.78</td>\n",
       "      <td>0.06</td>\n",
       "      <td>8.75</td>\n",
       "      <td>0.0</td>\n",
       "      <td>0.0</td>\n",
       "      <td>1</td>\n",
       "      <td>0</td>\n",
       "    </tr>\n",
       "    <tr>\n",
       "      <th>2</th>\n",
       "      <td>1.51761</td>\n",
       "      <td>13.89</td>\n",
       "      <td>3.60</td>\n",
       "      <td>1.36</td>\n",
       "      <td>72.73</td>\n",
       "      <td>0.48</td>\n",
       "      <td>7.83</td>\n",
       "      <td>0.0</td>\n",
       "      <td>0.0</td>\n",
       "      <td>1</td>\n",
       "      <td>0</td>\n",
       "    </tr>\n",
       "    <tr>\n",
       "      <th>3</th>\n",
       "      <td>1.51618</td>\n",
       "      <td>13.53</td>\n",
       "      <td>3.55</td>\n",
       "      <td>1.54</td>\n",
       "      <td>72.99</td>\n",
       "      <td>0.39</td>\n",
       "      <td>7.78</td>\n",
       "      <td>0.0</td>\n",
       "      <td>0.0</td>\n",
       "      <td>1</td>\n",
       "      <td>0</td>\n",
       "    </tr>\n",
       "    <tr>\n",
       "      <th>4</th>\n",
       "      <td>1.51766</td>\n",
       "      <td>13.21</td>\n",
       "      <td>3.69</td>\n",
       "      <td>1.29</td>\n",
       "      <td>72.61</td>\n",
       "      <td>0.57</td>\n",
       "      <td>8.22</td>\n",
       "      <td>0.0</td>\n",
       "      <td>0.0</td>\n",
       "      <td>1</td>\n",
       "      <td>0</td>\n",
       "    </tr>\n",
       "    <tr>\n",
       "      <th>5</th>\n",
       "      <td>1.51742</td>\n",
       "      <td>13.27</td>\n",
       "      <td>3.62</td>\n",
       "      <td>1.24</td>\n",
       "      <td>73.08</td>\n",
       "      <td>0.55</td>\n",
       "      <td>8.07</td>\n",
       "      <td>0.0</td>\n",
       "      <td>0.0</td>\n",
       "      <td>1</td>\n",
       "      <td>0</td>\n",
       "    </tr>\n",
       "  </tbody>\n",
       "</table>\n",
       "</div>"
      ],
      "text/plain": [
       "         ri     na    mg    al     si     k    ca   ba   fe  glass_type  \\\n",
       "id                                                                        \n",
       "1   1.52101  13.64  4.49  1.10  71.78  0.06  8.75  0.0  0.0           1   \n",
       "2   1.51761  13.89  3.60  1.36  72.73  0.48  7.83  0.0  0.0           1   \n",
       "3   1.51618  13.53  3.55  1.54  72.99  0.39  7.78  0.0  0.0           1   \n",
       "4   1.51766  13.21  3.69  1.29  72.61  0.57  8.22  0.0  0.0           1   \n",
       "5   1.51742  13.27  3.62  1.24  73.08  0.55  8.07  0.0  0.0           1   \n",
       "\n",
       "    household  \n",
       "id             \n",
       "1           0  \n",
       "2           0  \n",
       "3           0  \n",
       "4           0  \n",
       "5           0  "
      ]
     },
     "execution_count": 4,
     "metadata": {},
     "output_type": "execute_result"
    }
   ],
   "source": [
    "# types 1, 2, 3 are window glass\n",
    "# types 5, 6, 7 are household glass\n",
    "glass['household'] = glass.glass_type.map({1:0, 2:0, 3:0, 5:1, 6:1, 7:1})\n",
    "glass.head()"
   ]
  },
  {
   "cell_type": "code",
   "execution_count": 5,
   "metadata": {},
   "outputs": [
    {
     "data": {
      "text/plain": [
       "<matplotlib.text.Text at 0x1153fff98>"
      ]
     },
     "execution_count": 5,
     "metadata": {},
     "output_type": "execute_result"
    },
    {
     "data": {
      "image/png": "[encoded data removed]",
      "text/plain": [
       "<matplotlib.figure.Figure at 0x1153afe10>"
      ]
     },
     "metadata": {},
     "output_type": "display_data"
    }
   ],
   "source": [
    "import matplotlib.pyplot as plt\n",
    "%matplotlib inline\n",
    "plt.scatter(glass.al, glass.household)\n",
    "plt.xlabel('al')\n",
    "plt.ylabel('household')"
   ]
  },
  {
   "cell_type": "code",
   "execution_count": 6,
   "metadata": {
    "collapsed": true
   },
   "outputs": [],
   "source": [
    "# fit a linear regression model and store the predictions\n",
    "from sklearn.linear_model import LinearRegression\n",
    "linreg = LinearRegression()\n",
    "feature_cols = ['al']\n",
    "X = glass[feature_cols]\n",
    "y = glass.household\n",
    "linreg.fit(X, y)\n",
    "glass['household_pred'] = linreg.predict(X)"
   ]
  },
  {
   "cell_type": "code",
   "execution_count": 7,
   "metadata": {},
   "outputs": [
    {
     "data": {
      "text/plain": [
       "<matplotlib.text.Text at 0x11aa47b70>"
      ]
     },
     "execution_count": 7,
     "metadata": {},
     "output_type": "execute_result"
    },
    {
     "data": {
      "image/png": "[encoded data removed]",
      "text/plain": [
       "<matplotlib.figure.Figure at 0x11a943f98>"
      ]
     },
     "metadata": {},
     "output_type": "display_data"
    }
   ],
   "source": [
    "# scatter plot that includes the regression line\n",
    "plt.scatter(glass.al, glass.household)\n",
    "plt.plot(glass.al, glass.household_pred, color='red')\n",
    "plt.xlabel('al')\n",
    "plt.ylabel('household')"
   ]
  },
  {
   "cell_type": "markdown",
   "metadata": {},
   "source": [
    "## 2. Predicting a categorical response\n",
    "- Using logistic regression"
   ]
  },
  {
   "cell_type": "code",
   "execution_count": 8,
   "metadata": {
    "collapsed": true
   },
   "outputs": [],
   "source": [
    "# fit a logistic regression model and store the class predictions\n",
    "from sklearn.linear_model import LogisticRegression\n",
    "logreg = LogisticRegression(C=1e9)\n",
    "feature_cols = ['al']\n",
    "X = glass[feature_cols]\n",
    "y = glass.household\n",
    "logreg.fit(X, y)\n",
    "glass['household_pred_class'] = logreg.predict(X)"
   ]
  },
  {
   "cell_type": "code",
   "execution_count": 9,
   "metadata": {},
   "outputs": [
    {
     "data": {
      "text/html": [
       "<div>\n",
       "<style>\n",
       "    .dataframe thead tr:only-child th {\n",
       "        text-align: right;\n",
       "    }\n",
       "\n",
       "    .dataframe thead th {\n",
       "        text-align: left;\n",
       "    }\n",
       "\n",
       "    .dataframe tbody tr th {\n",
       "        vertical-align: top;\n",
       "    }\n",
       "</style>\n",
       "<table border=\"1\" class=\"dataframe\">\n",
       "  <thead>\n",
       "    <tr style=\"text-align: right;\">\n",
       "      <th></th>\n",
       "      <th>ri</th>\n",
       "      <th>na</th>\n",
       "      <th>mg</th>\n",
       "      <th>al</th>\n",
       "      <th>si</th>\n",
       "      <th>k</th>\n",
       "      <th>ca</th>\n",
       "      <th>ba</th>\n",
       "      <th>fe</th>\n",
       "      <th>glass_type</th>\n",
       "      <th>household</th>\n",
       "      <th>household_pred</th>\n",
       "      <th>household_pred_class</th>\n",
       "    </tr>\n",
       "    <tr>\n",
       "      <th>id</th>\n",
       "      <th></th>\n",
       "      <th></th>\n",
       "      <th></th>\n",
       "      <th></th>\n",
       "      <th></th>\n",
       "      <th></th>\n",
       "      <th></th>\n",
       "      <th></th>\n",
       "      <th></th>\n",
       "      <th></th>\n",
       "      <th></th>\n",
       "      <th></th>\n",
       "      <th></th>\n",
       "    </tr>\n",
       "  </thead>\n",
       "  <tbody>\n",
       "    <tr>\n",
       "      <th>1</th>\n",
       "      <td>1.52101</td>\n",
       "      <td>13.64</td>\n",
       "      <td>4.49</td>\n",
       "      <td>1.10</td>\n",
       "      <td>71.78</td>\n",
       "      <td>0.06</td>\n",
       "      <td>8.75</td>\n",
       "      <td>0.0</td>\n",
       "      <td>0.0</td>\n",
       "      <td>1</td>\n",
       "      <td>0</td>\n",
       "      <td>0.065459</td>\n",
       "      <td>0</td>\n",
       "    </tr>\n",
       "    <tr>\n",
       "      <th>2</th>\n",
       "      <td>1.51761</td>\n",
       "      <td>13.89</td>\n",
       "      <td>3.60</td>\n",
       "      <td>1.36</td>\n",
       "      <td>72.73</td>\n",
       "      <td>0.48</td>\n",
       "      <td>7.83</td>\n",
       "      <td>0.0</td>\n",
       "      <td>0.0</td>\n",
       "      <td>1</td>\n",
       "      <td>0</td>\n",
       "      <td>0.195765</td>\n",
       "      <td>0</td>\n",
       "    </tr>\n",
       "    <tr>\n",
       "      <th>3</th>\n",
       "      <td>1.51618</td>\n",
       "      <td>13.53</td>\n",
       "      <td>3.55</td>\n",
       "      <td>1.54</td>\n",
       "      <td>72.99</td>\n",
       "      <td>0.39</td>\n",
       "      <td>7.78</td>\n",
       "      <td>0.0</td>\n",
       "      <td>0.0</td>\n",
       "      <td>1</td>\n",
       "      <td>0</td>\n",
       "      <td>0.285976</td>\n",
       "      <td>0</td>\n",
       "    </tr>\n",
       "    <tr>\n",
       "      <th>4</th>\n",
       "      <td>1.51766</td>\n",
       "      <td>13.21</td>\n",
       "      <td>3.69</td>\n",
       "      <td>1.29</td>\n",
       "      <td>72.61</td>\n",
       "      <td>0.57</td>\n",
       "      <td>8.22</td>\n",
       "      <td>0.0</td>\n",
       "      <td>0.0</td>\n",
       "      <td>1</td>\n",
       "      <td>0</td>\n",
       "      <td>0.160682</td>\n",
       "      <td>0</td>\n",
       "    </tr>\n",
       "    <tr>\n",
       "      <th>5</th>\n",
       "      <td>1.51742</td>\n",
       "      <td>13.27</td>\n",
       "      <td>3.62</td>\n",
       "      <td>1.24</td>\n",
       "      <td>73.08</td>\n",
       "      <td>0.55</td>\n",
       "      <td>8.07</td>\n",
       "      <td>0.0</td>\n",
       "      <td>0.0</td>\n",
       "      <td>1</td>\n",
       "      <td>0</td>\n",
       "      <td>0.135623</td>\n",
       "      <td>0</td>\n",
       "    </tr>\n",
       "  </tbody>\n",
       "</table>\n",
       "</div>"
      ],
      "text/plain": [
       "         ri     na    mg    al     si     k    ca   ba   fe  glass_type  \\\n",
       "id                                                                        \n",
       "1   1.52101  13.64  4.49  1.10  71.78  0.06  8.75  0.0  0.0           1   \n",
       "2   1.51761  13.89  3.60  1.36  72.73  0.48  7.83  0.0  0.0           1   \n",
       "3   1.51618  13.53  3.55  1.54  72.99  0.39  7.78  0.0  0.0           1   \n",
       "4   1.51766  13.21  3.69  1.29  72.61  0.57  8.22  0.0  0.0           1   \n",
       "5   1.51742  13.27  3.62  1.24  73.08  0.55  8.07  0.0  0.0           1   \n",
       "\n",
       "    household  household_pred  household_pred_class  \n",
       "id                                                   \n",
       "1           0        0.065459                     0  \n",
       "2           0        0.195765                     0  \n",
       "3           0        0.285976                     0  \n",
       "4           0        0.160682                     0  \n",
       "5           0        0.135623                     0  "
      ]
     },
     "execution_count": 9,
     "metadata": {},
     "output_type": "execute_result"
    }
   ],
   "source": [
    "glass.head(5)"
   ]
  },
  {
   "cell_type": "code",
   "execution_count": 21,
   "metadata": {},
   "outputs": [
    {
     "name": "stdout",
     "output_type": "stream",
     "text": [
      "[[  9.57512963e-01   4.24870368e-02]\n",
      " [  8.83729869e-01   1.16270131e-01]\n",
      " [  7.81727605e-01   2.18272395e-01]\n",
      " [  9.10590269e-01   8.94097310e-02]\n",
      " [  9.26210406e-01   7.37895944e-02]\n",
      " [  7.19368281e-01   2.80631719e-01]\n",
      " [  9.50165283e-01   4.98347166e-02]\n",
      " [  9.65248419e-01   3.47515807e-02]\n",
      " [  8.79365064e-01   1.20634936e-01]\n",
      " [  8.83729869e-01   1.16270131e-01]\n",
      " [  7.67126168e-01   2.32873832e-01]\n",
      " [  9.17167650e-01   8.28323504e-02]\n",
      " [  8.65415687e-01   1.34584313e-01]\n",
      " [  9.17167650e-01   8.28323504e-02]\n",
      " [  9.03545531e-01   9.64544686e-02]\n",
      " [  9.29017074e-01   7.09829263e-02]\n",
      " [  9.46053995e-01   5.39460046e-02]\n",
      " [  9.81890179e-01   1.81098214e-02]\n",
      " [  9.41624370e-01   5.83756296e-02]\n",
      " [  6.56717894e-01   3.43282106e-01]\n",
      " [  8.15293899e-01   1.84706101e-01]\n",
      " [  9.98500716e-01   1.49928375e-03]\n",
      " [  9.10590269e-01   8.94097310e-02]\n",
      " [  8.87956869e-01   1.12043131e-01]\n",
      " [  9.48148145e-01   5.18518549e-02]\n",
      " [  9.34336646e-01   6.56633537e-02]\n",
      " [  8.60471912e-01   1.39528088e-01]\n",
      " [  8.96009117e-01   1.03990883e-01]\n",
      " [  8.50128209e-01   1.49871791e-01]\n",
      " [  9.13935859e-01   8.60641409e-02]\n",
      " [  9.07127841e-01   9.28721593e-02]\n",
      " [  9.50165283e-01   4.98347166e-02]\n",
      " [  9.29017074e-01   7.09829263e-02]\n",
      " [  8.74859606e-01   1.25140394e-01]\n",
      " [  8.92048969e-01   1.07951031e-01]\n",
      " [  9.34336646e-01   6.56633537e-02]\n",
      " [  8.99840300e-01   1.00159700e-01]\n",
      " [  8.87956869e-01   1.12043131e-01]\n",
      " [  9.96823503e-01   3.17649710e-03]\n",
      " [  9.96823503e-01   3.17649710e-03]\n",
      " [  9.53978487e-01   4.60215126e-02]\n",
      " [  9.36855296e-01   6.31447038e-02]\n",
      " [  8.96009117e-01   1.03990883e-01]\n",
      " [  9.91019634e-01   8.98036595e-03]\n",
      " [  9.39283616e-01   6.07163838e-02]\n",
      " [  8.87956869e-01   1.12043131e-01]\n",
      " [  9.41624370e-01   5.83756296e-02]\n",
      " [  9.91384143e-01   8.61585697e-03]\n",
      " [  9.88003431e-01   1.19965694e-02]\n",
      " [  9.29017074e-01   7.09829263e-02]\n",
      " [  9.96247519e-01   3.75248098e-03]\n",
      " [  9.13935859e-01   8.60641409e-02]\n",
      " [  9.39283616e-01   6.07163838e-02]\n",
      " [  9.13935859e-01   8.60641409e-02]\n",
      " [  9.10590269e-01   8.94097310e-02]\n",
      " [  9.10590269e-01   8.94097310e-02]\n",
      " [  9.53978487e-01   4.60215126e-02]\n",
      " [  9.10590269e-01   8.94097310e-02]\n",
      " [  9.43880275e-01   5.61197250e-02]\n",
      " [  9.39283616e-01   6.07163838e-02]\n",
      " [  9.55779392e-01   4.42206077e-02]\n",
      " [  8.99840300e-01   1.00159700e-01]\n",
      " [  9.82618749e-01   1.73812512e-02]\n",
      " [  9.88488944e-01   1.15110561e-02]\n",
      " [  9.81131655e-01   1.88683448e-02]\n",
      " [  9.53978487e-01   4.60215126e-02]\n",
      " [  9.83318506e-01   1.66814938e-02]\n",
      " [  9.83318506e-01   1.66814938e-02]\n",
      " [  9.81131655e-01   1.88683448e-02]\n",
      " [  9.86422267e-01   1.35777334e-02]\n",
      " [  6.08183201e-01   3.91816799e-01]\n",
      " [  9.17167650e-01   8.28323504e-02]\n",
      " [  7.95657389e-01   2.04342611e-01]\n",
      " [  7.59574919e-01   2.40425081e-01]\n",
      " [  7.81727605e-01   2.18272395e-01]\n",
      " [  8.02370224e-01   1.97629776e-01]\n",
      " [  7.81727605e-01   2.18272395e-01]\n",
      " [  7.81727605e-01   2.18272395e-01]\n",
      " [  9.23301924e-01   7.66980762e-02]\n",
      " [  4.42953766e-01   5.57046234e-01]\n",
      " [  2.40695233e-01   7.59304767e-01]\n",
      " [  8.50128209e-01   1.49871791e-01]\n",
      " [  9.23301924e-01   7.66980762e-02]\n",
      " [  7.74510655e-01   2.25489345e-01]\n",
      " [  2.72563412e-01   7.27436588e-01]\n",
      " [  8.15293899e-01   1.84706101e-01]\n",
      " [  8.27554085e-01   1.72445915e-01]\n",
      " [  7.95657389e-01   2.04342611e-01]\n",
      " [  8.21506370e-01   1.78493630e-01]\n",
      " [  4.74080573e-01   5.25919427e-01]\n",
      " [  9.55779392e-01   4.42206077e-02]\n",
      " [  8.39161024e-01   1.60838976e-01]\n",
      " [  7.51858015e-01   2.48141985e-01]\n",
      " [  8.27554085e-01   1.72445915e-01]\n",
      " [  8.15293899e-01   1.84706101e-01]\n",
      " [  8.50128209e-01   1.49871791e-01]\n",
      " [  9.63818547e-01   3.61814533e-02]\n",
      " [  9.46053995e-01   5.39460046e-02]\n",
      " [  6.37630347e-01   3.62369653e-01]\n",
      " [  8.50128209e-01   1.49871791e-01]\n",
      " [  8.44723628e-01   1.55276372e-01]\n",
      " [  7.10852127e-01   2.89147873e-01]\n",
      " [  9.85850833e-01   1.41491672e-02]\n",
      " [  9.92997897e-01   7.00210348e-03]\n",
      " [  9.43880275e-01   5.61197250e-02]\n",
      " [  4.63670444e-01   5.36329556e-01]\n",
      " [  2.56304856e-01   7.43695144e-01]\n",
      " [  9.71617257e-01   2.83827432e-02]\n",
      " [  9.71617257e-01   2.83827432e-02]\n",
      " [  9.95379211e-01   4.62078891e-03]\n",
      " [  9.88955028e-01   1.10449724e-02]\n",
      " [  9.89831918e-01   1.01680815e-02]\n",
      " [  9.92701158e-01   7.29884243e-03]\n",
      " [  9.20288668e-01   7.97113323e-02]\n",
      " [  9.39283616e-01   6.07163838e-02]\n",
      " [  8.96009117e-01   1.03990883e-01]\n",
      " [  8.60471912e-01   1.39528088e-01]\n",
      " [  5.36697269e-01   4.63302731e-01]\n",
      " [  7.88776565e-01   2.11223435e-01]\n",
      " [  8.27554085e-01   1.72445915e-01]\n",
      " [  8.99840300e-01   1.00159700e-01]\n",
      " [  7.19368281e-01   2.80631719e-01]\n",
      " [  8.21506370e-01   1.78493630e-01]\n",
      " [  6.37630347e-01   3.62369653e-01]\n",
      " [  9.48148145e-01   5.18518549e-02]\n",
      " [  7.67126168e-01   2.32873832e-01]\n",
      " [  9.20288668e-01   7.97113323e-02]\n",
      " [  8.50128209e-01   1.49871791e-01]\n",
      " [  6.75311991e-01   3.24688009e-01]\n",
      " [  7.10852127e-01   2.89147873e-01]\n",
      " [  8.83729869e-01   1.16270131e-01]\n",
      " [  8.83729869e-01   1.16270131e-01]\n",
      " [  9.41624370e-01   5.83756296e-02]\n",
      " [  7.81727605e-01   2.18272395e-01]\n",
      " [  9.23301924e-01   7.66980762e-02]\n",
      " [  9.07127841e-01   9.28721593e-02]\n",
      " [  9.60787147e-01   3.92128528e-02]\n",
      " [  7.59574919e-01   2.40425081e-01]\n",
      " [  7.81727605e-01   2.18272395e-01]\n",
      " [  7.02184529e-01   2.97815471e-01]\n",
      " [  7.27729682e-01   2.72270318e-01]\n",
      " [  9.62332137e-01   3.76678629e-02]\n",
      " [  8.44723628e-01   1.55276372e-01]\n",
      " [  5.57411075e-01   4.42588925e-01]\n",
      " [  9.29017074e-01   7.09829263e-02]\n",
      " [  9.26210406e-01   7.37895944e-02]\n",
      " [  9.55779392e-01   4.42206077e-02]\n",
      " [  8.92048969e-01   1.07951031e-01]\n",
      " [  8.74859606e-01   1.25140394e-01]\n",
      " [  8.87956869e-01   1.12043131e-01]\n",
      " [  5.88089656e-01   4.11910344e-01]\n",
      " [  9.85850833e-01   1.41491672e-02]\n",
      " [  9.93282653e-01   6.71734701e-03]\n",
      " [  9.31724856e-01   6.82751436e-02]\n",
      " [  9.03545531e-01   9.64544686e-02]\n",
      " [  9.20288668e-01   7.97113323e-02]\n",
      " [  9.13935859e-01   8.60641409e-02]\n",
      " [  9.94978289e-01   5.02171076e-03]\n",
      " [  7.95657389e-01   2.04342611e-01]\n",
      " [  7.10852127e-01   2.89147873e-01]\n",
      " [  7.81727605e-01   2.18272395e-01]\n",
      " [  9.89831918e-01   1.01680815e-02]\n",
      " [  9.80341997e-01   1.96580025e-02]\n",
      " [  9.88997742e-04   9.99011002e-01]\n",
      " [  4.84513283e-01   5.15486717e-01]\n",
      " [  7.67126168e-01   2.32873832e-01]\n",
      " [  7.67126168e-01   2.32873832e-01]\n",
      " [  6.93369184e-01   3.06630816e-01]\n",
      " [  5.15856038e-01   4.84143962e-01]\n",
      " [  5.88089656e-01   4.11910344e-01]\n",
      " [  7.51858015e-01   2.48141985e-01]\n",
      " [  6.72722067e-03   9.93272779e-01]\n",
      " [  7.30956453e-03   9.92690435e-01]\n",
      " [  8.65415687e-01   1.34584313e-01]\n",
      " [  2.04583140e-01   7.95416860e-01]\n",
      " [  8.02370224e-01   1.97629776e-01]\n",
      " [  7.67126168e-01   2.32873832e-01]\n",
      " [  9.39283616e-01   6.07163838e-02]\n",
      " [  7.19368281e-01   2.80631719e-01]\n",
      " [  6.84410180e-01   3.15589820e-01]\n",
      " [  7.81727605e-01   2.18272395e-01]\n",
      " [  6.08183201e-01   3.91816799e-01]\n",
      " [  2.64354065e-01   7.35645935e-01]\n",
      " [  9.95379211e-01   4.62078891e-03]\n",
      " [  9.98152822e-01   1.84717826e-03]\n",
      " [  5.36697269e-01   4.63302731e-01]\n",
      " [  1.72657045e-01   8.27342955e-01]\n",
      " [  9.29017074e-01   7.09829263e-02]\n",
      " [  2.89451910e-01   7.10548090e-01]\n",
      " [  9.03545531e-01   9.64544686e-02]\n",
      " [  5.57411075e-01   4.42588925e-01]\n",
      " [  9.65834189e-02   9.03416581e-01]\n",
      " [  1.88957391e-02   9.81104261e-01]\n",
      " [  3.43615549e-01   6.56384451e-01]\n",
      " [  3.62711396e-01   6.37288604e-01]\n",
      " [  2.96010381e-02   9.70398962e-01]\n",
      " [  5.19246026e-02   9.48075397e-01]\n",
      " [  1.12190334e-01   8.87809666e-01]\n",
      " [  3.20994708e-02   9.67900529e-01]\n",
      " [  5.84569658e-02   9.41543034e-01]\n",
      " [  1.55470430e-01   8.44529570e-01]\n",
      " [  9.39283616e-01   6.07163838e-02]\n",
      " [  8.29447611e-02   9.17055239e-01]\n",
      " [  3.53104849e-01   6.46895151e-01]\n",
      " [  1.44806143e-01   8.55193857e-01]\n",
      " [  5.47074551e-01   4.52925449e-01]\n",
      " [  4.74080573e-01   5.25919427e-01]\n",
      " [  5.26288104e-01   4.73711896e-01]\n",
      " [  2.31865780e-02   9.76813422e-01]\n",
      " [  1.30481019e-02   9.86951898e-01]\n",
      " [  3.53104849e-01   6.46895151e-01]\n",
      " [  3.25012329e-01   6.74987671e-01]\n",
      " [  4.02177826e-01   5.97822174e-01]\n",
      " [  2.72563412e-01   7.27436588e-01]]\n"
     ]
    }
   ],
   "source": [
    "# First column: predicted probability of class 0\n",
    "# Second column: predicted probability of class 1\n",
    "print(logreg.predict_proba(X))"
   ]
  },
  {
   "cell_type": "code",
   "execution_count": 22,
   "metadata": {},
   "outputs": [],
   "source": [
    "# store the predicted probabilites of class 1\n",
    "glass['household_pred_prob'] = logreg.predict_proba(X)[:, 1]"
   ]
  },
  {
   "cell_type": "code",
   "execution_count": 23,
   "metadata": {},
   "outputs": [
    {
     "data": {
      "text/html": [
       "<div>\n",
       "<style>\n",
       "    .dataframe thead tr:only-child th {\n",
       "        text-align: right;\n",
       "    }\n",
       "\n",
       "    .dataframe thead th {\n",
       "        text-align: left;\n",
       "    }\n",
       "\n",
       "    .dataframe tbody tr th {\n",
       "        vertical-align: top;\n",
       "    }\n",
       "</style>\n",
       "<table border=\"1\" class=\"dataframe\">\n",
       "  <thead>\n",
       "    <tr style=\"text-align: right;\">\n",
       "      <th></th>\n",
       "      <th>ri</th>\n",
       "      <th>na</th>\n",
       "      <th>mg</th>\n",
       "      <th>al</th>\n",
       "      <th>si</th>\n",
       "      <th>k</th>\n",
       "      <th>ca</th>\n",
       "      <th>ba</th>\n",
       "      <th>fe</th>\n",
       "      <th>glass_type</th>\n",
       "      <th>household</th>\n",
       "      <th>household_pred</th>\n",
       "      <th>household_pred_class</th>\n",
       "      <th>household_pred_prob</th>\n",
       "    </tr>\n",
       "    <tr>\n",
       "      <th>id</th>\n",
       "      <th></th>\n",
       "      <th></th>\n",
       "      <th></th>\n",
       "      <th></th>\n",
       "      <th></th>\n",
       "      <th></th>\n",
       "      <th></th>\n",
       "      <th></th>\n",
       "      <th></th>\n",
       "      <th></th>\n",
       "      <th></th>\n",
       "      <th></th>\n",
       "      <th></th>\n",
       "      <th></th>\n",
       "    </tr>\n",
       "  </thead>\n",
       "  <tbody>\n",
       "    <tr>\n",
       "      <th>1</th>\n",
       "      <td>1.52101</td>\n",
       "      <td>13.64</td>\n",
       "      <td>4.49</td>\n",
       "      <td>1.10</td>\n",
       "      <td>71.78</td>\n",
       "      <td>0.06</td>\n",
       "      <td>8.75</td>\n",
       "      <td>0.0</td>\n",
       "      <td>0.00</td>\n",
       "      <td>1</td>\n",
       "      <td>0</td>\n",
       "      <td>0.065459</td>\n",
       "      <td>0</td>\n",
       "      <td>0.042487</td>\n",
       "    </tr>\n",
       "    <tr>\n",
       "      <th>2</th>\n",
       "      <td>1.51761</td>\n",
       "      <td>13.89</td>\n",
       "      <td>3.60</td>\n",
       "      <td>1.36</td>\n",
       "      <td>72.73</td>\n",
       "      <td>0.48</td>\n",
       "      <td>7.83</td>\n",
       "      <td>0.0</td>\n",
       "      <td>0.00</td>\n",
       "      <td>1</td>\n",
       "      <td>0</td>\n",
       "      <td>0.195765</td>\n",
       "      <td>0</td>\n",
       "      <td>0.116270</td>\n",
       "    </tr>\n",
       "    <tr>\n",
       "      <th>3</th>\n",
       "      <td>1.51618</td>\n",
       "      <td>13.53</td>\n",
       "      <td>3.55</td>\n",
       "      <td>1.54</td>\n",
       "      <td>72.99</td>\n",
       "      <td>0.39</td>\n",
       "      <td>7.78</td>\n",
       "      <td>0.0</td>\n",
       "      <td>0.00</td>\n",
       "      <td>1</td>\n",
       "      <td>0</td>\n",
       "      <td>0.285976</td>\n",
       "      <td>0</td>\n",
       "      <td>0.218272</td>\n",
       "    </tr>\n",
       "    <tr>\n",
       "      <th>4</th>\n",
       "      <td>1.51766</td>\n",
       "      <td>13.21</td>\n",
       "      <td>3.69</td>\n",
       "      <td>1.29</td>\n",
       "      <td>72.61</td>\n",
       "      <td>0.57</td>\n",
       "      <td>8.22</td>\n",
       "      <td>0.0</td>\n",
       "      <td>0.00</td>\n",
       "      <td>1</td>\n",
       "      <td>0</td>\n",
       "      <td>0.160682</td>\n",
       "      <td>0</td>\n",
       "      <td>0.089410</td>\n",
       "    </tr>\n",
       "    <tr>\n",
       "      <th>5</th>\n",
       "      <td>1.51742</td>\n",
       "      <td>13.27</td>\n",
       "      <td>3.62</td>\n",
       "      <td>1.24</td>\n",
       "      <td>73.08</td>\n",
       "      <td>0.55</td>\n",
       "      <td>8.07</td>\n",
       "      <td>0.0</td>\n",
       "      <td>0.00</td>\n",
       "      <td>1</td>\n",
       "      <td>0</td>\n",
       "      <td>0.135623</td>\n",
       "      <td>0</td>\n",
       "      <td>0.073790</td>\n",
       "    </tr>\n",
       "    <tr>\n",
       "      <th>6</th>\n",
       "      <td>1.51596</td>\n",
       "      <td>12.79</td>\n",
       "      <td>3.61</td>\n",
       "      <td>1.62</td>\n",
       "      <td>72.97</td>\n",
       "      <td>0.64</td>\n",
       "      <td>8.07</td>\n",
       "      <td>0.0</td>\n",
       "      <td>0.26</td>\n",
       "      <td>1</td>\n",
       "      <td>0</td>\n",
       "      <td>0.326071</td>\n",
       "      <td>0</td>\n",
       "      <td>0.280632</td>\n",
       "    </tr>\n",
       "    <tr>\n",
       "      <th>7</th>\n",
       "      <td>1.51743</td>\n",
       "      <td>13.30</td>\n",
       "      <td>3.60</td>\n",
       "      <td>1.14</td>\n",
       "      <td>73.09</td>\n",
       "      <td>0.58</td>\n",
       "      <td>8.17</td>\n",
       "      <td>0.0</td>\n",
       "      <td>0.00</td>\n",
       "      <td>1</td>\n",
       "      <td>0</td>\n",
       "      <td>0.085506</td>\n",
       "      <td>0</td>\n",
       "      <td>0.049835</td>\n",
       "    </tr>\n",
       "    <tr>\n",
       "      <th>8</th>\n",
       "      <td>1.51756</td>\n",
       "      <td>13.15</td>\n",
       "      <td>3.61</td>\n",
       "      <td>1.05</td>\n",
       "      <td>73.24</td>\n",
       "      <td>0.57</td>\n",
       "      <td>8.24</td>\n",
       "      <td>0.0</td>\n",
       "      <td>0.00</td>\n",
       "      <td>1</td>\n",
       "      <td>0</td>\n",
       "      <td>0.040400</td>\n",
       "      <td>0</td>\n",
       "      <td>0.034752</td>\n",
       "    </tr>\n",
       "    <tr>\n",
       "      <th>9</th>\n",
       "      <td>1.51918</td>\n",
       "      <td>14.04</td>\n",
       "      <td>3.58</td>\n",
       "      <td>1.37</td>\n",
       "      <td>72.08</td>\n",
       "      <td>0.56</td>\n",
       "      <td>8.30</td>\n",
       "      <td>0.0</td>\n",
       "      <td>0.00</td>\n",
       "      <td>1</td>\n",
       "      <td>0</td>\n",
       "      <td>0.200776</td>\n",
       "      <td>0</td>\n",
       "      <td>0.120635</td>\n",
       "    </tr>\n",
       "    <tr>\n",
       "      <th>10</th>\n",
       "      <td>1.51755</td>\n",
       "      <td>13.00</td>\n",
       "      <td>3.60</td>\n",
       "      <td>1.36</td>\n",
       "      <td>72.99</td>\n",
       "      <td>0.57</td>\n",
       "      <td>8.40</td>\n",
       "      <td>0.0</td>\n",
       "      <td>0.11</td>\n",
       "      <td>1</td>\n",
       "      <td>0</td>\n",
       "      <td>0.195765</td>\n",
       "      <td>0</td>\n",
       "      <td>0.116270</td>\n",
       "    </tr>\n",
       "  </tbody>\n",
       "</table>\n",
       "</div>"
      ],
      "text/plain": [
       "         ri     na    mg    al     si     k    ca   ba    fe  glass_type  \\\n",
       "id                                                                         \n",
       "1   1.52101  13.64  4.49  1.10  71.78  0.06  8.75  0.0  0.00           1   \n",
       "2   1.51761  13.89  3.60  1.36  72.73  0.48  7.83  0.0  0.00           1   \n",
       "3   1.51618  13.53  3.55  1.54  72.99  0.39  7.78  0.0  0.00           1   \n",
       "4   1.51766  13.21  3.69  1.29  72.61  0.57  8.22  0.0  0.00           1   \n",
       "5   1.51742  13.27  3.62  1.24  73.08  0.55  8.07  0.0  0.00           1   \n",
       "6   1.51596  12.79  3.61  1.62  72.97  0.64  8.07  0.0  0.26           1   \n",
       "7   1.51743  13.30  3.60  1.14  73.09  0.58  8.17  0.0  0.00           1   \n",
       "8   1.51756  13.15  3.61  1.05  73.24  0.57  8.24  0.0  0.00           1   \n",
       "9   1.51918  14.04  3.58  1.37  72.08  0.56  8.30  0.0  0.00           1   \n",
       "10  1.51755  13.00  3.60  1.36  72.99  0.57  8.40  0.0  0.11           1   \n",
       "\n",
       "    household  household_pred  household_pred_class  household_pred_prob  \n",
       "id                                                                        \n",
       "1           0        0.065459                     0             0.042487  \n",
       "2           0        0.195765                     0             0.116270  \n",
       "3           0        0.285976                     0             0.218272  \n",
       "4           0        0.160682                     0             0.089410  \n",
       "5           0        0.135623                     0             0.073790  \n",
       "6           0        0.326071                     0             0.280632  \n",
       "7           0        0.085506                     0             0.049835  \n",
       "8           0        0.040400                     0             0.034752  \n",
       "9           0        0.200776                     0             0.120635  \n",
       "10          0        0.195765                     0             0.116270  "
      ]
     },
     "execution_count": 23,
     "metadata": {},
     "output_type": "execute_result"
    }
   ],
   "source": [
    "glass.head(10)"
   ]
  },
  {
   "cell_type": "code",
   "execution_count": 24,
   "metadata": {},
   "outputs": [
    {
     "data": {
      "text/plain": [
       "<matplotlib.text.Text at 0x11b448320>"
      ]
     },
     "execution_count": 24,
     "metadata": {},
     "output_type": "execute_result"
    },
    {
     "data": {
      "image/png": "[encoded data removed]",
      "text/plain": [
       "<matplotlib.figure.Figure at 0x11b771ac8>"
      ]
     },
     "metadata": {},
     "output_type": "display_data"
    }
   ],
   "source": [
    "# plot the predicted probabilities\n",
    "plt.scatter(glass.al, glass.household)\n",
    "plt.scatter(glass.al, glass.household_pred_prob, color='red')\n",
    "# plt.plot(glass.al, glass.household_pred_prob, color='red')\n",
    "plt.xlabel('al')\n",
    "plt.ylabel('household')"
   ]
  },
  {
   "cell_type": "markdown",
   "metadata": {},
   "source": [
    "## 3. Iris data classification"
   ]
  },
  {
   "cell_type": "code",
   "execution_count": 26,
   "metadata": {},
   "outputs": [
    {
     "name": "stdout",
     "output_type": "stream",
     "text": [
      "Class labels: [0 1 2]\n"
     ]
    }
   ],
   "source": [
    "from sklearn import datasets\n",
    "import numpy as np\n",
    "\n",
    "iris = datasets.load_iris()\n",
    "X = iris.data[:, [2, 3]]\n",
    "y = iris.target\n",
    "\n",
    "print('Class labels:', np.unique(y))"
   ]
  },
  {
   "cell_type": "markdown",
   "metadata": {},
   "source": [
    "Splitting data into 70% training and 30% test data:"
   ]
  },
  {
   "cell_type": "code",
   "execution_count": 27,
   "metadata": {
    "collapsed": true
   },
   "outputs": [],
   "source": [
    "from sklearn.model_selection import train_test_split\n",
    "\n",
    "X_train, X_test, y_train, y_test = train_test_split(\n",
    "    X, y, test_size=0.3, random_state=0)"
   ]
  },
  {
   "cell_type": "markdown",
   "metadata": {},
   "source": [
    "Standardizing the features:"
   ]
  },
  {
   "cell_type": "code",
   "execution_count": 28,
   "metadata": {
    "collapsed": true
   },
   "outputs": [],
   "source": [
    "from sklearn.preprocessing import StandardScaler\n",
    "\n",
    "sc = StandardScaler()\n",
    "sc.fit(X_train)\n",
    "X_train_std = sc.transform(X_train)\n",
    "X_test_std = sc.transform(X_test)"
   ]
  },
  {
   "cell_type": "code",
   "execution_count": 29,
   "metadata": {
    "collapsed": true
   },
   "outputs": [],
   "source": [
    "from matplotlib.colors import ListedColormap\n",
    "import matplotlib.pyplot as plt\n",
    "import warnings\n",
    "\n",
    "\n",
    "def versiontuple(v):\n",
    "    return tuple(map(int, (v.split(\".\"))))\n",
    "\n",
    "\n",
    "def plot_decision_regions(X, y, classifier, test_idx=None, resolution=0.02):\n",
    "\n",
    "    # setup marker generator and color map\n",
    "    markers = ('s', 'x', 'o', '^', 'v')\n",
    "    colors = ('red', 'blue', 'lightgreen', 'gray', 'cyan')\n",
    "    cmap = ListedColormap(colors[:len(np.unique(y))])\n",
    "\n",
    "    # plot the decision surface\n",
    "    x1_min, x1_max = X[:, 0].min() - 1, X[:, 0].max() + 1\n",
    "    x2_min, x2_max = X[:, 1].min() - 1, X[:, 1].max() + 1\n",
    "    xx1, xx2 = np.meshgrid(np.arange(x1_min, x1_max, resolution),\n",
    "                           np.arange(x2_min, x2_max, resolution))\n",
    "    Z = classifier.predict(np.array([xx1.ravel(), xx2.ravel()]).T)\n",
    "    Z = Z.reshape(xx1.shape)\n",
    "    plt.contourf(xx1, xx2, Z, alpha=0.4, cmap=cmap)\n",
    "    plt.xlim(xx1.min(), xx1.max())\n",
    "    plt.ylim(xx2.min(), xx2.max())\n",
    "\n",
    "    for idx, cl in enumerate(np.unique(y)):\n",
    "        plt.scatter(x=X[y == cl, 0], y=X[y == cl, 1],\n",
    "                    alpha=0.8, c=cmap(idx),\n",
    "                    marker=markers[idx], label=cl)\n",
    "\n",
    "    # highlight test samples\n",
    "    if test_idx:\n",
    "        # plot all samples\n",
    "        if not versiontuple(np.__version__) >= versiontuple('1.9.0'):\n",
    "            X_test, y_test = X[list(test_idx), :], y[list(test_idx)]\n",
    "            warnings.warn('Please update to NumPy 1.9.0 or newer')\n",
    "        else:\n",
    "            X_test, y_test = X[test_idx, :], y[test_idx]\n",
    "\n",
    "        plt.scatter(X_test[:, 0],\n",
    "                    X_test[:, 1],\n",
    "                    c='',\n",
    "                    alpha=1.0,\n",
    "                    linewidths=1,\n",
    "                    marker='o',\n",
    "                    s=55, label='test set')"
   ]
  },
  {
   "cell_type": "markdown",
   "metadata": {},
   "source": [
    "Training a logistic regression model with scikit-learn"
   ]
  },
  {
   "cell_type": "code",
   "execution_count": 30,
   "metadata": {},
   "outputs": [
    {
     "data": {
      "image/png": "[encoded data removed]",
      "text/plain": [
       "<matplotlib.figure.Figure at 0x11b7adcf8>"
      ]
     },
     "metadata": {},
     "output_type": "display_data"
    }
   ],
   "source": [
    "from sklearn.linear_model import LogisticRegression\n",
    "\n",
    "X_combined_std = np.vstack((X_train_std, X_test_std))\n",
    "y_combined = np.hstack((y_train, y_test))\n",
    "\n",
    "lr = LogisticRegression(C=1000.0, random_state=0)\n",
    "lr.fit(X_train_std, y_train)\n",
    "\n",
    "\n",
    "plot_decision_regions(X_combined_std, y_combined,\n",
    "                      classifier=lr, test_idx=range(105, 150))\n",
    "plt.xlabel('petal length [standardized]')\n",
    "plt.ylabel('petal width [standardized]')\n",
    "plt.legend(loc='upper left')\n",
    "plt.tight_layout()\n",
    "# plt.savefig('./figures/logistic_regression.png', dpi=300)\n",
    "plt.show()"
   ]
  },
  {
   "cell_type": "code",
   "execution_count": 31,
   "metadata": {},
   "outputs": [
    {
     "name": "stderr",
     "output_type": "stream",
     "text": [
      "/Users/kth/anaconda3/envs/ml_edu/lib/python3.5/site-packages/sklearn/utils/validation.py:395: DeprecationWarning: Passing 1d arrays as data is deprecated in 0.17 and will raise ValueError in 0.19. Reshape your data either using X.reshape(-1, 1) if your data has a single feature or X.reshape(1, -1) if it contains a single sample.\n",
      "  DeprecationWarning)\n"
     ]
    },
    {
     "data": {
      "text/plain": [
       "array([[  2.05743774e-11,   6.31620264e-02,   9.36837974e-01]])"
      ]
     },
     "execution_count": 31,
     "metadata": {},
     "output_type": "execute_result"
    }
   ],
   "source": [
    "lr.predict_proba(X_test_std[0, :])"
   ]
  },
  {
   "cell_type": "markdown",
   "metadata": {},
   "source": [
    "# 4. Classification with TItanic dataset\n",
    "- Data from Kaggle's Titanic competition: [data dictionary](https://www.kaggle.com/c/titanic/data)\n",
    "- **Goal**: Predict survival based on passenger characteristics\n",
    "- `titanic.csv` is already in our repo, so there is no need to download the data from the Kaggle website"
   ]
  },
  {
   "cell_type": "code",
   "execution_count": 32,
   "metadata": {},
   "outputs": [
    {
     "data": {
      "text/html": [
       "<div>\n",
       "<style>\n",
       "    .dataframe thead tr:only-child th {\n",
       "        text-align: right;\n",
       "    }\n",
       "\n",
       "    .dataframe thead th {\n",
       "        text-align: left;\n",
       "    }\n",
       "\n",
       "    .dataframe tbody tr th {\n",
       "        vertical-align: top;\n",
       "    }\n",
       "</style>\n",
       "<table border=\"1\" class=\"dataframe\">\n",
       "  <thead>\n",
       "    <tr style=\"text-align: right;\">\n",
       "      <th></th>\n",
       "      <th>Survived</th>\n",
       "      <th>Pclass</th>\n",
       "      <th>Name</th>\n",
       "      <th>Sex</th>\n",
       "      <th>Age</th>\n",
       "      <th>SibSp</th>\n",
       "      <th>Parch</th>\n",
       "      <th>Ticket</th>\n",
       "      <th>Fare</th>\n",
       "      <th>Cabin</th>\n",
       "      <th>Embarked</th>\n",
       "    </tr>\n",
       "    <tr>\n",
       "      <th>PassengerId</th>\n",
       "      <th></th>\n",
       "      <th></th>\n",
       "      <th></th>\n",
       "      <th></th>\n",
       "      <th></th>\n",
       "      <th></th>\n",
       "      <th></th>\n",
       "      <th></th>\n",
       "      <th></th>\n",
       "      <th></th>\n",
       "      <th></th>\n",
       "    </tr>\n",
       "  </thead>\n",
       "  <tbody>\n",
       "    <tr>\n",
       "      <th>1</th>\n",
       "      <td>0</td>\n",
       "      <td>3</td>\n",
       "      <td>Braund, Mr. Owen Harris</td>\n",
       "      <td>male</td>\n",
       "      <td>22.0</td>\n",
       "      <td>1</td>\n",
       "      <td>0</td>\n",
       "      <td>A/5 21171</td>\n",
       "      <td>7.2500</td>\n",
       "      <td>NaN</td>\n",
       "      <td>S</td>\n",
       "    </tr>\n",
       "    <tr>\n",
       "      <th>2</th>\n",
       "      <td>1</td>\n",
       "      <td>1</td>\n",
       "      <td>Cumings, Mrs. John Bradley (Florence Briggs Th...</td>\n",
       "      <td>female</td>\n",
       "      <td>38.0</td>\n",
       "      <td>1</td>\n",
       "      <td>0</td>\n",
       "      <td>PC 17599</td>\n",
       "      <td>71.2833</td>\n",
       "      <td>C85</td>\n",
       "      <td>C</td>\n",
       "    </tr>\n",
       "    <tr>\n",
       "      <th>3</th>\n",
       "      <td>1</td>\n",
       "      <td>3</td>\n",
       "      <td>Heikkinen, Miss. Laina</td>\n",
       "      <td>female</td>\n",
       "      <td>26.0</td>\n",
       "      <td>0</td>\n",
       "      <td>0</td>\n",
       "      <td>STON/O2. 3101282</td>\n",
       "      <td>7.9250</td>\n",
       "      <td>NaN</td>\n",
       "      <td>S</td>\n",
       "    </tr>\n",
       "    <tr>\n",
       "      <th>4</th>\n",
       "      <td>1</td>\n",
       "      <td>1</td>\n",
       "      <td>Futrelle, Mrs. Jacques Heath (Lily May Peel)</td>\n",
       "      <td>female</td>\n",
       "      <td>35.0</td>\n",
       "      <td>1</td>\n",
       "      <td>0</td>\n",
       "      <td>113803</td>\n",
       "      <td>53.1000</td>\n",
       "      <td>C123</td>\n",
       "      <td>S</td>\n",
       "    </tr>\n",
       "    <tr>\n",
       "      <th>5</th>\n",
       "      <td>0</td>\n",
       "      <td>3</td>\n",
       "      <td>Allen, Mr. William Henry</td>\n",
       "      <td>male</td>\n",
       "      <td>35.0</td>\n",
       "      <td>0</td>\n",
       "      <td>0</td>\n",
       "      <td>373450</td>\n",
       "      <td>8.0500</td>\n",
       "      <td>NaN</td>\n",
       "      <td>S</td>\n",
       "    </tr>\n",
       "  </tbody>\n",
       "</table>\n",
       "</div>"
      ],
      "text/plain": [
       "             Survived  Pclass  \\\n",
       "PassengerId                     \n",
       "1                   0       3   \n",
       "2                   1       1   \n",
       "3                   1       3   \n",
       "4                   1       1   \n",
       "5                   0       3   \n",
       "\n",
       "                                                          Name     Sex   Age  \\\n",
       "PassengerId                                                                    \n",
       "1                                      Braund, Mr. Owen Harris    male  22.0   \n",
       "2            Cumings, Mrs. John Bradley (Florence Briggs Th...  female  38.0   \n",
       "3                                       Heikkinen, Miss. Laina  female  26.0   \n",
       "4                 Futrelle, Mrs. Jacques Heath (Lily May Peel)  female  35.0   \n",
       "5                                     Allen, Mr. William Henry    male  35.0   \n",
       "\n",
       "             SibSp  Parch            Ticket     Fare Cabin Embarked  \n",
       "PassengerId                                                          \n",
       "1                1      0         A/5 21171   7.2500   NaN        S  \n",
       "2                1      0          PC 17599  71.2833   C85        C  \n",
       "3                0      0  STON/O2. 3101282   7.9250   NaN        S  \n",
       "4                1      0            113803  53.1000  C123        S  \n",
       "5                0      0            373450   8.0500   NaN        S  "
      ]
     },
     "execution_count": 32,
     "metadata": {},
     "output_type": "execute_result"
    }
   ],
   "source": [
    "import pandas as pd\n",
    "url = 'data/titanic.csv'\n",
    "titanic = pd.read_csv(url, index_col='PassengerId')\n",
    "titanic.head()"
   ]
  },
  {
   "cell_type": "code",
   "execution_count": 33,
   "metadata": {
    "collapsed": true
   },
   "outputs": [],
   "source": [
    "feature_cols = ['Pclass', 'Parch']\n",
    "X = titanic[feature_cols]\n",
    "y = titanic.Survived\n",
    "\n",
    "from sklearn.model_selection import train_test_split\n",
    "X_train, X_test, y_train, y_test = train_test_split(X, y, random_state=123)"
   ]
  },
  {
   "cell_type": "code",
   "execution_count": 34,
   "metadata": {},
   "outputs": [
    {
     "name": "stdout",
     "output_type": "stream",
     "text": [
      "[('Pclass', -0.82242418640816817), ('Parch', 0.27167984457549266)]\n"
     ]
    }
   ],
   "source": [
    "from sklearn.linear_model import LogisticRegression\n",
    "logreg = LogisticRegression(C=1000)\n",
    "logreg.fit(X_train, y_train)\n",
    "print(list(zip(feature_cols, logreg.coef_[0])))"
   ]
  },
  {
   "cell_type": "code",
   "execution_count": 35,
   "metadata": {},
   "outputs": [
    {
     "name": "stdout",
     "output_type": "stream",
     "text": [
      "[[-0.82242419  0.27167984]]\n",
      "[-0.82242419  0.27167984]\n"
     ]
    }
   ],
   "source": [
    "print(logreg.coef_)\n",
    "print(logreg.coef_[0])"
   ]
  },
  {
   "cell_type": "code",
   "execution_count": 36,
   "metadata": {
    "collapsed": true
   },
   "outputs": [],
   "source": [
    "# class predictions (not predicted probabilities)\n",
    "y_pred_class = logreg.predict(X_test)"
   ]
  },
  {
   "cell_type": "code",
   "execution_count": 37,
   "metadata": {},
   "outputs": [
    {
     "name": "stdout",
     "output_type": "stream",
     "text": [
      "0.699551569507\n"
     ]
    }
   ],
   "source": [
    "# calculate classification accuracy\n",
    "from sklearn import metrics\n",
    "print(metrics.accuracy_score(y_test, y_pred_class))"
   ]
  },
  {
   "cell_type": "markdown",
   "metadata": {},
   "source": [
    "# 5. How to evaluate the classification model"
   ]
  },
  {
   "cell_type": "markdown",
   "metadata": {},
   "source": [
    "## Using confusion matrix"
   ]
  },
  {
   "cell_type": "code",
   "execution_count": 38,
   "metadata": {},
   "outputs": [
    {
     "name": "stdout",
     "output_type": "stream",
     "text": [
      "[[114  25]\n",
      " [ 42  42]]\n"
     ]
    }
   ],
   "source": [
    "# print confusion matrix\n",
    "print(metrics.confusion_matrix(y_test, y_pred_class))"
   ]
  },
  {
   "cell_type": "code",
   "execution_count": 39,
   "metadata": {
    "collapsed": true
   },
   "outputs": [],
   "source": [
    "# save confusion matrix and slice into four pieces\n",
    "confusion = metrics.confusion_matrix(y_test, y_pred_class)\n",
    "TP = confusion[1][1]\n",
    "TN = confusion[0][0]\n",
    "FP = confusion[0][1]\n",
    "FN = confusion[1][0]"
   ]
  },
  {
   "cell_type": "code",
   "execution_count": 40,
   "metadata": {},
   "outputs": [
    {
     "name": "stdout",
     "output_type": "stream",
     "text": [
      "True Positives: 42\n",
      "True Negatives: 114\n",
      "False Positives: 25\n",
      "False Negatives: 42\n"
     ]
    }
   ],
   "source": [
    "print('True Positives:', TP)\n",
    "print('True Negatives:', TN)\n",
    "print('False Positives:', FP)\n",
    "print('False Negatives:', FN)"
   ]
  },
  {
   "cell_type": "code",
   "execution_count": 41,
   "metadata": {},
   "outputs": [
    {
     "name": "stdout",
     "output_type": "stream",
     "text": [
      "Sensitivity: 0.5\n"
     ]
    }
   ],
   "source": [
    "# calculate the sensitivity\n",
    "print('Sensitivity:', TP / (TP + FN))"
   ]
  },
  {
   "cell_type": "code",
   "execution_count": 42,
   "metadata": {},
   "outputs": [
    {
     "name": "stdout",
     "output_type": "stream",
     "text": [
      "Specificity: 0.820143884892\n"
     ]
    }
   ],
   "source": [
    "# calculate the specificity\n",
    "print('Specificity:', TN / (TN + FP))"
   ]
  },
  {
   "cell_type": "code",
   "execution_count": 43,
   "metadata": {},
   "outputs": [
    {
     "name": "stdout",
     "output_type": "stream",
     "text": [
      "             precision    recall  f1-score   support\n",
      "\n",
      "          0       0.73      0.82      0.77       139\n",
      "          1       0.63      0.50      0.56        84\n",
      "\n",
      "avg / total       0.69      0.70      0.69       223\n",
      "\n"
     ]
    }
   ],
   "source": [
    "print(metrics.classification_report(y_test, y_pred_class))"
   ]
  },
  {
   "cell_type": "markdown",
   "metadata": {},
   "source": [
    "### How about using other threshold?\n",
    "- If y_pred_prob > 0.3, than y_pred_class = 1"
   ]
  },
  {
   "cell_type": "code",
   "execution_count": 44,
   "metadata": {},
   "outputs": [
    {
     "name": "stdout",
     "output_type": "stream",
     "text": [
      "[[ 0.70866641  0.29133359]\n",
      " [ 0.76144096  0.23855904]\n",
      " [ 0.38124844  0.61875156]\n",
      " [ 0.38124844  0.61875156]\n",
      " [ 0.76144096  0.23855904]\n",
      " [ 0.58374631  0.41625369]\n",
      " [ 0.58374631  0.41625369]\n",
      " [ 0.58374631  0.41625369]\n",
      " [ 0.70866641  0.29133359]\n",
      " [ 0.51846071  0.48153929]\n",
      " [ 0.64958968  0.35041032]\n",
      " [ 0.76144096  0.23855904]\n",
      " [ 0.31953003  0.68046997]\n",
      " [ 0.76144096  0.23855904]\n",
      " [ 0.38124844  0.61875156]\n",
      " [ 0.70866641  0.29133359]\n",
      " [ 0.38124844  0.61875156]\n",
      " [ 0.38124844  0.61875156]\n",
      " [ 0.51846071  0.48153929]\n",
      " [ 0.58374631  0.41625369]\n",
      " [ 0.64958968  0.35041032]\n",
      " [ 0.4488822   0.5511178 ]\n",
      " [ 0.58374631  0.41625369]\n",
      " [ 0.70866641  0.29133359]\n",
      " [ 0.70866641  0.29133359]\n",
      " [ 0.76144096  0.23855904]\n",
      " [ 0.76144096  0.23855904]\n",
      " [ 0.38124844  0.61875156]\n",
      " [ 0.76144096  0.23855904]\n",
      " [ 0.76144096  0.23855904]\n",
      " [ 0.64958968  0.35041032]\n",
      " [ 0.51661682  0.48338318]\n",
      " [ 0.58374631  0.41625369]\n",
      " [ 0.76144096  0.23855904]\n",
      " [ 0.51661682  0.48338318]\n",
      " [ 0.76144096  0.23855904]\n",
      " [ 0.76144096  0.23855904]\n",
      " [ 0.76144096  0.23855904]\n",
      " [ 0.58374631  0.41625369]\n",
      " [ 0.38124844  0.61875156]\n",
      " [ 0.26354728  0.73645272]\n",
      " [ 0.76144096  0.23855904]\n",
      " [ 0.76144096  0.23855904]\n",
      " [ 0.76144096  0.23855904]\n",
      " [ 0.76144096  0.23855904]\n",
      " [ 0.58374631  0.41625369]\n",
      " [ 0.38124844  0.61875156]\n",
      " [ 0.38124844  0.61875156]\n",
      " [ 0.76144096  0.23855904]\n",
      " [ 0.58374631  0.41625369]\n",
      " [ 0.76144096  0.23855904]\n",
      " [ 0.64958968  0.35041032]\n",
      " [ 0.76144096  0.23855904]\n",
      " [ 0.76144096  0.23855904]\n",
      " [ 0.58374631  0.41625369]\n",
      " [ 0.76144096  0.23855904]\n",
      " [ 0.70866641  0.29133359]\n",
      " [ 0.76144096  0.23855904]\n",
      " [ 0.38124844  0.61875156]\n",
      " [ 0.64958968  0.35041032]\n",
      " [ 0.38124844  0.61875156]\n",
      " [ 0.38124844  0.61875156]\n",
      " [ 0.26354728  0.73645272]\n",
      " [ 0.38124844  0.61875156]\n",
      " [ 0.76144096  0.23855904]\n",
      " [ 0.70866641  0.29133359]\n",
      " [ 0.58374631  0.41625369]\n",
      " [ 0.58374631  0.41625369]\n",
      " [ 0.38124844  0.61875156]\n",
      " [ 0.58374631  0.41625369]\n",
      " [ 0.38124844  0.61875156]\n",
      " [ 0.76144096  0.23855904]\n",
      " [ 0.38124844  0.61875156]\n",
      " [ 0.31953003  0.68046997]\n",
      " [ 0.76144096  0.23855904]\n",
      " [ 0.76144096  0.23855904]\n",
      " [ 0.76144096  0.23855904]\n",
      " [ 0.76144096  0.23855904]\n",
      " [ 0.38124844  0.61875156]\n",
      " [ 0.38124844  0.61875156]\n",
      " [ 0.76144096  0.23855904]\n",
      " [ 0.76144096  0.23855904]\n",
      " [ 0.64958968  0.35041032]\n",
      " [ 0.76144096  0.23855904]\n",
      " [ 0.76144096  0.23855904]\n",
      " [ 0.58374631  0.41625369]\n",
      " [ 0.64958968  0.35041032]\n",
      " [ 0.76144096  0.23855904]\n",
      " [ 0.38124844  0.61875156]\n",
      " [ 0.76144096  0.23855904]\n",
      " [ 0.76144096  0.23855904]\n",
      " [ 0.58374631  0.41625369]\n",
      " [ 0.58374631  0.41625369]\n",
      " [ 0.64958968  0.35041032]\n",
      " [ 0.31953003  0.68046997]\n",
      " [ 0.76144096  0.23855904]\n",
      " [ 0.38124844  0.61875156]\n",
      " [ 0.38124844  0.61875156]\n",
      " [ 0.76144096  0.23855904]\n",
      " [ 0.51661682  0.48338318]\n",
      " [ 0.70866641  0.29133359]\n",
      " [ 0.26354728  0.73645272]\n",
      " [ 0.38124844  0.61875156]\n",
      " [ 0.76144096  0.23855904]\n",
      " [ 0.76144096  0.23855904]\n",
      " [ 0.38124844  0.61875156]\n",
      " [ 0.76144096  0.23855904]\n",
      " [ 0.76144096  0.23855904]\n",
      " [ 0.76144096  0.23855904]\n",
      " [ 0.58374631  0.41625369]\n",
      " [ 0.4488822   0.5511178 ]\n",
      " [ 0.38124844  0.61875156]\n",
      " [ 0.26354728  0.73645272]\n",
      " [ 0.76144096  0.23855904]\n",
      " [ 0.76144096  0.23855904]\n",
      " [ 0.58374631  0.41625369]\n",
      " [ 0.38124844  0.61875156]\n",
      " [ 0.58374631  0.41625369]\n",
      " [ 0.76144096  0.23855904]\n",
      " [ 0.38124844  0.61875156]\n",
      " [ 0.76144096  0.23855904]\n",
      " [ 0.76144096  0.23855904]\n",
      " [ 0.38124844  0.61875156]\n",
      " [ 0.76144096  0.23855904]\n",
      " [ 0.58374631  0.41625369]\n",
      " [ 0.58374631  0.41625369]\n",
      " [ 0.38473855  0.61526145]\n",
      " [ 0.38124844  0.61875156]\n",
      " [ 0.76144096  0.23855904]\n",
      " [ 0.76144096  0.23855904]\n",
      " [ 0.31953003  0.68046997]\n",
      " [ 0.76144096  0.23855904]\n",
      " [ 0.76144096  0.23855904]\n",
      " [ 0.58374631  0.41625369]\n",
      " [ 0.38124844  0.61875156]\n",
      " [ 0.76144096  0.23855904]\n",
      " [ 0.31953003  0.68046997]\n",
      " [ 0.70866641  0.29133359]\n",
      " [ 0.76144096  0.23855904]\n",
      " [ 0.51661682  0.48338318]\n",
      " [ 0.76144096  0.23855904]\n",
      " [ 0.38124844  0.61875156]\n",
      " [ 0.70866641  0.29133359]\n",
      " [ 0.51661682  0.48338318]\n",
      " [ 0.70866641  0.29133359]\n",
      " [ 0.76144096  0.23855904]\n",
      " [ 0.45070975  0.54929025]\n",
      " [ 0.76144096  0.23855904]\n",
      " [ 0.76144096  0.23855904]\n",
      " [ 0.38124844  0.61875156]\n",
      " [ 0.38124844  0.61875156]\n",
      " [ 0.64958968  0.35041032]\n",
      " [ 0.76144096  0.23855904]\n",
      " [ 0.76144096  0.23855904]\n",
      " [ 0.38124844  0.61875156]\n",
      " [ 0.76144096  0.23855904]\n",
      " [ 0.38124844  0.61875156]\n",
      " [ 0.76144096  0.23855904]\n",
      " [ 0.58374631  0.41625369]\n",
      " [ 0.38124844  0.61875156]\n",
      " [ 0.58374631  0.41625369]\n",
      " [ 0.38124844  0.61875156]\n",
      " [ 0.38124844  0.61875156]\n",
      " [ 0.26354728  0.73645272]\n",
      " [ 0.38124844  0.61875156]\n",
      " [ 0.31953003  0.68046997]\n",
      " [ 0.38299199  0.61700801]\n",
      " [ 0.76144096  0.23855904]\n",
      " [ 0.76144096  0.23855904]\n",
      " [ 0.70866641  0.29133359]\n",
      " [ 0.76144096  0.23855904]\n",
      " [ 0.38124844  0.61875156]\n",
      " [ 0.70866641  0.29133359]\n",
      " [ 0.51661682  0.48338318]\n",
      " [ 0.76144096  0.23855904]\n",
      " [ 0.76144096  0.23855904]\n",
      " [ 0.4488822   0.5511178 ]\n",
      " [ 0.76144096  0.23855904]\n",
      " [ 0.58374631  0.41625369]\n",
      " [ 0.31953003  0.68046997]\n",
      " [ 0.76144096  0.23855904]\n",
      " [ 0.76144096  0.23855904]\n",
      " [ 0.76144096  0.23855904]\n",
      " [ 0.31953003  0.68046997]\n",
      " [ 0.58374631  0.41625369]\n",
      " [ 0.4488822   0.5511178 ]\n",
      " [ 0.58374631  0.41625369]\n",
      " [ 0.38124844  0.61875156]\n",
      " [ 0.76144096  0.23855904]\n",
      " [ 0.76144096  0.23855904]\n",
      " [ 0.58374631  0.41625369]\n",
      " [ 0.76144096  0.23855904]\n",
      " [ 0.51661682  0.48338318]\n",
      " [ 0.58374631  0.41625369]\n",
      " [ 0.76144096  0.23855904]\n",
      " [ 0.31953003  0.68046997]\n",
      " [ 0.76144096  0.23855904]\n",
      " [ 0.70866641  0.29133359]\n",
      " [ 0.58374631  0.41625369]\n",
      " [ 0.76144096  0.23855904]\n",
      " [ 0.31953003  0.68046997]\n",
      " [ 0.76144096  0.23855904]\n",
      " [ 0.38124844  0.61875156]\n",
      " [ 0.38124844  0.61875156]\n",
      " [ 0.38124844  0.61875156]\n",
      " [ 0.76144096  0.23855904]\n",
      " [ 0.76144096  0.23855904]\n",
      " [ 0.51661682  0.48338318]\n",
      " [ 0.38124844  0.61875156]\n",
      " [ 0.76144096  0.23855904]\n",
      " [ 0.76144096  0.23855904]\n",
      " [ 0.58374631  0.41625369]\n",
      " [ 0.70866641  0.29133359]\n",
      " [ 0.76144096  0.23855904]\n",
      " [ 0.76144096  0.23855904]\n",
      " [ 0.76144096  0.23855904]\n",
      " [ 0.58374631  0.41625369]\n",
      " [ 0.76144096  0.23855904]\n",
      " [ 0.70866641  0.29133359]\n",
      " [ 0.76144096  0.23855904]\n",
      " [ 0.76144096  0.23855904]\n",
      " [ 0.31953003  0.68046997]\n",
      " [ 0.76144096  0.23855904]]\n"
     ]
    }
   ],
   "source": [
    "test = logreg.predict_proba(X_test)\n",
    "print(test)"
   ]
  },
  {
   "cell_type": "code",
   "execution_count": 45,
   "metadata": {
    "collapsed": true
   },
   "outputs": [],
   "source": [
    "# store the predicted probabilities\n",
    "y_pred_prob = logreg.predict_proba(X_test)[:, 1]"
   ]
  },
  {
   "cell_type": "code",
   "execution_count": 46,
   "metadata": {},
   "outputs": [
    {
     "data": {
      "text/plain": [
       "<matplotlib.text.Text at 0x11c4157f0>"
      ]
     },
     "execution_count": 46,
     "metadata": {},
     "output_type": "execute_result"
    },
    {
     "data": {
      "image/png": "[encoded data removed]",
      "text/plain": [
       "<matplotlib.figure.Figure at 0x1153cc1d0>"
      ]
     },
     "metadata": {},
     "output_type": "display_data"
    }
   ],
   "source": [
    "# histogram of predicted probabilities\n",
    "%matplotlib inline\n",
    "plt.hist(y_pred_prob)\n",
    "plt.xlim(0, 1)\n",
    "plt.xlabel('Predicted probability of survival')\n",
    "plt.ylabel('Frequency')"
   ]
  },
  {
   "cell_type": "code",
   "execution_count": 47,
   "metadata": {
    "collapsed": true
   },
   "outputs": [],
   "source": [
    "# increase sensitivity by lowering the threshold for predicting survival\n",
    "y_pred_class_new = np.where(y_pred_prob >= 0.3, 1, 0)"
   ]
  },
  {
   "cell_type": "code",
   "execution_count": 48,
   "metadata": {},
   "outputs": [
    {
     "name": "stdout",
     "output_type": "stream",
     "text": [
      "[[114  25]\n",
      " [ 42  42]]\n"
     ]
    }
   ],
   "source": [
    "# old confusion matrix\n",
    "print(confusion)"
   ]
  },
  {
   "cell_type": "code",
   "execution_count": 49,
   "metadata": {},
   "outputs": [
    {
     "name": "stdout",
     "output_type": "stream",
     "text": [
      "[[84 55]\n",
      " [21 63]]\n"
     ]
    }
   ],
   "source": [
    "confusion_new = metrics.confusion_matrix(y_test, y_pred_class_new)\n",
    "print(confusion_new)"
   ]
  },
  {
   "cell_type": "code",
   "execution_count": 50,
   "metadata": {
    "collapsed": true
   },
   "outputs": [],
   "source": [
    "TP = confusion_new[1][1]\n",
    "TN = confusion_new[0][0]\n",
    "FP = confusion_new[0][1]\n",
    "FN = confusion_new[1][0]"
   ]
  },
  {
   "cell_type": "code",
   "execution_count": 51,
   "metadata": {},
   "outputs": [
    {
     "name": "stdout",
     "output_type": "stream",
     "text": [
      "Sensitivity: 0.75\n"
     ]
    }
   ],
   "source": [
    "# new sensitivity (higher than before)\n",
    "print('Sensitivity:', TP / float(TP + FN))"
   ]
  },
  {
   "cell_type": "code",
   "execution_count": 52,
   "metadata": {
    "scrolled": true
   },
   "outputs": [
    {
     "name": "stdout",
     "output_type": "stream",
     "text": [
      "Specificity: 0.604316546763\n"
     ]
    }
   ],
   "source": [
    "# new specificity (lower than before)\n",
    "print('Specificity:', TN / float(TN + FP))"
   ]
  },
  {
   "cell_type": "code",
   "execution_count": 53,
   "metadata": {},
   "outputs": [
    {
     "name": "stdout",
     "output_type": "stream",
     "text": [
      "             precision    recall  f1-score   support\n",
      "\n",
      "          0       0.80      0.60      0.69       139\n",
      "          1       0.53      0.75      0.62        84\n",
      "\n",
      "avg / total       0.70      0.66      0.66       223\n",
      "\n"
     ]
    }
   ],
   "source": [
    "print(metrics.classification_report(y_test, y_pred_class_new))"
   ]
  },
  {
   "cell_type": "markdown",
   "metadata": {},
   "source": [
    "## ROC, auroc"
   ]
  },
  {
   "cell_type": "markdown",
   "metadata": {},
   "source": [
    "### Drawing ROC curve and calculate AUC"
   ]
  },
  {
   "cell_type": "code",
   "execution_count": 54,
   "metadata": {
    "collapsed": true
   },
   "outputs": [],
   "source": [
    "from sklearn.metrics import roc_curve, auc"
   ]
  },
  {
   "cell_type": "code",
   "execution_count": 55,
   "metadata": {
    "collapsed": true
   },
   "outputs": [],
   "source": [
    "classifier = LogisticRegression(penalty='l2', C=1)\n",
    "y_prob = classifier.fit(X_train, y_train).predict_proba(X_test)\n",
    "y_score = classifier.fit(X_train, y_train).decision_function(X_test)"
   ]
  },
  {
   "cell_type": "code",
   "execution_count": 56,
   "metadata": {
    "scrolled": true
   },
   "outputs": [
    {
     "name": "stdout",
     "output_type": "stream",
     "text": [
      "[[ 0.70491473  0.29508527]\n",
      " [ 0.75808298  0.24191702]\n",
      " [ 0.39390225  0.60609775]\n",
      " [ 0.39390225  0.60609775]\n",
      " [ 0.75808298  0.24191702]]\n"
     ]
    }
   ],
   "source": [
    "print(y_prob[0:5,:])"
   ]
  },
  {
   "cell_type": "code",
   "execution_count": 57,
   "metadata": {},
   "outputs": [
    {
     "name": "stdout",
     "output_type": "stream",
     "text": [
      "[-0.87081249 -1.14219806  0.43093848  0.43093848 -1.14219806]\n"
     ]
    }
   ],
   "source": [
    "print(y_score[0:5])"
   ]
  },
  {
   "cell_type": "code",
   "execution_count": 58,
   "metadata": {},
   "outputs": [
    {
     "name": "stdout",
     "output_type": "stream",
     "text": [
      "0.72242206235\n"
     ]
    }
   ],
   "source": [
    "fpr, tpr, _ = roc_curve(y_test, y_score)\n",
    "roc_auc = auc(fpr, tpr)\n",
    "print(roc_auc)"
   ]
  },
  {
   "cell_type": "code",
   "execution_count": 59,
   "metadata": {},
   "outputs": [
    {
     "data": {
      "image/png": "[encoded data removed]",
      "text/plain": [
       "<matplotlib.figure.Figure at 0x11c412e80>"
      ]
     },
     "metadata": {},
     "output_type": "display_data"
    }
   ],
   "source": [
    "plt.figure()\n",
    "plt.plot(fpr, tpr, label = 'ROC curve')\n",
    "plt.plot([0,1], [0,1], 'k--')\n",
    "plt.xlim([0.0, 1.0])\n",
    "plt.ylim([0.0, 1.05])\n",
    "plt.xlabel('False Positive Rate')\n",
    "plt.ylabel('True Positive Rate')\n",
    "plt.title('Receiver operating characteristic example')\n",
    "plt.legend(loc=\"lower right\")\n",
    "plt.show()"
   ]
  },
  {
   "cell_type": "code",
   "execution_count": null,
   "metadata": {
    "collapsed": true
   },
   "outputs": [],
   "source": []
  }
 ],
 "metadata": {
  "anaconda-cloud": {},
  "kernelspec": {
   "display_name": "Python 3",
   "language": "python",
   "name": "python3"
  },
  "language_info": {
   "codemirror_mode": {
    "name": "ipython",
    "version": 3
   },
   "file_extension": ".py",
   "mimetype": "text/x-python",
   "name": "python",
   "nbconvert_exporter": "python",
   "pygments_lexer": "ipython3",
   "version": "3.5.3"
  }
 },
 "nbformat": 4,
 "nbformat_minor": 1
}
