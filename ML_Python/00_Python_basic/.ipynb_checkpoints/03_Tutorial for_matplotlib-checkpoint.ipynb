{
 "cells": [
  {
   "cell_type": "markdown",
   "metadata": {},
   "source": [
    "# Matplotlib\n",
    "Pandas documentation: http://matplotlib.org/contents.html\n",
    "\n",
    "Matploblib can be used for creating plots and charts."
   ]
  },
  {
   "cell_type": "markdown",
   "metadata": {},
   "source": [
    "### Caution\n",
    "Matplotlib의 sub-module인 pyplot을 **Windows**환경에서 구성하는 데에 문제가 있습니다. (이외에 Linux(especially Ubuntu)와 OS X에서는 문제가 없음을 확인하였습니다.)\n",
    "\n",
    "이를 해결하기 위해서는 {your anaconda directory}\\Lib\\site-packages\\matplotlib\\font_manager.py를 수정해야 합니다. fond_manager.py 내에 `win32InstalledFonts()` 함수 안의 내용 중에 일부를 다음과 같이 바꾸어야 합니다.\n",
    "\n",
    "\n",
    "```{.python}\n",
    "key, direc, any = winreg.EnumValue( local, j)\n",
    "if not is_string_like(direc):\n",
    "    continue\n",
    "if not os.path.dirname(direc):\n",
    "    direc = os.path.join(directory, direc)\n",
    "direc = direc.split('\\0', 1)[0]\n",
    "```\n",
    "\n",
    "\n",
    "저의 경우에는 `direc = os.path.abspath(direc).lower()`를 `direc = direc.split('\\0', 1)[0]`로 변경하여 문제를 해결하였습니다.\n",
    "\n",
    "참고한 글은 http://stackoverflow.com/a/34007642 입니다."
   ]
  },
  {
   "cell_type": "markdown",
   "metadata": {},
   "source": [
    "## 0. Basic\n",
    "\n",
    "The library is generally used as follows:\n",
    "\n",
    "- Call a plotting function with some data (e.g., plot())\n",
    "- Call many functions to setup the properties of the plot (e.g., labes ald colors)\n",
    "- Make the plot visible (e.g., show())"
   ]
  },
  {
   "cell_type": "code",
   "execution_count": 1,
   "metadata": {
    "collapsed": true
   },
   "outputs": [],
   "source": [
    "# matplotlib의 결과물을 notebook에 바로 띄우기 위한 문구\n",
    "%matplotlib inline\n",
    "\n",
    "# import packages\n",
    "# 여기에서는 matplotlib의 submodule인 pyplot을 주로 활용\n",
    "import matplotlib.pyplot as plt\n",
    "import numpy as np\n",
    "import pandas as pd\n",
    "\n",
    "# increase default figure and font sizes for easier viewing\n",
    "plt.rcParams['figure.figsize'] = (4, 4)\n",
    "plt.rcParams['font.size'] = 10"
   ]
  },
  {
   "cell_type": "code",
   "execution_count": 2,
   "metadata": {},
   "outputs": [
    {
     "data": {
      "image/png": "[encoded data removed]",
      "text/plain": [
       "<matplotlib.figure.Figure at 0x111daaac8>"
      ]
     },
     "metadata": {},
     "output_type": "display_data"
    }
   ],
   "source": [
    "# basic line plot\n",
    "myarray = np.array([1,2,3])\n",
    "plt.plot(myarray)\n",
    "plt.xlabel('x axis')\n",
    "plt.ylabel('y axis')\n",
    "plt.title('basic line plot')\n",
    "plt.show()"
   ]
  },
  {
   "cell_type": "code",
   "execution_count": 4,
   "metadata": {},
   "outputs": [
    {
     "data": {
      "image/png": "[encoded data removed]",
      "text/plain": [
       "<matplotlib.figure.Figure at 0x113136668>"
      ]
     },
     "metadata": {},
     "output_type": "display_data"
    }
   ],
   "source": [
    "# basic scatter plot\n",
    "x = np.array([1, 2, 3])\n",
    "y = np.array([2, 5, 3])\n",
    "plt.scatter(x,y)\n",
    "plt.xlabel('some x axis')\n",
    "plt.ylabel('some y axis')\n",
    "plt.title('basic scatter plot')\n",
    "plt.show()"
   ]
  },
  {
   "cell_type": "markdown",
   "metadata": {},
   "source": [
    "## 1. Histogram\n",
    "Purpose: Showing the distribution of a numerical variable"
   ]
  },
  {
   "cell_type": "code",
   "execution_count": 5,
   "metadata": {
    "collapsed": true
   },
   "outputs": [],
   "source": [
    "# Example data: Drinks data\n",
    "drink_cols = ['country', 'beer', 'spirit', 'wine', 'liters', 'continent']\n",
    "url = 'https://raw.githubusercontent.com/justmarkham/DAT8/master/data/drinks.csv'\n",
    "drinks = pd.read_csv(url, header=0, names=drink_cols, na_filter=False)"
   ]
  },
  {
   "cell_type": "code",
   "execution_count": 7,
   "metadata": {
    "scrolled": true
   },
   "outputs": [
    {
     "data": {
      "text/html": [
       "<div>\n",
       "<table border=\"1\" class=\"dataframe\">\n",
       "  <thead>\n",
       "    <tr style=\"text-align: right;\">\n",
       "      <th></th>\n",
       "      <th>country</th>\n",
       "      <th>beer</th>\n",
       "      <th>spirit</th>\n",
       "      <th>wine</th>\n",
       "      <th>liters</th>\n",
       "      <th>continent</th>\n",
       "    </tr>\n",
       "  </thead>\n",
       "  <tbody>\n",
       "    <tr>\n",
       "      <th>0</th>\n",
       "      <td>Afghanistan</td>\n",
       "      <td>0</td>\n",
       "      <td>0</td>\n",
       "      <td>0</td>\n",
       "      <td>0.0</td>\n",
       "      <td>AS</td>\n",
       "    </tr>\n",
       "    <tr>\n",
       "      <th>1</th>\n",
       "      <td>Albania</td>\n",
       "      <td>89</td>\n",
       "      <td>132</td>\n",
       "      <td>54</td>\n",
       "      <td>4.9</td>\n",
       "      <td>EU</td>\n",
       "    </tr>\n",
       "    <tr>\n",
       "      <th>2</th>\n",
       "      <td>Algeria</td>\n",
       "      <td>25</td>\n",
       "      <td>0</td>\n",
       "      <td>14</td>\n",
       "      <td>0.7</td>\n",
       "      <td>AF</td>\n",
       "    </tr>\n",
       "    <tr>\n",
       "      <th>3</th>\n",
       "      <td>Andorra</td>\n",
       "      <td>245</td>\n",
       "      <td>138</td>\n",
       "      <td>312</td>\n",
       "      <td>12.4</td>\n",
       "      <td>EU</td>\n",
       "    </tr>\n",
       "    <tr>\n",
       "      <th>4</th>\n",
       "      <td>Angola</td>\n",
       "      <td>217</td>\n",
       "      <td>57</td>\n",
       "      <td>45</td>\n",
       "      <td>5.9</td>\n",
       "      <td>AF</td>\n",
       "    </tr>\n",
       "  </tbody>\n",
       "</table>\n",
       "</div>"
      ],
      "text/plain": [
       "       country  beer  spirit  wine  liters continent\n",
       "0  Afghanistan     0       0     0     0.0        AS\n",
       "1      Albania    89     132    54     4.9        EU\n",
       "2      Algeria    25       0    14     0.7        AF\n",
       "3      Andorra   245     138   312    12.4        EU\n",
       "4       Angola   217      57    45     5.9        AF"
      ]
     },
     "execution_count": 7,
     "metadata": {},
     "output_type": "execute_result"
    }
   ],
   "source": [
    "drinks.head(5)"
   ]
  },
  {
   "cell_type": "code",
   "execution_count": 8,
   "metadata": {},
   "outputs": [
    {
     "name": "stderr",
     "output_type": "stream",
     "text": [
      "/Users/kth/anaconda3/lib/python3.6/site-packages/ipykernel/__main__.py:2: FutureWarning: order is deprecated, use sort_values(...)\n",
      "  from ipykernel import kernelapp as app\n"
     ]
    },
    {
     "data": {
      "text/plain": [
       "array([  0,   0,   0,   0,   0,   0,   0,   0,   0,   0,   0,   0,   0,\n",
       "         0,   0,   1,   1,   1,   1,   2,   3,   5,   5,   5,   5,   5,\n",
       "         6,   6,   6,   6,   8,   8,   8,   9,   9,   9,   9,  12,  13,\n",
       "        15,  15,  16,  16,  17,  18,  19,  19,  20,  20,  21,  21,  21,\n",
       "        21,  22,  23,  25,  25,  25,  25,  26,  28,  31,  31,  31,  31,\n",
       "        32,  32,  34,  36,  36,  36,  37,  42,  42,  43,  44,  45,  47,\n",
       "        49,  51,  51,  52,  52,  52,  53,  56,  56,  57,  58,  60,  62,\n",
       "        62,  63,  64,  69,  71,  76,  76,  77,  77,  77,  78,  79,  82,\n",
       "        82,  85,  88,  89,  90,  92,  93,  93,  98,  99, 102, 105, 106,\n",
       "       109, 111, 115, 120, 122, 124, 127, 128, 130, 133, 140, 142, 143,\n",
       "       144, 147, 149, 149, 152, 157, 159, 162, 163, 167, 169, 171, 173,\n",
       "       185, 188, 192, 193, 193, 194, 194, 196, 197, 199, 203, 206, 213,\n",
       "       217, 219, 224, 224, 225, 230, 231, 233, 234, 236, 238, 240, 245,\n",
       "       245, 247, 249, 251, 261, 263, 263, 270, 279, 281, 283, 284, 285,\n",
       "       295, 297, 306, 313, 333, 343, 343, 346, 347, 361, 376])"
      ]
     },
     "execution_count": 8,
     "metadata": {},
     "output_type": "execute_result"
    }
   ],
   "source": [
    "# sort the bee r column and mentally split it into 3 groups\n",
    "drinks.beer.order().values"
   ]
  },
  {
   "cell_type": "code",
   "execution_count": 11,
   "metadata": {},
   "outputs": [
    {
     "data": {
      "text/plain": [
       "pandas.core.series.Series"
      ]
     },
     "execution_count": 11,
     "metadata": {},
     "output_type": "execute_result"
    }
   ],
   "source": [
    "type(drinks.beer)"
   ]
  },
  {
   "cell_type": "code",
   "execution_count": 9,
   "metadata": {},
   "outputs": [
    {
     "data": {
      "text/plain": [
       "<matplotlib.axes._subplots.AxesSubplot at 0x113219588>"
      ]
     },
     "execution_count": 9,
     "metadata": {},
     "output_type": "execute_result"
    },
    {
     "data": {
      "image/png": "[encoded data removed]",
      "text/plain": [
       "<matplotlib.figure.Figure at 0x1130292e8>"
      ]
     },
     "metadata": {},
     "output_type": "display_data"
    }
   ],
   "source": [
    "# compare with histogram\n",
    "drinks.beer.plot(kind='hist', bins=3)"
   ]
  },
  {
   "cell_type": "code",
   "execution_count": 8,
   "metadata": {},
   "outputs": [
    {
     "data": {
      "text/plain": [
       "<matplotlib.text.Text at 0x11a3045c0>"
      ]
     },
     "execution_count": 8,
     "metadata": {},
     "output_type": "execute_result"
    },
    {
     "data": {
      "image/png": "[encoded data removed]",
      "text/plain": [
       "<matplotlib.figure.Figure at 0x10b9ea7b8>"
      ]
     },
     "metadata": {},
     "output_type": "display_data"
    }
   ],
   "source": [
    "# try more bins\n",
    "# add title and labels\n",
    "drinks.beer.plot(kind='hist', bins=20)\n",
    "plt.xlabel('Beer Servings')\n",
    "plt.ylabel('Frequency')\n",
    "plt.title('Histogram of Beer Servings')"
   ]
  },
  {
   "cell_type": "code",
   "execution_count": null,
   "metadata": {
    "collapsed": true
   },
   "outputs": [],
   "source": [
    "# # compare with density plot (smooth version of a histogram)\n",
    "# drinks.beer.plot(kind='density', xlim=(0, 500))"
   ]
  },
  {
   "cell_type": "code",
   "execution_count": 9,
   "metadata": {},
   "outputs": [
    {
     "data": {
      "text/plain": [
       "array([[<matplotlib.axes._subplots.AxesSubplot object at 0x11a2f19e8>,\n",
       "        <matplotlib.axes._subplots.AxesSubplot object at 0x11a4bc208>],\n",
       "       [<matplotlib.axes._subplots.AxesSubplot object at 0x11a523710>,\n",
       "        <matplotlib.axes._subplots.AxesSubplot object at 0x11a573e48>],\n",
       "       [<matplotlib.axes._subplots.AxesSubplot object at 0x11a5e4198>,\n",
       "        <matplotlib.axes._subplots.AxesSubplot object at 0x11a5e41d0>]], dtype=object)"
      ]
     },
     "execution_count": 9,
     "metadata": {},
     "output_type": "execute_result"
    },
    {
     "data": {
      "image/png": "[encoded data removed]",
      "text/plain": [
       "<matplotlib.figure.Figure at 0x11a338748>"
      ]
     },
     "metadata": {},
     "output_type": "display_data"
    }
   ],
   "source": [
    "# histogram of beer servings grouped by continent\n",
    "drinks.hist(column='beer', by='continent')"
   ]
  },
  {
   "cell_type": "code",
   "execution_count": 10,
   "metadata": {},
   "outputs": [
    {
     "data": {
      "text/plain": [
       "array([[<matplotlib.axes._subplots.AxesSubplot object at 0x11a6307f0>,\n",
       "        <matplotlib.axes._subplots.AxesSubplot object at 0x11a817048>],\n",
       "       [<matplotlib.axes._subplots.AxesSubplot object at 0x11a915438>,\n",
       "        <matplotlib.axes._subplots.AxesSubplot object at 0x11a968828>],\n",
       "       [<matplotlib.axes._subplots.AxesSubplot object at 0x11a9d0a20>,\n",
       "        <matplotlib.axes._subplots.AxesSubplot object at 0x11a9d0a58>]], dtype=object)"
      ]
     },
     "execution_count": 10,
     "metadata": {},
     "output_type": "execute_result"
    },
    {
     "data": {
      "image/png": "[encoded data removed]",
      "text/plain": [
       "<matplotlib.figure.Figure at 0x11a86cc18>"
      ]
     },
     "metadata": {},
     "output_type": "display_data"
    }
   ],
   "source": [
    "# share the x axes\n",
    "drinks.hist(column='beer', by='continent', sharex=True)"
   ]
  },
  {
   "cell_type": "code",
   "execution_count": 11,
   "metadata": {},
   "outputs": [
    {
     "data": {
      "text/plain": [
       "array([[<matplotlib.axes._subplots.AxesSubplot object at 0x1191b4e10>,\n",
       "        <matplotlib.axes._subplots.AxesSubplot object at 0x11aae2748>],\n",
       "       [<matplotlib.axes._subplots.AxesSubplot object at 0x11acb49b0>,\n",
       "        <matplotlib.axes._subplots.AxesSubplot object at 0x11ad06c18>],\n",
       "       [<matplotlib.axes._subplots.AxesSubplot object at 0x11ad6fe80>,\n",
       "        <matplotlib.axes._subplots.AxesSubplot object at 0x11ad6feb8>]], dtype=object)"
      ]
     },
     "execution_count": 11,
     "metadata": {},
     "output_type": "execute_result"
    },
    {
     "data": {
      "image/png": "[encoded data removed]",
      "text/plain": [
       "<matplotlib.figure.Figure at 0x11a5fa6d8>"
      ]
     },
     "metadata": {},
     "output_type": "display_data"
    }
   ],
   "source": [
    "# share the x and y axes\n",
    "drinks.hist(column='beer', by='continent', sharex=True, sharey=True)"
   ]
  },
  {
   "cell_type": "code",
   "execution_count": 12,
   "metadata": {},
   "outputs": [
    {
     "data": {
      "text/plain": [
       "array([[<matplotlib.axes._subplots.AxesSubplot object at 0x11adca2b0>,\n",
       "        <matplotlib.axes._subplots.AxesSubplot object at 0x11b08a358>,\n",
       "        <matplotlib.axes._subplots.AxesSubplot object at 0x11b0af860>],\n",
       "       [<matplotlib.axes._subplots.AxesSubplot object at 0x11b103b38>,\n",
       "        <matplotlib.axes._subplots.AxesSubplot object at 0x11b16ad30>,\n",
       "        <matplotlib.axes._subplots.AxesSubplot object at 0x11b16ad68>]], dtype=object)"
      ]
     },
     "execution_count": 12,
     "metadata": {},
     "output_type": "execute_result"
    },
    {
     "data": {
      "image/png": "[encoded data removed]",
      "text/plain": [
       "<matplotlib.figure.Figure at 0x11b0565f8>"
      ]
     },
     "metadata": {},
     "output_type": "display_data"
    }
   ],
   "source": [
    "# change the layout\n",
    "drinks.hist(column='beer', by='continent', sharex=True, layout=(2, 3))"
   ]
  },
  {
   "cell_type": "markdown",
   "metadata": {},
   "source": [
    "## 2. Scatter plot\n",
    "Purpose: Showing the relationship between two numerical variables"
   ]
  },
  {
   "cell_type": "code",
   "execution_count": 13,
   "metadata": {},
   "outputs": [
    {
     "name": "stderr",
     "output_type": "stream",
     "text": [
      "/Users/kth/anaconda3/lib/python3.6/site-packages/ipykernel_launcher.py:2: FutureWarning: sort(columns=....) is deprecated, use sort_values(by=.....)\n",
      "  \n"
     ]
    },
    {
     "data": {
      "text/plain": [
       "array([[  0,   0],\n",
       "       [  0,  74],\n",
       "       [  0,   0],\n",
       "       [  0,   0],\n",
       "       [  0,   0],\n",
       "       [  0,   0],\n",
       "       [  0,   0],\n",
       "       [  0,   0],\n",
       "       [  0,   0],\n",
       "       [  0,   0],\n",
       "       [  0,   0],\n",
       "       [  0,   0],\n",
       "       [  0,   0],\n",
       "       [  0,   0],\n",
       "       [  0,   0],\n",
       "       [  1,   7],\n",
       "       [  1,   1],\n",
       "       [  1,   4],\n",
       "       [  1,   1],\n",
       "       [  2,   0],\n",
       "       [  3,   1],\n",
       "       [  5,   0],\n",
       "       [  5,   0],\n",
       "       [  5,  16],\n",
       "       [  5,   1],\n",
       "       [  5,   0],\n",
       "       [  6,   1],\n",
       "       [  6,   0],\n",
       "       [  6,   1],\n",
       "       [  6,   9],\n",
       "       [  8,   0],\n",
       "       [  8,   1],\n",
       "       [  8,   1],\n",
       "       [  9,   2],\n",
       "       [  9,   0],\n",
       "       [  9,   7],\n",
       "       [  9,   0],\n",
       "       [ 12,  10],\n",
       "       [ 13,   0],\n",
       "       [ 15,   3],\n",
       "       [ 15,   1],\n",
       "       [ 16,   5],\n",
       "       [ 16,   0],\n",
       "       [ 17,   1],\n",
       "       [ 18,   0],\n",
       "       [ 19,  32],\n",
       "       [ 19,   2],\n",
       "       [ 20,   0],\n",
       "       [ 20,  31],\n",
       "       [ 21,  11],\n",
       "       [ 21,  11],\n",
       "       [ 21,   5],\n",
       "       [ 21,   1],\n",
       "       [ 22,   1],\n",
       "       [ 23,   0],\n",
       "       [ 25,   8],\n",
       "       [ 25,  14],\n",
       "       [ 25,   2],\n",
       "       [ 25,   7],\n",
       "       [ 26,   4],\n",
       "       [ 28,  21],\n",
       "       [ 31, 128],\n",
       "       [ 31,   6],\n",
       "       [ 31,  10],\n",
       "       [ 31,   1],\n",
       "       [ 32,   4],\n",
       "       [ 32,   1],\n",
       "       [ 34,  13],\n",
       "       [ 36,  19],\n",
       "       [ 36,   5],\n",
       "       [ 36,   1],\n",
       "       [ 37,   7],\n",
       "       [ 42,   2],\n",
       "       [ 42,   7],\n",
       "       [ 43,   0],\n",
       "       [ 44,   1],\n",
       "       [ 45,   0],\n",
       "       [ 47,   5],\n",
       "       [ 49,   8],\n",
       "       [ 51,  20],\n",
       "       [ 51,   7],\n",
       "       [ 52,   2],\n",
       "       [ 52, 149],\n",
       "       [ 52,  26],\n",
       "       [ 53,   2],\n",
       "       [ 56, 140],\n",
       "       [ 56,   1],\n",
       "       [ 57,   1],\n",
       "       [ 58,   2],\n",
       "       [ 60,  11],\n",
       "       [ 62,  18],\n",
       "       [ 62, 123],\n",
       "       [ 63,   9],\n",
       "       [ 64,   4],\n",
       "       [ 69,   2],\n",
       "       [ 71,   1],\n",
       "       [ 76,   8],\n",
       "       [ 76,   9],\n",
       "       [ 77,   8],\n",
       "       [ 77,  16],\n",
       "       [ 77,   1],\n",
       "       [ 78,   1],\n",
       "       [ 79,   8],\n",
       "       [ 82,   9],\n",
       "       [ 82,   0],\n",
       "       [ 85, 237],\n",
       "       [ 88,   0],\n",
       "       [ 89,  54],\n",
       "       [ 90,   2],\n",
       "       [ 92, 233],\n",
       "       [ 93,   5],\n",
       "       [ 93,   1],\n",
       "       [ 98,  18],\n",
       "       [ 99,   1],\n",
       "       [102,  45],\n",
       "       [105,  24],\n",
       "       [106,  86],\n",
       "       [109,  18],\n",
       "       [111,   1],\n",
       "       [115, 220],\n",
       "       [120,  11],\n",
       "       [122,  51],\n",
       "       [124,  12],\n",
       "       [127, 370],\n",
       "       [128,   7],\n",
       "       [130, 172],\n",
       "       [133, 218],\n",
       "       [140,   9],\n",
       "       [142,  42],\n",
       "       [143,  36],\n",
       "       [144,  16],\n",
       "       [147,   4],\n",
       "       [149, 120],\n",
       "       [149,  11],\n",
       "       [152, 186],\n",
       "       [157,  51],\n",
       "       [159,   3],\n",
       "       [162,   3],\n",
       "       [163,  21],\n",
       "       [167,   8],\n",
       "       [169, 129],\n",
       "       [171,  71],\n",
       "       [173,  35],\n",
       "       [185, 280],\n",
       "       [188,   7],\n",
       "       [192, 113],\n",
       "       [193,   9],\n",
       "       [193, 221],\n",
       "       [194, 339],\n",
       "       [194,  32],\n",
       "       [196, 116],\n",
       "       [197,   7],\n",
       "       [199,  28],\n",
       "       [203, 175],\n",
       "       [206,  45],\n",
       "       [213,  74],\n",
       "       [217,  45],\n",
       "       [219, 195],\n",
       "       [224,  59],\n",
       "       [224, 278],\n",
       "       [225,  81],\n",
       "       [230, 254],\n",
       "       [231,  94],\n",
       "       [233,  78],\n",
       "       [234, 185],\n",
       "       [236, 271],\n",
       "       [238,   5],\n",
       "       [240, 100],\n",
       "       [245, 312],\n",
       "       [245,  16],\n",
       "       [247,  73],\n",
       "       [249,  84],\n",
       "       [251, 190],\n",
       "       [261, 212],\n",
       "       [263,  97],\n",
       "       [263,   8],\n",
       "       [270, 276],\n",
       "       [279, 191],\n",
       "       [281,  62],\n",
       "       [283, 127],\n",
       "       [284, 112],\n",
       "       [285,  18],\n",
       "       [295, 212],\n",
       "       [297, 167],\n",
       "       [306,  23],\n",
       "       [313, 165],\n",
       "       [333,   3],\n",
       "       [343,  56],\n",
       "       [343,  56],\n",
       "       [346, 175],\n",
       "       [347,  59],\n",
       "       [361, 134],\n",
       "       [376,   1]])"
      ]
     },
     "execution_count": 13,
     "metadata": {},
     "output_type": "execute_result"
    }
   ],
   "source": [
    "# select the beer and wine columns and sort by beer\n",
    "drinks[['beer', 'wine']].sort('beer').values"
   ]
  },
  {
   "cell_type": "code",
   "execution_count": 14,
   "metadata": {},
   "outputs": [
    {
     "data": {
      "text/plain": [
       "<matplotlib.axes._subplots.AxesSubplot at 0x11b056320>"
      ]
     },
     "execution_count": 14,
     "metadata": {},
     "output_type": "execute_result"
    },
    {
     "data": {
      "image/png": "[encoded data removed]",
      "text/plain": [
       "<matplotlib.figure.Figure at 0x11b3d8710>"
      ]
     },
     "metadata": {},
     "output_type": "display_data"
    }
   ],
   "source": [
    "# compare with scatter plot\n",
    "drinks.plot(kind='scatter', x='beer', y='wine')"
   ]
  },
  {
   "cell_type": "code",
   "execution_count": 16,
   "metadata": {},
   "outputs": [
    {
     "data": {
      "text/plain": [
       "<matplotlib.axes._subplots.AxesSubplot at 0x11b340668>"
      ]
     },
     "execution_count": 16,
     "metadata": {},
     "output_type": "execute_result"
    },
    {
     "data": {
      "image/png": "[encoded data removed]",
      "text/plain": [
       "<matplotlib.figure.Figure at 0x11b112908>"
      ]
     },
     "metadata": {},
     "output_type": "display_data"
    }
   ],
   "source": [
    "# add transparency\n",
    "drinks.plot(kind='scatter', x='beer', y='wine', alpha=0.4)"
   ]
  },
  {
   "cell_type": "code",
   "execution_count": 17,
   "metadata": {},
   "outputs": [
    {
     "data": {
      "text/plain": [
       "<matplotlib.axes._subplots.AxesSubplot at 0x11b5425f8>"
      ]
     },
     "execution_count": 17,
     "metadata": {},
     "output_type": "execute_result"
    },
    {
     "data": {
      "image/png": "[encoded data removed]",
      "text/plain": [
       "<matplotlib.figure.Figure at 0x11b5f51d0>"
      ]
     },
     "metadata": {},
     "output_type": "display_data"
    }
   ],
   "source": [
    "# vary point color by spirit servings\n",
    "drinks.plot(kind='scatter', x='beer', y='wine', c='spirit', colormap='Blues')"
   ]
  },
  {
   "cell_type": "code",
   "execution_count": 18,
   "metadata": {},
   "outputs": [
    {
     "data": {
      "text/plain": [
       "array([[<matplotlib.axes._subplots.AxesSubplot object at 0x11b742588>,\n",
       "        <matplotlib.axes._subplots.AxesSubplot object at 0x11b7e7940>,\n",
       "        <matplotlib.axes._subplots.AxesSubplot object at 0x11b8a5e48>],\n",
       "       [<matplotlib.axes._subplots.AxesSubplot object at 0x11b900588>,\n",
       "        <matplotlib.axes._subplots.AxesSubplot object at 0x11b967898>,\n",
       "        <matplotlib.axes._subplots.AxesSubplot object at 0x11b9678d0>],\n",
       "       [<matplotlib.axes._subplots.AxesSubplot object at 0x11ba2b438>,\n",
       "        <matplotlib.axes._subplots.AxesSubplot object at 0x11ba83240>,\n",
       "        <matplotlib.axes._subplots.AxesSubplot object at 0x11baea390>]], dtype=object)"
      ]
     },
     "execution_count": 18,
     "metadata": {},
     "output_type": "execute_result"
    },
    {
     "data": {
      "image/png": "[encoded data removed]",
      "text/plain": [
       "<matplotlib.figure.Figure at 0x11b769860>"
      ]
     },
     "metadata": {},
     "output_type": "display_data"
    }
   ],
   "source": [
    "# scatter matrix of three numerical columns\n",
    "pd.scatter_matrix(drinks[['beer', 'spirit', 'wine']])"
   ]
  },
  {
   "cell_type": "code",
   "execution_count": 19,
   "metadata": {},
   "outputs": [
    {
     "data": {
      "text/plain": [
       "array([[<matplotlib.axes._subplots.AxesSubplot object at 0x11af98b00>,\n",
       "        <matplotlib.axes._subplots.AxesSubplot object at 0x11bd17a58>,\n",
       "        <matplotlib.axes._subplots.AxesSubplot object at 0x11bd3ff60>],\n",
       "       [<matplotlib.axes._subplots.AxesSubplot object at 0x11bd9b4a8>,\n",
       "        <matplotlib.axes._subplots.AxesSubplot object at 0x11bdfe7b8>,\n",
       "        <matplotlib.axes._subplots.AxesSubplot object at 0x11bdfe7f0>],\n",
       "       [<matplotlib.axes._subplots.AxesSubplot object at 0x11bec1358>,\n",
       "        <matplotlib.axes._subplots.AxesSubplot object at 0x11bf1c160>,\n",
       "        <matplotlib.axes._subplots.AxesSubplot object at 0x11bf832b0>]], dtype=object)"
      ]
     },
     "execution_count": 19,
     "metadata": {},
     "output_type": "execute_result"
    },
    {
     "data": {
      "image/png": "[encoded data removed]",
      "text/plain": [
       "<matplotlib.figure.Figure at 0x11bc46898>"
      ]
     },
     "metadata": {},
     "output_type": "display_data"
    }
   ],
   "source": [
    "# increase figure size\n",
    "pd.scatter_matrix(drinks[['beer', 'spirit', 'wine']], figsize=(10, 8))"
   ]
  },
  {
   "cell_type": "markdown",
   "metadata": {},
   "source": [
    "## 3. Bar plot\n",
    "Purpose: Showing a numerical comparison across different categories"
   ]
  },
  {
   "cell_type": "code",
   "execution_count": 20,
   "metadata": {},
   "outputs": [
    {
     "data": {
      "text/plain": [
       "AF    53\n",
       "EU    45\n",
       "AS    44\n",
       "NA    23\n",
       "OC    16\n",
       "SA    12\n",
       "Name: continent, dtype: int64"
      ]
     },
     "execution_count": 20,
     "metadata": {},
     "output_type": "execute_result"
    }
   ],
   "source": [
    "# count the number of countries in each continent\n",
    "drinks.continent.value_counts()"
   ]
  },
  {
   "cell_type": "code",
   "execution_count": 21,
   "metadata": {},
   "outputs": [
    {
     "data": {
      "text/plain": [
       "<matplotlib.axes._subplots.AxesSubplot at 0x11c1200b8>"
      ]
     },
     "execution_count": 21,
     "metadata": {},
     "output_type": "execute_result"
    },
    {
     "data": {
      "image/png": "[encoded data removed]",
      "text/plain": [
       "<matplotlib.figure.Figure at 0x11c10dcc0>"
      ]
     },
     "metadata": {},
     "output_type": "display_data"
    }
   ],
   "source": [
    "# compare with bar plot\n",
    "drinks.continent.value_counts().plot(kind='bar')"
   ]
  },
  {
   "cell_type": "code",
   "execution_count": 22,
   "metadata": {},
   "outputs": [
    {
     "data": {
      "text/html": [
       "<div>\n",
       "<table border=\"1\" class=\"dataframe\">\n",
       "  <thead>\n",
       "    <tr style=\"text-align: right;\">\n",
       "      <th></th>\n",
       "      <th>beer</th>\n",
       "      <th>spirit</th>\n",
       "      <th>wine</th>\n",
       "      <th>liters</th>\n",
       "    </tr>\n",
       "    <tr>\n",
       "      <th>continent</th>\n",
       "      <th></th>\n",
       "      <th></th>\n",
       "      <th></th>\n",
       "      <th></th>\n",
       "    </tr>\n",
       "  </thead>\n",
       "  <tbody>\n",
       "    <tr>\n",
       "      <th>AF</th>\n",
       "      <td>61.471698</td>\n",
       "      <td>16.339623</td>\n",
       "      <td>16.264151</td>\n",
       "      <td>3.007547</td>\n",
       "    </tr>\n",
       "    <tr>\n",
       "      <th>AS</th>\n",
       "      <td>37.045455</td>\n",
       "      <td>60.840909</td>\n",
       "      <td>9.068182</td>\n",
       "      <td>2.170455</td>\n",
       "    </tr>\n",
       "    <tr>\n",
       "      <th>EU</th>\n",
       "      <td>193.777778</td>\n",
       "      <td>132.555556</td>\n",
       "      <td>142.222222</td>\n",
       "      <td>8.617778</td>\n",
       "    </tr>\n",
       "    <tr>\n",
       "      <th>NA</th>\n",
       "      <td>145.434783</td>\n",
       "      <td>165.739130</td>\n",
       "      <td>24.521739</td>\n",
       "      <td>5.995652</td>\n",
       "    </tr>\n",
       "    <tr>\n",
       "      <th>OC</th>\n",
       "      <td>89.687500</td>\n",
       "      <td>58.437500</td>\n",
       "      <td>35.625000</td>\n",
       "      <td>3.381250</td>\n",
       "    </tr>\n",
       "    <tr>\n",
       "      <th>SA</th>\n",
       "      <td>175.083333</td>\n",
       "      <td>114.750000</td>\n",
       "      <td>62.416667</td>\n",
       "      <td>6.308333</td>\n",
       "    </tr>\n",
       "  </tbody>\n",
       "</table>\n",
       "</div>"
      ],
      "text/plain": [
       "                 beer      spirit        wine    liters\n",
       "continent                                              \n",
       "AF          61.471698   16.339623   16.264151  3.007547\n",
       "AS          37.045455   60.840909    9.068182  2.170455\n",
       "EU         193.777778  132.555556  142.222222  8.617778\n",
       "NA         145.434783  165.739130   24.521739  5.995652\n",
       "OC          89.687500   58.437500   35.625000  3.381250\n",
       "SA         175.083333  114.750000   62.416667  6.308333"
      ]
     },
     "execution_count": 22,
     "metadata": {},
     "output_type": "execute_result"
    }
   ],
   "source": [
    "# calculate the mean alcohol amounts for each continent\n",
    "drinks.groupby('continent').mean()"
   ]
  },
  {
   "cell_type": "code",
   "execution_count": 23,
   "metadata": {},
   "outputs": [
    {
     "data": {
      "text/plain": [
       "<matplotlib.axes._subplots.AxesSubplot at 0x11c0dfd30>"
      ]
     },
     "execution_count": 23,
     "metadata": {},
     "output_type": "execute_result"
    },
    {
     "data": {
      "image/png": "[encoded data removed]",
      "text/plain": [
       "<matplotlib.figure.Figure at 0x11c3595c0>"
      ]
     },
     "metadata": {},
     "output_type": "display_data"
    }
   ],
   "source": [
    "# side-by-side bar plots\n",
    "drinks.groupby('continent').mean().plot(kind='bar')"
   ]
  },
  {
   "cell_type": "code",
   "execution_count": 24,
   "metadata": {},
   "outputs": [
    {
     "data": {
      "text/plain": [
       "<matplotlib.axes._subplots.AxesSubplot at 0x11c3f3eb8>"
      ]
     },
     "execution_count": 24,
     "metadata": {},
     "output_type": "execute_result"
    },
    {
     "data": {
      "image/png": "[encoded data removed]",
      "text/plain": [
       "<matplotlib.figure.Figure at 0x11bdccba8>"
      ]
     },
     "metadata": {},
     "output_type": "display_data"
    }
   ],
   "source": [
    "# drop the liters column\n",
    "drinks.groupby('continent').mean().drop('liters', axis=1).plot(kind='bar')"
   ]
  },
  {
   "cell_type": "code",
   "execution_count": 25,
   "metadata": {},
   "outputs": [
    {
     "data": {
      "text/plain": [
       "<matplotlib.axes._subplots.AxesSubplot at 0x11c5b85f8>"
      ]
     },
     "execution_count": 25,
     "metadata": {},
     "output_type": "execute_result"
    },
    {
     "data": {
      "image/png": "[encoded data removed]",
      "text/plain": [
       "<matplotlib.figure.Figure at 0x11c3bae10>"
      ]
     },
     "metadata": {},
     "output_type": "display_data"
    }
   ],
   "source": [
    "# stacked bar plots\n",
    "drinks.groupby('continent').mean().drop('liters', axis=1).plot(kind='bar', stacked=True)"
   ]
  },
  {
   "cell_type": "markdown",
   "metadata": {},
   "source": [
    "## 4. Box plot\n",
    "Purpose: Showing quartiles and outliers for one or more numerical variables\n",
    "\n",
    "**Five-number summary:**\n",
    "\n",
    "- min = minimum value\n",
    "- 25% = first quartile (Q1) = median of the lower half of the data\n",
    "- 50% = second quartile (Q2) = median of the data\n",
    "- 75% = third quartile (Q3) = median of the upper half of the data\n",
    "- max = maximum value\n",
    "\n",
    "(More useful than mean and standard deviation for describing skewed distributions)\n",
    "\n",
    "**Interquartile Range (IQR)** = Q3 - Q1\n",
    "\n",
    "**Outliers:**\n",
    "\n",
    "- below Q1 - 1.5 * IQR\n",
    "- above Q3 + 1.5 * IQR"
   ]
  },
  {
   "cell_type": "code",
   "execution_count": 26,
   "metadata": {},
   "outputs": [
    {
     "name": "stderr",
     "output_type": "stream",
     "text": [
      "/Users/kth/anaconda3/lib/python3.6/site-packages/ipykernel_launcher.py:2: FutureWarning: order is deprecated, use sort_values(...)\n",
      "  \n"
     ]
    },
    {
     "data": {
      "text/plain": [
       "array([  0,   0,   0,   0,   0,   0,   0,   0,   0,   0,   0,   0,   0,\n",
       "         0,   0,   0,   0,   0,   0,   0,   0,   0,   0,   1,   1,   1,\n",
       "         1,   1,   1,   1,   1,   1,   2,   2,   2,   2,   2,   2,   2,\n",
       "         3,   3,   3,   3,   3,   3,   3,   3,   4,   4,   4,   5,   5,\n",
       "         6,   6,   6,   7,   9,  11,  11,  12,  13,  15,  15,  16,  16,\n",
       "        18,  18,  18,  18,  19,  21,  21,  22,  22,  25,  25,  27,  29,\n",
       "        31,  31,  34,  35,  35,  35,  35,  38,  39,  41,  41,  42,  42,\n",
       "        44,  46,  50,  51,  55,  56,  57,  60,  61,  63,  63,  65,  67,\n",
       "        68,  69,  69,  69,  71,  71,  72,  74,  75,  76,  76,  79,  81,\n",
       "        84,  87,  87,  88,  97,  97,  98,  98, 100, 100, 100, 100, 101,\n",
       "       104, 104, 112, 114, 114, 114, 117, 117, 118, 118, 122, 122, 124,\n",
       "       126, 128, 131, 132, 133, 133, 135, 137, 138, 145, 147, 151, 152,\n",
       "       154, 156, 157, 158, 160, 170, 173, 173, 176, 178, 179, 186, 189,\n",
       "       192, 194, 200, 202, 205, 215, 215, 216, 221, 226, 237, 244, 246,\n",
       "       252, 254, 258, 286, 293, 302, 315, 326, 326, 373, 438])"
      ]
     },
     "execution_count": 26,
     "metadata": {},
     "output_type": "execute_result"
    }
   ],
   "source": [
    "# sort the spirit column\n",
    "drinks.spirit.order().values"
   ]
  },
  {
   "cell_type": "code",
   "execution_count": 27,
   "metadata": {},
   "outputs": [
    {
     "data": {
      "text/plain": [
       "count    193.000000\n",
       "mean      80.994819\n",
       "std       88.284312\n",
       "min        0.000000\n",
       "25%        4.000000\n",
       "50%       56.000000\n",
       "75%      128.000000\n",
       "max      438.000000\n",
       "Name: spirit, dtype: float64"
      ]
     },
     "execution_count": 27,
     "metadata": {},
     "output_type": "execute_result"
    }
   ],
   "source": [
    "# show \"five-number summary\" for spirit\n",
    "drinks.spirit.describe()"
   ]
  },
  {
   "cell_type": "code",
   "execution_count": 28,
   "metadata": {},
   "outputs": [
    {
     "data": {
      "text/plain": [
       "<matplotlib.axes._subplots.AxesSubplot at 0x11c709b38>"
      ]
     },
     "execution_count": 28,
     "metadata": {},
     "output_type": "execute_result"
    },
    {
     "data": {
      "image/png": "[encoded data removed]",
      "text/plain": [
       "<matplotlib.figure.Figure at 0x11c6cb470>"
      ]
     },
     "metadata": {},
     "output_type": "display_data"
    }
   ],
   "source": [
    "# compare with box plot\n",
    "drinks.spirit.plot(kind='box')"
   ]
  },
  {
   "cell_type": "code",
   "execution_count": 29,
   "metadata": {},
   "outputs": [
    {
     "data": {
      "text/plain": [
       "<matplotlib.axes._subplots.AxesSubplot at 0x11c742b00>"
      ]
     },
     "execution_count": 29,
     "metadata": {},
     "output_type": "execute_result"
    },
    {
     "data": {
      "image/png": "[encoded data removed]",
      "text/plain": [
       "<matplotlib.figure.Figure at 0x11c7610f0>"
      ]
     },
     "metadata": {},
     "output_type": "display_data"
    }
   ],
   "source": [
    "# include multiple variables\n",
    "drinks.drop('liters', axis=1).plot(kind='box')"
   ]
  },
  {
   "cell_type": "code",
   "execution_count": 30,
   "metadata": {},
   "outputs": [
    {
     "data": {
      "text/plain": [
       "<matplotlib.axes._subplots.AxesSubplot at 0x11c885ef0>"
      ]
     },
     "execution_count": 30,
     "metadata": {},
     "output_type": "execute_result"
    },
    {
     "data": {
      "image/png": "[encoded data removed]",
      "text/plain": [
       "<matplotlib.figure.Figure at 0x11c965208>"
      ]
     },
     "metadata": {},
     "output_type": "display_data"
    }
   ],
   "source": [
    "# reminder: box plot of beer servings\n",
    "drinks.beer.plot(kind='box')"
   ]
  },
  {
   "cell_type": "code",
   "execution_count": 31,
   "metadata": {},
   "outputs": [
    {
     "data": {
      "text/plain": [
       "<matplotlib.axes._subplots.AxesSubplot at 0x11c8364e0>"
      ]
     },
     "execution_count": 31,
     "metadata": {},
     "output_type": "execute_result"
    },
    {
     "data": {
      "image/png": "[encoded data removed]",
      "text/plain": [
       "<matplotlib.figure.Figure at 0x11c9c7470>"
      ]
     },
     "metadata": {},
     "output_type": "display_data"
    }
   ],
   "source": [
    "# box plot of beer servings grouped by continent\n",
    "drinks.boxplot(column='beer', by='continent')"
   ]
  },
  {
   "cell_type": "code",
   "execution_count": 32,
   "metadata": {},
   "outputs": [
    {
     "data": {
      "text/plain": [
       "array([[<matplotlib.axes._subplots.AxesSubplot object at 0x11cba6fd0>,\n",
       "        <matplotlib.axes._subplots.AxesSubplot object at 0x11cbd26d8>],\n",
       "       [<matplotlib.axes._subplots.AxesSubplot object at 0x11cd17940>,\n",
       "        <matplotlib.axes._subplots.AxesSubplot object at 0x11cd6ae80>]], dtype=object)"
      ]
     },
     "execution_count": 32,
     "metadata": {},
     "output_type": "execute_result"
    },
    {
     "data": {
      "image/png": "[encoded data removed]",
      "text/plain": [
       "<matplotlib.figure.Figure at 0x11c742358>"
      ]
     },
     "metadata": {},
     "output_type": "display_data"
    }
   ],
   "source": [
    "# box plot of all numeric columns grouped by continent\n",
    "drinks.boxplot(by='continent')"
   ]
  },
  {
   "cell_type": "markdown",
   "metadata": {},
   "source": [
    "## 5. Line plot\n",
    "Purpose: Showing the trend of a numerical variable over time"
   ]
  },
  {
   "cell_type": "code",
   "execution_count": null,
   "metadata": {
    "collapsed": true
   },
   "outputs": [],
   "source": [
    "# read in the ufo data\n",
    "url = 'https://raw.githubusercontent.com/justmarkham/DAT8/master/data/ufo.csv'\n",
    "ufo = pd.read_csv(url)\n",
    "ufo['Time'] = pd.to_datetime(ufo.Time)\n",
    "ufo['Year'] = ufo.Time.dt.year"
   ]
  },
  {
   "cell_type": "code",
   "execution_count": null,
   "metadata": {
    "collapsed": true
   },
   "outputs": [],
   "source": [
    "# count the number of ufo reports each year (and sort by year)\n",
    "ufo.Year.value_counts().sort_index()"
   ]
  },
  {
   "cell_type": "code",
   "execution_count": null,
   "metadata": {
    "collapsed": true
   },
   "outputs": [],
   "source": [
    "# compare with line plot\n",
    "ufo.Year.value_counts().sort_index().plot()"
   ]
  },
  {
   "cell_type": "code",
   "execution_count": null,
   "metadata": {
    "collapsed": true
   },
   "outputs": [],
   "source": [
    "# don't use a line plot when there is no logical ordering\n",
    "drinks.continent.value_counts().plot()"
   ]
  },
  {
   "cell_type": "markdown",
   "metadata": {},
   "source": [
    "## 6. Saving a plot and Changing a style"
   ]
  },
  {
   "cell_type": "code",
   "execution_count": 33,
   "metadata": {},
   "outputs": [
    {
     "data": {
      "image/png": "[encoded data removed]",
      "text/plain": [
       "<matplotlib.figure.Figure at 0x11cd28e80>"
      ]
     },
     "metadata": {},
     "output_type": "display_data"
    }
   ],
   "source": [
    "# saving a plot to a file\n",
    "drinks.beer.plot(kind='hist', bins=20, title='Histogram of Beer Servings')\n",
    "plt.xlabel('Beer Servings')\n",
    "plt.ylabel('Frequency')\n",
    "plt.savefig('beer_histogram_original.png')"
   ]
  },
  {
   "cell_type": "code",
   "execution_count": 34,
   "metadata": {},
   "outputs": [
    {
     "data": {
      "text/plain": [
       "['_classic_test',\n",
       " 'bmh',\n",
       " 'classic',\n",
       " 'dark_background',\n",
       " 'fivethirtyeight',\n",
       " 'ggplot',\n",
       " 'grayscale',\n",
       " 'seaborn-bright',\n",
       " 'seaborn-colorblind',\n",
       " 'seaborn-dark-palette',\n",
       " 'seaborn-dark',\n",
       " 'seaborn-darkgrid',\n",
       " 'seaborn-deep',\n",
       " 'seaborn-muted',\n",
       " 'seaborn-notebook',\n",
       " 'seaborn-paper',\n",
       " 'seaborn-pastel',\n",
       " 'seaborn-poster',\n",
       " 'seaborn-talk',\n",
       " 'seaborn-ticks',\n",
       " 'seaborn-white',\n",
       " 'seaborn-whitegrid',\n",
       " 'seaborn']"
      ]
     },
     "execution_count": 34,
     "metadata": {},
     "output_type": "execute_result"
    }
   ],
   "source": [
    "# list available plot styles\n",
    "plt.style.available"
   ]
  },
  {
   "cell_type": "code",
   "execution_count": 35,
   "metadata": {
    "collapsed": true
   },
   "outputs": [],
   "source": [
    "# change to a different style\n",
    "plt.style.use('ggplot')"
   ]
  },
  {
   "cell_type": "code",
   "execution_count": 36,
   "metadata": {},
   "outputs": [
    {
     "data": {
      "image/png": "[encoded data removed]",
      "text/plain": [
       "<matplotlib.figure.Figure at 0x11d1f09e8>"
      ]
     },
     "metadata": {},
     "output_type": "display_data"
    }
   ],
   "source": [
    "# saving a plot to a file\n",
    "drinks.beer.plot(kind='hist', bins=20, title='Histogram of Beer Servings')\n",
    "plt.xlabel('Beer Servings')\n",
    "plt.ylabel('Frequency')\n",
    "plt.savefig('beer_histogram_ggplot.png')"
   ]
  },
  {
   "cell_type": "code",
   "execution_count": 37,
   "metadata": {},
   "outputs": [
    {
     "data": {
      "image/png": "[encoded data removed]",
      "text/plain": [
       "<matplotlib.figure.Figure at 0x11cbfca58>"
      ]
     },
     "metadata": {},
     "output_type": "display_data"
    }
   ],
   "source": [
    "# Other example\n",
    "plt.style.use('seaborn-pastel')\n",
    "drinks.beer.plot(kind='hist', bins=20, title='Histogram of Beer Servings')\n",
    "plt.xlabel('Beer Servings')\n",
    "plt.ylabel('Frequency')\n",
    "plt.savefig('beer_histogram_seaborn.png')"
   ]
  },
  {
   "cell_type": "markdown",
   "metadata": {},
   "source": [
    "# 7. Style"
   ]
  },
  {
   "cell_type": "markdown",
   "metadata": {},
   "source": [
    "**Marker**:\n",
    "- http://matplotlib.org/1.5.1/examples/lines_bars_and_markers/marker_reference.html\n",
    "- http://matplotlib.org/api/markers_api.html\n",
    "\n",
    "**Line**:\n",
    "- http://matplotlib.org/1.5.1/examples/lines_bars_and_markers/line_styles_reference.html\n",
    "- http://matplotlib.org/api/lines_api.html\n",
    "\n",
    "**Color**:\n",
    "- http://matplotlib.org/examples/color/named_colors.html\n",
    "- http://matplotlib.org/api/colors_api.html\n"
   ]
  },
  {
   "cell_type": "code",
   "execution_count": null,
   "metadata": {
    "collapsed": true
   },
   "outputs": [],
   "source": [
    "from IPython.display import Image"
   ]
  },
  {
   "cell_type": "code",
   "execution_count": null,
   "metadata": {
    "collapsed": true
   },
   "outputs": [],
   "source": [
    "Image(filename=\"marker_reference_00.png\")"
   ]
  },
  {
   "cell_type": "code",
   "execution_count": null,
   "metadata": {
    "collapsed": true
   },
   "outputs": [],
   "source": [
    "Image(filename=\"marker_reference_01.png\")"
   ]
  },
  {
   "cell_type": "code",
   "execution_count": null,
   "metadata": {
    "collapsed": true
   },
   "outputs": [],
   "source": [
    "Image(filename=\"line_styles_reference.png\")"
   ]
  },
  {
   "cell_type": "code",
   "execution_count": null,
   "metadata": {
    "collapsed": true
   },
   "outputs": [],
   "source": [
    "Image(filename=\"named_colors.png\")"
   ]
  },
  {
   "cell_type": "code",
   "execution_count": null,
   "metadata": {
    "collapsed": true
   },
   "outputs": [],
   "source": [
    "Image(filename=\"named_colors_brief.png\")"
   ]
  },
  {
   "cell_type": "code",
   "execution_count": null,
   "metadata": {
    "collapsed": true
   },
   "outputs": [],
   "source": [
    "# from http://matplotlib.org/users/pyplot_tutorial.html\n",
    "# 자유롭게 변형해보면서 그림을 수정해보시오.\n",
    "\n",
    "def f(t):\n",
    "    return np.exp(-t) * np.cos(2*np.pi*t)\n",
    "\n",
    "t1 = np.arange(0.0, 5.0, 0.1)\n",
    "t2 = np.arange(0.0, 5.0, 0.02)\n",
    "\n",
    "plt.figure(1)\n",
    "plt.subplot(211)\n",
    "plt.plot(t1, f(t1), 'ro', t2, f(t2), 'k') # 'ro': 빨간색 동그라미, 'k': 검은색\n",
    "\n",
    "plt.subplot(212)\n",
    "plt.plot(t2, np.cos(2*np.pi*t2), 'r--') # 'r--': 빨간색 점선\n",
    "plt.show()"
   ]
  }
 ],
 "metadata": {
  "anaconda-cloud": {},
  "kernelspec": {
   "display_name": "Python 3",
   "language": "python",
   "name": "python3"
  },
  "language_info": {
   "codemirror_mode": {
    "name": "ipython",
    "version": 3
   },
   "file_extension": ".py",
   "mimetype": "text/x-python",
   "name": "python",
   "nbconvert_exporter": "python",
   "pygments_lexer": "ipython3",
   "version": "3.6.3"
  }
 },
 "nbformat": 4,
 "nbformat_minor": 1
}
