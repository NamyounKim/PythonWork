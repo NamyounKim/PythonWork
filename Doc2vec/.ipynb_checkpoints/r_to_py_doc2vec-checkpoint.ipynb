{
 "cells": [
  {
   "cell_type": "code",
   "execution_count": 3,
   "metadata": {},
   "outputs": [],
   "source": [
    "\n",
    "#Imports the libraries and read the data files\n",
    "\n",
    "import numpy as np # linear algebra\n",
    "import pandas as pd # data processing, CSV file I/O (e.g. pd.read_csv)\n",
    "import re\n",
    "import os, sys\n",
    "import gensim\n",
    "\n",
    "from gensim.models import Doc2Vec\n",
    "from nltk.tokenize import RegexpTokenizer\n",
    "from nltk.corpus import stopwords\n",
    "from nltk.stem.porter import PorterStemmer\n",
    "\n",
    "import nltk\n",
    "from string import punctuation\n",
    "\n",
    "#from sklearn.cluster import KMeans\n",
    "#from sklearn import metrics\n",
    "#import pylab as pl\n",
    "\n",
    "#def get_doc2vec(filepath, vector_size)"
   ]
  },
  {
   "cell_type": "code",
   "execution_count": 4,
   "metadata": {},
   "outputs": [],
   "source": [
    "#petition_df = pd.read_csv('./petitions_content_2018.csv', nrows=50000)\n",
    "petition_df = pd.read_csv('./alimtalk_tempalte_parsed.csv', nrows=500000)"
   ]
  },
  {
   "cell_type": "code",
   "execution_count": 5,
   "metadata": {},
   "outputs": [
    {
     "data": {
      "text/plain": [
       "'신유리 고객님 우체국 고객님 님 보내다 택배 등기 번호 을 에 배달 완료 하다 항상 우체국 이용하다 주다 감사합니다 우체국'"
      ]
     },
     "execution_count": 5,
     "metadata": {},
     "output_type": "execute_result"
    }
   ],
   "source": [
    "content = petition_df.loc[petition_df['target_yn'] == \"정상-발송됨\"]\n",
    "content = content['parsed_content']\n",
    "content[31537]"
   ]
  },
  {
   "cell_type": "code",
   "execution_count": null,
   "metadata": {},
   "outputs": [],
   "source": [
    "LabeledSentence1 = gensim.models.doc2vec.TaggedDocument\n",
    "parsed_content = []\n",
    "j=0\n",
    "for doc in content:\n",
    "    if doc:\n",
    "        parsed_content.append(LabeledSentence1(doc, [j]))\n",
    "        j+=1\n",
    "        \n",
    "print(\"Number of non-empty vectors: \", j)\n"
   ]
  },
  {
   "cell_type": "code",
   "execution_count": null,
   "metadata": {},
   "outputs": [],
   "source": [
    "print(parsed_content[1])"
   ]
  },
  {
   "cell_type": "code",
   "execution_count": null,
   "metadata": {},
   "outputs": [],
   "source": [
    "d2v_model = Doc2Vec(parsed_content\n",
    "                    , vector_size = 1000 # dimension 개수\n",
    "                    , window = 4\n",
    "                    , min_count = 20 # Ignores all words with total frequency lower than this.\n",
    "                    , workers=7\n",
    "                    , dm = 1\n",
    "                    , alpha=0.025 # 초기 학습율\n",
    "                    , min_alpha=0.001)"
   ]
  },
  {
   "cell_type": "code",
   "execution_count": null,
   "metadata": {},
   "outputs": [],
   "source": [
    "d2v_model.similar_by_word"
   ]
  },
  {
   "cell_type": "code",
   "execution_count": null,
   "metadata": {},
   "outputs": [],
   "source": [
    "d2v_model.train(parsed_content\n",
    "                , total_examples=d2v_model.corpus_count\n",
    "                , epochs=10\n",
    "                , start_alpha=0.002\n",
    "                , end_alpha=-0.016)"
   ]
  },
  {
   "cell_type": "code",
   "execution_count": null,
   "metadata": {},
   "outputs": [],
   "source": [
    "print (d2v_model.docvecs.most_similar(35791, topn=20))"
   ]
  },
  {
   "cell_type": "code",
   "execution_count": null,
   "metadata": {},
   "outputs": [],
   "source": [
    "print(parsed_content[35791])\n",
    "print(parsed_content[32396])"
   ]
  },
  {
   "cell_type": "code",
   "execution_count": null,
   "metadata": {},
   "outputs": [],
   "source": [
    "# 차원수 확인\n",
    "print(len(d2v_model.docvecs.vectors_docs[0]))"
   ]
  },
  {
   "cell_type": "code",
   "execution_count": null,
   "metadata": {},
   "outputs": [],
   "source": [
    "kmeans_model = KMeans(n_clusters=20, init='k-means++', max_iter=100)  \n",
    "X = kmeans_model.fit(d2v_model.docvecs.vectors_docs)\n",
    "labels=kmeans_model.labels_.tolist()"
   ]
  },
  {
   "cell_type": "code",
   "execution_count": null,
   "metadata": {},
   "outputs": [],
   "source": [
    "l = kmeans_model.fit_predict(d2v_model.docvecs.vectors_docs)\n",
    "pca = PCA(n_components=2).fit(d2v_model.docvecs.vectors_docs)\n",
    "datapoint = pca.transform(d2v_model.docvecs.vectors_docs)"
   ]
  },
  {
   "cell_type": "code",
   "execution_count": null,
   "metadata": {},
   "outputs": [],
   "source": [
    "# raw data에 그룹핑 결과 붙이기\n",
    "petition_df['cluster'] = l\n"
   ]
  },
  {
   "cell_type": "code",
   "execution_count": null,
   "metadata": {},
   "outputs": [],
   "source": [
    "petition_df"
   ]
  },
  {
   "cell_type": "code",
   "execution_count": null,
   "metadata": {},
   "outputs": [],
   "source": [
    "#petition_df.groupby(['cluster'])['agree_count'].mean()\n",
    "petition_df.groupby(['cluster'])['agree_count'].count()"
   ]
  },
  {
   "cell_type": "code",
   "execution_count": null,
   "metadata": {},
   "outputs": [],
   "source": [
    "plt.figure\n",
    "label1 = [\"#FFFF00\", \"#008000\", \"#0000FF\", \"#800080\"]\n",
    "color = [label1[i] for i in labels]\n",
    "plt.scatter(datapoint[:, 0], datapoint[:, 1], c=color)\n",
    "\n",
    "centroids = kmeans_model.cluster_centers_\n",
    "centroidpoint = pca.transform(centroids)\n",
    "plt.scatter(centroidpoint[:, 0], centroidpoint[:, 1], marker='^', s=150, c='#000000')\n",
    "plt.show()"
   ]
  }
 ],
 "metadata": {
  "kernelspec": {
   "display_name": "Python 3",
   "language": "python",
   "name": "python3"
  },
  "language_info": {
   "codemirror_mode": {
    "name": "ipython",
    "version": 3
   },
   "file_extension": ".py",
   "mimetype": "text/x-python",
   "name": "python",
   "nbconvert_exporter": "python",
   "pygments_lexer": "ipython3",
   "version": "3.6.5"
  }
 },
 "nbformat": 4,
 "nbformat_minor": 2
}
