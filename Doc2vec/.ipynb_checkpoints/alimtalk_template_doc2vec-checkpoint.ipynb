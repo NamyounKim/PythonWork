{
 "cells": [
  {
   "cell_type": "code",
   "execution_count": 146,
   "metadata": {},
   "outputs": [],
   "source": [
    "import numpy as np # linear algebra\n",
    "import pandas as pd # data processing, CSV file I/O (e.g. pd.read_csv)\n",
    "import re\n",
    "import os, sys\n",
    "import gensim\n",
    "\n",
    "from gensim.models import Doc2Vec\n",
    "from nltk.tokenize import RegexpTokenizer\n",
    "from nltk.corpus import stopwords\n",
    "from nltk.stem.porter import PorterStemmer\n",
    "\n",
    "import nltk\n",
    "from string import punctuation"
   ]
  },
  {
   "cell_type": "code",
   "execution_count": 147,
   "metadata": {},
   "outputs": [
    {
     "data": {
      "text/html": [
       "<div>\n",
       "<style scoped>\n",
       "    .dataframe tbody tr th:only-of-type {\n",
       "        vertical-align: middle;\n",
       "    }\n",
       "\n",
       "    .dataframe tbody tr th {\n",
       "        vertical-align: top;\n",
       "    }\n",
       "\n",
       "    .dataframe thead th {\n",
       "        text-align: right;\n",
       "    }\n",
       "</style>\n",
       "<table border=\"1\" class=\"dataframe\">\n",
       "  <thead>\n",
       "    <tr style=\"text-align: right;\">\n",
       "      <th></th>\n",
       "      <th>temp_id</th>\n",
       "      <th>sender_id</th>\n",
       "      <th>category_name</th>\n",
       "      <th>temp_name</th>\n",
       "      <th>content_word</th>\n",
       "      <th>removed_sw_content</th>\n",
       "      <th>target_yn</th>\n",
       "      <th>group_yn</th>\n",
       "      <th>parsed_len</th>\n",
       "    </tr>\n",
       "  </thead>\n",
       "  <tbody>\n",
       "    <tr>\n",
       "      <th>0</th>\n",
       "      <td>NaN</td>\n",
       "      <td>NaN</td>\n",
       "      <td>NaN</td>\n",
       "      <td>NaN</td>\n",
       "      <td>계좌번호 가 집중모니터링 계좌로 등록되었습니다</td>\n",
       "      <td>계좌 번호 집중 모니터링 계좌 등록되다</td>\n",
       "      <td>NaN</td>\n",
       "      <td>NaN</td>\n",
       "      <td>21.0</td>\n",
       "    </tr>\n",
       "    <tr>\n",
       "      <th>1</th>\n",
       "      <td>NaN</td>\n",
       "      <td>NaN</td>\n",
       "      <td>NaN</td>\n",
       "      <td>NaN</td>\n",
       "      <td>종통결산액 한도 금액 잔액 금액</td>\n",
       "      <td>종통 결산액 한도 금액 잔액 금액</td>\n",
       "      <td>NaN</td>\n",
       "      <td>NaN</td>\n",
       "      <td>18.0</td>\n",
       "    </tr>\n",
       "    <tr>\n",
       "      <th>2</th>\n",
       "      <td>NaN</td>\n",
       "      <td>NaN</td>\n",
       "      <td>NaN</td>\n",
       "      <td>NaN</td>\n",
       "      <td>톡톡 구분값 고객 구분값 본인인증 완료</td>\n",
       "      <td>톡톡 구분 값 고객 구분 값 본인 인증 완료</td>\n",
       "      <td>NaN</td>\n",
       "      <td>NaN</td>\n",
       "      <td>24.0</td>\n",
       "    </tr>\n",
       "    <tr>\n",
       "      <th>3</th>\n",
       "      <td>NaN</td>\n",
       "      <td>NaN</td>\n",
       "      <td>NaN</td>\n",
       "      <td>NaN</td>\n",
       "      <td>님 계좌 원 이자입금되었습니다</td>\n",
       "      <td>계좌 원 이자 입금되다</td>\n",
       "      <td>NaN</td>\n",
       "      <td>NaN</td>\n",
       "      <td>12.0</td>\n",
       "    </tr>\n",
       "    <tr>\n",
       "      <th>4</th>\n",
       "      <td>NaN</td>\n",
       "      <td>NaN</td>\n",
       "      <td>NaN</td>\n",
       "      <td>NaN</td>\n",
       "      <td>님 비밀번호가 월 일 변경되었습니다</td>\n",
       "      <td>비밀 번호 월 일 변경되다</td>\n",
       "      <td>NaN</td>\n",
       "      <td>NaN</td>\n",
       "      <td>14.0</td>\n",
       "    </tr>\n",
       "  </tbody>\n",
       "</table>\n",
       "</div>"
      ],
      "text/plain": [
       "   temp_id  sender_id category_name temp_name               content_word  \\\n",
       "0      NaN        NaN           NaN       NaN  계좌번호 가 집중모니터링 계좌로 등록되었습니다   \n",
       "1      NaN        NaN           NaN       NaN          종통결산액 한도 금액 잔액 금액   \n",
       "2      NaN        NaN           NaN       NaN      톡톡 구분값 고객 구분값 본인인증 완료   \n",
       "3      NaN        NaN           NaN       NaN           님 계좌 원 이자입금되었습니다   \n",
       "4      NaN        NaN           NaN       NaN        님 비밀번호가 월 일 변경되었습니다   \n",
       "\n",
       "         removed_sw_content target_yn group_yn  parsed_len  \n",
       "0     계좌 번호 집중 모니터링 계좌 등록되다       NaN      NaN        21.0  \n",
       "1        종통 결산액 한도 금액 잔액 금액       NaN      NaN        18.0  \n",
       "2  톡톡 구분 값 고객 구분 값 본인 인증 완료       NaN      NaN        24.0  \n",
       "3              계좌 원 이자 입금되다       NaN      NaN        12.0  \n",
       "4            비밀 번호 월 일 변경되다       NaN      NaN        14.0  "
      ]
     },
     "execution_count": 147,
     "metadata": {},
     "output_type": "execute_result"
    }
   ],
   "source": [
    "template_df = pd.read_csv('./alimtalk_tempalte_parsed.csv', nrows=500000)\n",
    "template_df['parsed_len'] = template_df.removed_sw_content.str.len()\n",
    "template_df.head(5)"
   ]
  },
  {
   "cell_type": "code",
   "execution_count": 171,
   "metadata": {},
   "outputs": [
    {
     "name": "stdout",
     "output_type": "stream",
     "text": [
      "             temp_id      sender_id     parsed_len\n",
      "count  327822.000000  323137.000000  359214.000000\n",
      "mean   179293.944799   14910.859440      82.400452\n",
      "std    100008.675032   13204.416901      97.356876\n",
      "min       -25.000000       1.000000       1.000000\n",
      "25%     94014.250000    3484.000000      23.000000\n",
      "50%    182994.500000   10047.000000      50.000000\n",
      "75%    265847.750000   25400.000000     105.000000\n",
      "max    347897.000000   48255.000000    1548.000000\n"
     ]
    },
    {
     "data": {
      "text/html": [
       "<div>\n",
       "<style scoped>\n",
       "    .dataframe tbody tr th:only-of-type {\n",
       "        vertical-align: middle;\n",
       "    }\n",
       "\n",
       "    .dataframe tbody tr th {\n",
       "        vertical-align: top;\n",
       "    }\n",
       "\n",
       "    .dataframe thead th {\n",
       "        text-align: right;\n",
       "    }\n",
       "</style>\n",
       "<table border=\"1\" class=\"dataframe\">\n",
       "  <thead>\n",
       "    <tr style=\"text-align: right;\">\n",
       "      <th></th>\n",
       "      <th>target_yn</th>\n",
       "      <th>counts</th>\n",
       "    </tr>\n",
       "  </thead>\n",
       "  <tbody>\n",
       "    <tr>\n",
       "      <th>0</th>\n",
       "      <td>비정상-검수반려</td>\n",
       "      <td>5198</td>\n",
       "    </tr>\n",
       "    <tr>\n",
       "      <th>1</th>\n",
       "      <td>비정상-검수안됨</td>\n",
       "      <td>12058</td>\n",
       "    </tr>\n",
       "    <tr>\n",
       "      <th>2</th>\n",
       "      <td>정상-발송됨</td>\n",
       "      <td>178406</td>\n",
       "    </tr>\n",
       "    <tr>\n",
       "      <th>3</th>\n",
       "      <td>정상-발송한적 없음</td>\n",
       "      <td>100103</td>\n",
       "    </tr>\n",
       "  </tbody>\n",
       "</table>\n",
       "</div>"
      ],
      "text/plain": [
       "    target_yn  counts\n",
       "0    비정상-검수반려    5198\n",
       "1    비정상-검수안됨   12058\n",
       "2      정상-발송됨  178406\n",
       "3  정상-발송한적 없음  100103"
      ]
     },
     "execution_count": 171,
     "metadata": {},
     "output_type": "execute_result"
    }
   ],
   "source": [
    "print(template_df.describe())\n",
    "template_df.groupby(by='target_yn').size().reset_index(name='counts') # Dataframe 형태로 리턴"
   ]
  },
  {
   "cell_type": "code",
   "execution_count": 305,
   "metadata": {},
   "outputs": [
    {
     "name": "stdout",
     "output_type": "stream",
     "text": [
      "322497\n",
      "322497\n"
     ]
    },
    {
     "data": {
      "text/html": [
       "<div>\n",
       "<style scoped>\n",
       "    .dataframe tbody tr th:only-of-type {\n",
       "        vertical-align: middle;\n",
       "    }\n",
       "\n",
       "    .dataframe tbody tr th {\n",
       "        vertical-align: top;\n",
       "    }\n",
       "\n",
       "    .dataframe thead th {\n",
       "        text-align: right;\n",
       "    }\n",
       "</style>\n",
       "<table border=\"1\" class=\"dataframe\">\n",
       "  <thead>\n",
       "    <tr style=\"text-align: right;\">\n",
       "      <th></th>\n",
       "      <th>temp_id</th>\n",
       "      <th>sender_id</th>\n",
       "      <th>category_name</th>\n",
       "      <th>temp_name</th>\n",
       "      <th>content_word</th>\n",
       "      <th>removed_sw_content</th>\n",
       "      <th>target_yn</th>\n",
       "      <th>group_yn</th>\n",
       "      <th>parsed_len</th>\n",
       "    </tr>\n",
       "  </thead>\n",
       "  <tbody>\n",
       "    <tr>\n",
       "      <th>31535</th>\n",
       "      <td>1.0</td>\n",
       "      <td>2.0</td>\n",
       "      <td>기타</td>\n",
       "      <td>테스트</td>\n",
       "      <td>님이 보낸 등기 를 박덕민 회사동료 님께 배달 완료</td>\n",
       "      <td>보내다 등기 를 박덕민 회사 동료 배달 완료</td>\n",
       "      <td>비정상-검수안됨</td>\n",
       "      <td>n</td>\n",
       "      <td>24.0</td>\n",
       "    </tr>\n",
       "    <tr>\n",
       "      <th>31536</th>\n",
       "      <td>7.0</td>\n",
       "      <td>3.0</td>\n",
       "      <td>공공/행정</td>\n",
       "      <td>택배 배달 예정 1</td>\n",
       "      <td>김은빈 고객님 우체국입니다 오늘 시부터 시 사이에 택배를 배달할 예정입니다 등기번호...</td>\n",
       "      <td>김은빈 우체국 오늘 시 시 사이 택배 배달하다 예정 등기 번호 운송장 번호 발송인 ...</td>\n",
       "      <td>정상-발송됨</td>\n",
       "      <td>n</td>\n",
       "      <td>58.0</td>\n",
       "    </tr>\n",
       "    <tr>\n",
       "      <th>31537</th>\n",
       "      <td>8.0</td>\n",
       "      <td>3.0</td>\n",
       "      <td>공공/행정</td>\n",
       "      <td>택배 배달 완료 1</td>\n",
       "      <td>신유리 고객님 우체국입니다 고객님이 님께 보내신 택배 등기번호 을 에 배달완료 하였...</td>\n",
       "      <td>신유리 우체국 보내다 택배 등기 번호 배달 완료 항상 우체국 이용하다 우체국</td>\n",
       "      <td>정상-발송됨</td>\n",
       "      <td>n</td>\n",
       "      <td>42.0</td>\n",
       "    </tr>\n",
       "    <tr>\n",
       "      <th>31538</th>\n",
       "      <td>9.0</td>\n",
       "      <td>3.0</td>\n",
       "      <td>공공/행정</td>\n",
       "      <td>등기 우체국 보관</td>\n",
       "      <td>정혜민 고객님 우체국입니다 고객님이 부재중으로 등기우편물 등기번호 을 배달하지 못해...</td>\n",
       "      <td>정혜민 우체국 부재중 등기 우편물 등기 번호 배달하다 못하다 까다 우체국 보관 일 ...</td>\n",
       "      <td>정상-발송됨</td>\n",
       "      <td>n</td>\n",
       "      <td>80.0</td>\n",
       "    </tr>\n",
       "    <tr>\n",
       "      <th>31539</th>\n",
       "      <td>10.0</td>\n",
       "      <td>3.0</td>\n",
       "      <td>공공/행정</td>\n",
       "      <td>등기 재배달 안내 1</td>\n",
       "      <td>김현지 고객님 우체국입니다 고객님이 부재로 배달하지 못한 등기우편물 등기번호 을 년...</td>\n",
       "      <td>김현지 우체국 부재 배달하다 못하다 등기 우편물 등기 번호 년 월 일 재배 달하다 ...</td>\n",
       "      <td>정상-발송됨</td>\n",
       "      <td>n</td>\n",
       "      <td>55.0</td>\n",
       "    </tr>\n",
       "    <tr>\n",
       "      <th>31540</th>\n",
       "      <td>11.0</td>\n",
       "      <td>3.0</td>\n",
       "      <td>공공/행정</td>\n",
       "      <td>택배 배달 완료 2</td>\n",
       "      <td>윤영주 고객님 우체국입니다 폴샵 주 고객님이 발송한 택배 등기번호 을 경비원 경비원...</td>\n",
       "      <td>윤영주 우체국 폴샵 주 발송하다 택배 등기 번호 경비원 경비원 배달 완료 항상 우체...</td>\n",
       "      <td>정상-발송됨</td>\n",
       "      <td>n</td>\n",
       "      <td>56.0</td>\n",
       "    </tr>\n",
       "    <tr>\n",
       "      <th>31541</th>\n",
       "      <td>12.0</td>\n",
       "      <td>3.0</td>\n",
       "      <td>공공/행정</td>\n",
       "      <td>택배 반송 안내 1</td>\n",
       "      <td>주 다다글로벌 고객님 우체국입니다 고객님이 님께 보내신 택배 등기번호 가 에 반송되...</td>\n",
       "      <td>주 다다 글로벌 우체국 보내다 택배 등기 번호 반송되다 우체국</td>\n",
       "      <td>정상-발송됨</td>\n",
       "      <td>n</td>\n",
       "      <td>34.0</td>\n",
       "    </tr>\n",
       "    <tr>\n",
       "      <th>31542</th>\n",
       "      <td>13.0</td>\n",
       "      <td>3.0</td>\n",
       "      <td>공공/행정</td>\n",
       "      <td>택배 부재 1</td>\n",
       "      <td>박준영 고객님 우체국입니다 고객님이 님께 보내신 택배 등기번호 를 월 일 현재 님이...</td>\n",
       "      <td>박준영 우체국 보내다 택배 등기 번호 를 월 일 현재 부재중 배달하다 못하다 문의 ...</td>\n",
       "      <td>정상-발송됨</td>\n",
       "      <td>n</td>\n",
       "      <td>57.0</td>\n",
       "    </tr>\n",
       "    <tr>\n",
       "      <th>31543</th>\n",
       "      <td>14.0</td>\n",
       "      <td>3.0</td>\n",
       "      <td>공공/행정</td>\n",
       "      <td>등기 배달 예정 1</td>\n",
       "      <td>정보람 고객님 우체국입니다 오늘 등기우편물을 배달할 예정입니다 등기번호 운송장번호 ...</td>\n",
       "      <td>정보람 우체국 오늘 등기 우편물 배달하다 예정 등기 번호 운송장 번호 발송인 대전지...</td>\n",
       "      <td>정상-발송됨</td>\n",
       "      <td>n</td>\n",
       "      <td>60.0</td>\n",
       "    </tr>\n",
       "    <tr>\n",
       "      <th>31544</th>\n",
       "      <td>15.0</td>\n",
       "      <td>3.0</td>\n",
       "      <td>공공/행정</td>\n",
       "      <td>등기 배달 완료 1</td>\n",
       "      <td>참나무장작구이 고객님 우체국입니다 농협은행 주식회사 고객님이 보내신 등기우편물 등기...</td>\n",
       "      <td>참나무 장작 구이 우체국 농협 은행 주식회사 보내다 등기 우편물 등기 번호 회사 동...</td>\n",
       "      <td>정상-발송됨</td>\n",
       "      <td>n</td>\n",
       "      <td>61.0</td>\n",
       "    </tr>\n",
       "  </tbody>\n",
       "</table>\n",
       "</div>"
      ],
      "text/plain": [
       "       temp_id  sender_id category_name    temp_name  \\\n",
       "31535      1.0        2.0            기타          테스트   \n",
       "31536      7.0        3.0         공공/행정   택배 배달 예정 1   \n",
       "31537      8.0        3.0         공공/행정   택배 배달 완료 1   \n",
       "31538      9.0        3.0         공공/행정    등기 우체국 보관   \n",
       "31539     10.0        3.0         공공/행정  등기 재배달 안내 1   \n",
       "31540     11.0        3.0         공공/행정   택배 배달 완료 2   \n",
       "31541     12.0        3.0         공공/행정   택배 반송 안내 1   \n",
       "31542     13.0        3.0         공공/행정      택배 부재 1   \n",
       "31543     14.0        3.0         공공/행정   등기 배달 예정 1   \n",
       "31544     15.0        3.0         공공/행정   등기 배달 완료 1   \n",
       "\n",
       "                                            content_word  \\\n",
       "31535                       님이 보낸 등기 를 박덕민 회사동료 님께 배달 완료   \n",
       "31536  김은빈 고객님 우체국입니다 오늘 시부터 시 사이에 택배를 배달할 예정입니다 등기번호...   \n",
       "31537  신유리 고객님 우체국입니다 고객님이 님께 보내신 택배 등기번호 을 에 배달완료 하였...   \n",
       "31538  정혜민 고객님 우체국입니다 고객님이 부재중으로 등기우편물 등기번호 을 배달하지 못해...   \n",
       "31539  김현지 고객님 우체국입니다 고객님이 부재로 배달하지 못한 등기우편물 등기번호 을 년...   \n",
       "31540  윤영주 고객님 우체국입니다 폴샵 주 고객님이 발송한 택배 등기번호 을 경비원 경비원...   \n",
       "31541  주 다다글로벌 고객님 우체국입니다 고객님이 님께 보내신 택배 등기번호 가 에 반송되...   \n",
       "31542  박준영 고객님 우체국입니다 고객님이 님께 보내신 택배 등기번호 를 월 일 현재 님이...   \n",
       "31543  정보람 고객님 우체국입니다 오늘 등기우편물을 배달할 예정입니다 등기번호 운송장번호 ...   \n",
       "31544  참나무장작구이 고객님 우체국입니다 농협은행 주식회사 고객님이 보내신 등기우편물 등기...   \n",
       "\n",
       "                                      removed_sw_content target_yn group_yn  \\\n",
       "31535                           보내다 등기 를 박덕민 회사 동료 배달 완료  비정상-검수안됨        n   \n",
       "31536  김은빈 우체국 오늘 시 시 사이 택배 배달하다 예정 등기 번호 운송장 번호 발송인 ...    정상-발송됨        n   \n",
       "31537         신유리 우체국 보내다 택배 등기 번호 배달 완료 항상 우체국 이용하다 우체국    정상-발송됨        n   \n",
       "31538  정혜민 우체국 부재중 등기 우편물 등기 번호 배달하다 못하다 까다 우체국 보관 일 ...    정상-발송됨        n   \n",
       "31539  김현지 우체국 부재 배달하다 못하다 등기 우편물 등기 번호 년 월 일 재배 달하다 ...    정상-발송됨        n   \n",
       "31540  윤영주 우체국 폴샵 주 발송하다 택배 등기 번호 경비원 경비원 배달 완료 항상 우체...    정상-발송됨        n   \n",
       "31541                 주 다다 글로벌 우체국 보내다 택배 등기 번호 반송되다 우체국    정상-발송됨        n   \n",
       "31542  박준영 우체국 보내다 택배 등기 번호 를 월 일 현재 부재중 배달하다 못하다 문의 ...    정상-발송됨        n   \n",
       "31543  정보람 우체국 오늘 등기 우편물 배달하다 예정 등기 번호 운송장 번호 발송인 대전지...    정상-발송됨        n   \n",
       "31544  참나무 장작 구이 우체국 농협 은행 주식회사 보내다 등기 우편물 등기 번호 회사 동...    정상-발송됨        n   \n",
       "\n",
       "       parsed_len  \n",
       "31535        24.0  \n",
       "31536        58.0  \n",
       "31537        42.0  \n",
       "31538        80.0  \n",
       "31539        55.0  \n",
       "31540        56.0  \n",
       "31541        34.0  \n",
       "31542        57.0  \n",
       "31543        60.0  \n",
       "31544        61.0  "
      ]
     },
     "execution_count": 305,
     "metadata": {},
     "output_type": "execute_result"
    }
   ],
   "source": [
    "target_df = template_df[(~template_df.temp_id.isna()) & (template_df.parsed_len > 4)]\n",
    "content = target_df['removed_sw_content']\n",
    "print(len(target_df))\n",
    "print(len(content))\n",
    "target_df.head(10)"
   ]
  },
  {
   "cell_type": "code",
   "execution_count": 319,
   "metadata": {},
   "outputs": [
    {
     "data": {
      "text/plain": [
       "False"
      ]
     },
     "execution_count": 319,
     "metadata": {},
     "output_type": "execute_result"
    }
   ],
   "source": [
    "index_value = target_df.index.values.astype(int)\n",
    "1 in index_value"
   ]
  },
  {
   "cell_type": "code",
   "execution_count": 333,
   "metadata": {},
   "outputs": [
    {
     "name": "stdout",
     "output_type": "stream",
     "text": [
      "Number of non-empty vectors:  322497\n"
     ]
    }
   ],
   "source": [
    "LabeledSentence1 = gensim.models.doc2vec.TaggedDocument\n",
    "parsed_content = []\n",
    "j=0\n",
    "for doc in content:\n",
    "    if doc:\n",
    "        parsed_content.append(LabeledSentence1(doc, [j]))\n",
    "        j+=1\n",
    "        \n",
    "print(\"Number of non-empty vectors: \", j)\n"
   ]
  },
  {
   "cell_type": "code",
   "execution_count": 334,
   "metadata": {},
   "outputs": [
    {
     "data": {
      "text/plain": [
       "TaggedDocument(words='신유리 우체국 보내다 택배 등기 번호 배달 완료 항상 우체국 이용하다 우체국', tags=[2])"
      ]
     },
     "execution_count": 334,
     "metadata": {},
     "output_type": "execute_result"
    }
   ],
   "source": [
    "parsed_content[2]"
   ]
  },
  {
   "cell_type": "code",
   "execution_count": 335,
   "metadata": {},
   "outputs": [],
   "source": [
    "d2v_model = Doc2Vec(parsed_content\n",
    "                    , vector_size = 1000 # dimension 개수\n",
    "                    , window = 4\n",
    "                    , min_count = 20 # Ignores all words with total frequency lower than this.\n",
    "                    , workers=7\n",
    "                    , dm = 1\n",
    "                    , alpha=0.025 # 초기 학습율\n",
    "                    , min_alpha=0.001)"
   ]
  },
  {
   "cell_type": "code",
   "execution_count": 332,
   "metadata": {},
   "outputs": [
    {
     "data": {
      "text/plain": [
       "0.001"
      ]
     },
     "execution_count": 332,
     "metadata": {},
     "output_type": "execute_result"
    }
   ],
   "source": [
    "d2v_model.vocabulary.sample"
   ]
  },
  {
   "cell_type": "code",
   "execution_count": 106,
   "metadata": {},
   "outputs": [],
   "source": [
    "d2v_model.train(parsed_content\n",
    "                , total_examples=d2v_model.corpus_count\n",
    "                , epochs=10\n",
    "                , start_alpha=0.002\n",
    "                , end_alpha=-0.016)"
   ]
  },
  {
   "cell_type": "code",
   "execution_count": 371,
   "metadata": {
    "scrolled": true
   },
   "outputs": [
    {
     "name": "stdout",
     "output_type": "stream",
     "text": [
      "[[ 0.01418722  0.02763766 -0.02813783 ...  0.00944516 -0.00369253\n",
      "   0.00027142]\n",
      " [-0.02161486 -0.00957888  0.00493024 ...  0.09648965  0.01734921\n",
      "  -0.07026113]\n",
      " [ 0.00657448  0.01383674  0.01715095 ...  0.02362148  0.01656046\n",
      "  -0.05180318]\n",
      " ...\n",
      " [ 0.01063442  0.0386656  -0.11472552 ...  0.12951112  0.11673646\n",
      "  -0.01225045]\n",
      " [ 0.06971844  0.03151614 -0.10291107 ... -0.00337681  0.02810322\n",
      "   0.01489481]\n",
      " [-0.06411909  0.00564183  0.02418148 ...  0.05049546  0.00589383\n",
      "   0.01114459]]\n"
     ]
    },
    {
     "data": {
      "text/plain": [
       "(322497, 1000)"
      ]
     },
     "execution_count": 371,
     "metadata": {},
     "output_type": "execute_result"
    }
   ],
   "source": [
    "print(d2v_model.docvecs.vectors_docs)\n",
    "d2v_model.docvecs.vectors_docs.shape"
   ]
  },
  {
   "cell_type": "code",
   "execution_count": 372,
   "metadata": {},
   "outputs": [
    {
     "name": "stderr",
     "output_type": "stream",
     "text": [
      "/anaconda3/lib/python3.6/site-packages/gensim/matutils.py:737: FutureWarning: Conversion of the second argument of issubdtype from `int` to `np.signedinteger` is deprecated. In future, it will be treated as `np.int64 == np.dtype(int).type`.\n",
      "  if np.issubdtype(vec.dtype, np.int):\n"
     ]
    },
    {
     "name": "stdout",
     "output_type": "stream",
     "text": [
      "[(7873, 0.8152509927749634), (310978, 0.8061209917068481), (311556, 0.7958072423934937), (26, 0.793707013130188), (163330, 0.7920553088188171), (288523, 0.7905102968215942), (317580, 0.7901448011398315), (283024, 0.7888611555099487), (322374, 0.7879704236984253), (306610, 0.7876620292663574)]\n"
     ]
    }
   ],
   "source": [
    "print (d2v_model.docvecs.most_similar(2, topn=10))\n",
    "\n",
    "print(parsed_content[2])\n",
    "print(parsed_content[1])"
   ]
  },
  {
   "cell_type": "code",
   "execution_count": 363,
   "metadata": {},
   "outputs": [
    {
     "name": "stdout",
     "output_type": "stream",
     "text": [
      "TaggedDocument(words=['1', '2'], tags=[1])\n",
      "0\n"
     ]
    },
    {
     "data": {
      "text/plain": [
       "[1]"
      ]
     },
     "execution_count": 363,
     "metadata": {},
     "output_type": "execute_result"
    }
   ],
   "source": [
    "a = LabeledSentence1(words=[\"1\", \"2\"], tags=[1])\n",
    "\n",
    "print(repr(a))\n",
    "print(a.count(\"1\"))\n",
    "a.index([1])\n",
    "a.tags"
   ]
  }
 ],
 "metadata": {
  "kernelspec": {
   "display_name": "Python 3",
   "language": "python",
   "name": "python3"
  },
  "language_info": {
   "codemirror_mode": {
    "name": "ipython",
    "version": 3
   },
   "file_extension": ".py",
   "mimetype": "text/x-python",
   "name": "python",
   "nbconvert_exporter": "python",
   "pygments_lexer": "ipython3",
   "version": "3.6.5"
  }
 },
 "nbformat": 4,
 "nbformat_minor": 2
}
